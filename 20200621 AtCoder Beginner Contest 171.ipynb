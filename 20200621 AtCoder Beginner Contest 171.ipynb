{
 "cells": [
  {
   "cell_type": "code",
   "execution_count": null,
   "metadata": {},
   "outputs": [],
   "source": [
    "a = str(input())\n",
    "if a.islower():\n",
    "    print(\"a\")\n",
    "else:\n",
    "    print(\"A\")"
   ]
  },
  {
   "cell_type": "code",
   "execution_count": null,
   "metadata": {},
   "outputs": [],
   "source": [
    "import numpy as np\n",
    "n,k = (int(x) for x in input().split())\n",
    "p =np.sort( np.array([int(x) for x in input().split()]))\n",
    "print(np.sum(p[:k]))"
   ]
  },
  {
   "cell_type": "code",
   "execution_count": null,
   "metadata": {},
   "outputs": [],
   "source": [
    "n = int(input())\n",
    "i = 1\n",
    "str_list = [chr(i) for i in range(97, 97+26)]\n",
    "ans =str()\n",
    "\n",
    "while True:\n",
    "    if n- 26 **i <= 0:\n",
    "        break\n",
    "    n -= 26 ** i\n",
    "    i += 1\n",
    "    \n",
    "n -= 1\n",
    "\n",
    "for j in range(i):\n",
    "    ans = str_list[n%26] + ans\n",
    "    n //= 26\n",
    "\n",
    "print(ans)"
   ]
  },
  {
   "cell_type": "code",
   "execution_count": null,
   "metadata": {},
   "outputs": [],
   "source": [
    "import numpy as np\n",
    "n = int(input())\n",
    "a =np.array([int(x) for x in input().split()])\n",
    "q = int(input())\n",
    "bc = [map(int, input().split()) for _ in range(q)]\n",
    "b, c = [list(i) for i in zip(*bc)]\n",
    "\n",
    "for i in range(q):\n",
    "    a = np.where(a == b[i], c[i],a)\n",
    "    print(np.sum(a))"
   ]
  },
  {
   "cell_type": "code",
   "execution_count": null,
   "metadata": {},
   "outputs": [],
   "source": [
    "import numpy as np\n",
    "n = int(input())\n",
    "a =np.array([int(x) for x in input().split()])\n",
    "q = int(input())\n",
    "bc = [map(int, input().split()) for _ in range(q)]\n",
    "b, c = [list(i) for i in zip(*bc)]\n",
    "\n",
    "sum1 = np.sum(a[a>10**5])\n",
    "a = a[a<=10**5]\n",
    "for i in range(q):\n",
    "    a = np.sort(a)\n",
    "    ans = 0\n",
    "    for j in range(len(a)):\n",
    "        if a[j] == b[i]:\n",
    "            a[j] = c[i]\n",
    "        ans += a[j]\n",
    "    print(ans+sum1)"
   ]
  },
  {
   "cell_type": "code",
   "execution_count": null,
   "metadata": {},
   "outputs": [],
   "source": [
    "import numpy as np\n",
    "import collections\n",
    "\n",
    "n = int(input())\n",
    "a =np.array([int(x) for x in input().split()])\n",
    "q = int(input())\n",
    "bc = [map(int, input().split()) for _ in range(q)]\n",
    "b, c = [list(i) for i in zip(*bc)]\n",
    "\n",
    "count_dict = collections.Counter(a)\n",
    "ans = np.sum(a)\n",
    "for i in range(q):\n",
    "    if count_dict[b[i]] > 0:\n",
    "        ans += count_dict[b[i]]*(c[i]-b[i])\n",
    "        count_dict[c[i]] += count_dict[b[i]]\n",
    "        count_dict[b[i]] = 0\n",
    "    print(ans)"
   ]
  }
 ],
 "metadata": {
  "kernelspec": {
   "display_name": "Python 3",
   "language": "python",
   "name": "python3"
  },
  "language_info": {
   "codemirror_mode": {
    "name": "ipython",
    "version": 3
   },
   "file_extension": ".py",
   "mimetype": "text/x-python",
   "name": "python",
   "nbconvert_exporter": "python",
   "pygments_lexer": "ipython3",
   "version": "3.7.6"
  }
 },
 "nbformat": 4,
 "nbformat_minor": 4
}
