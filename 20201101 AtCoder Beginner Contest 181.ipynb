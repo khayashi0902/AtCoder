{
 "cells": [
  {
   "cell_type": "code",
   "execution_count": null,
   "metadata": {},
   "outputs": [],
   "source": [
    "n,k = (int(x) for x in input().split())\n",
    "\n",
    "import numpy as np\n",
    "a =np.array([int(x) for x in input().split()])\n",
    "\n",
    "l =[int(x) for x in input().split()]\n",
    "\n",
    "a = int(input())\n",
    "\n",
    "xyp = [map(int, input().split()) for _ in range(n)]\n",
    "x, y, p = [list(i) for i in zip(*xyp)]\n",
    "\n",
    "import numpy as np\n",
    "s = np.array([[c for c in input().strip()] for _ in range(h)])"
   ]
  },
  {
   "cell_type": "code",
   "execution_count": null,
   "metadata": {},
   "outputs": [],
   "source": []
  },
  {
   "cell_type": "code",
   "execution_count": 1,
   "metadata": {},
   "outputs": [
    {
     "name": "stdout",
     "output_type": "stream",
     "text": [
      "2\n",
      "White\n"
     ]
    }
   ],
   "source": [
    "n = int(input())\n",
    "if n%2==0:\n",
    "    print(\"White\")\n",
    "else:\n",
    "    print(\"Black\")"
   ]
  },
  {
   "cell_type": "code",
   "execution_count": 7,
   "metadata": {},
   "outputs": [
    {
     "name": "stdout",
     "output_type": "stream",
     "text": [
      "2\n",
      "1 3\n",
      "3 5\n",
      "6.0\n",
      "12.0\n",
      "18.0\n"
     ]
    }
   ],
   "source": [
    "n = int(input())\n",
    "ab = [map(int, input().split()) for _ in range(n)]\n",
    "#x, y, p = [list(i) for i in zip(*xyp)]\n",
    "ans = 0\n",
    "for i in zip(*ab):\n",
    "    a = i[0]\n",
    "    b = i[1]\n",
    "    ans += (b-a+1)*(a+b)//2\n",
    "print(ans)"
   ]
  },
  {
   "cell_type": "code",
   "execution_count": 9,
   "metadata": {
    "scrolled": true
   },
   "outputs": [
    {
     "data": {
      "text/plain": [
       "1"
      ]
     },
     "execution_count": 9,
     "metadata": {},
     "output_type": "execute_result"
    }
   ],
   "source": [
    "import sys\n",
    "from collections import Counter\n",
    "\n",
    "n = int(input())\n",
    "xy = [map(int, input().split()) for _ in range(n)]\n",
    "x, y = [list(i) for i in zip(*xy)]\n",
    "xC = Counter(x)\n",
    "yC = Counter(y)\n",
    "\n",
    "if xC.most_common()[0][1] > 2:\n",
    "    print(\"Yes\")\n",
    "    sys.exit()\n",
    "elif yC.most_common()[0][1] > 2:\n",
    "    print(\"Yes\")\n",
    "    sys.exit()\n",
    "\n",
    "for i in range(n-2):\n",
    "    for j in range(i+1,n-1):\n",
    "        for k in range(j+1,n):\n",
    "            #print(f\"x{x[i]},y{y[i]} \",end=\"\")\n",
    "            #print(f\"x{x[j]},y{y[j]} \",end=\"\")\n",
    "            #print(f\"x{x[k]},y{y[k]} \")\n",
    "            if y[i]-y[j] != 0 and y[k]-y[i] != 0 and x[i]-x[j] != 0 and x[k]-x[i] != 0:\n",
    "                print(y[i]-y[j],y[k]-y[i])\n",
    "                if x[i]-x[j]/y[i]-y[j] == x[k]-x[i]/y[k]-y[i]:\n",
    "                    print(\"Yes\")\n",
    "                    sys.exit()\n",
    "                \n",
    "print(\"No\")"
   ]
  },
  {
   "cell_type": "code",
   "execution_count": null,
   "metadata": {},
   "outputs": [],
   "source": [
    "import sys\n",
    "from collections import Counter\n",
    "\n",
    "s = input()\n",
    "\n",
    "if len(s)==1:\n",
    "    if s == 8:\n",
    "        print(\"Yes\")\n",
    "    else:\n",
    "        print(\"No\")\n",
    "elif len(s)==2:\n",
    "    if int(s) % 8 == 0:\n",
    "        print(\"Yes\")\n",
    "    elif int(s[::-1]) % 8 == 0:\n",
    "        print(\"Yes\")\n",
    "    else:\n",
    "        print(\"No\")\n",
    "else:#3桁以上\n",
    "    s_list =[int(s[i]) for i in range(len(s))]\n",
    "    c = Counter(s_list)\n",
    "    en = c[2]+c[4]+c[6]+c[8]\n",
    "    on = c[1]+c[3]+c[5]+c[7]+c[9]\n",
    "    if  en == 0:\n",
    "        print(\"No\")\n",
    "    else:\n",
    "        en -= 1\n",
    "        if c[2] > 0:\n",
    "            if (c[3] > 0 or c[7] > 0) and en > 0:\n",
    "                print(\"Yes\")\n",
    "                sys.exit()\n",
    "            if (c[1] > 0 or c[5] > 0 or c[9]>0 ) and on > 1:\n",
    "                print(\"Yes\")\n",
    "                sys.exit()\n",
    "        if c[4] > 0:\n",
    "            if (c[2]>0 or c[6]>0) and en > 1:\n",
    "                print(\"Yes\")\n",
    "                sys.exit()\n",
    "            if (c[4]>1 or c[8]>0) and on > 0:\n",
    "                print(\"Yes\")\n",
    "                sys.exit()\n",
    "        if c[6] > 0:\n",
    "            if (c[3] > 0 or c[7] > 0) and on > 1:\n",
    "                print(\"Yes\")\n",
    "                sys.exit()\n",
    "            if (c[1] > 0 or c[5] > 0 or c[9]>0 ) and en > 0:\n",
    "                print(\"Yes\")\n",
    "                sys.exit()\n",
    "        if c[8] > 0:\n",
    "            if (c[2]>0 or c[6]>0) and on > 0:\n",
    "                print(\"Yes\")\n",
    "                sys.exit()\n",
    "            if (c[4]>1 or c[8]>0) and en > 1:\n",
    "                print(\"Yes\")\n",
    "                sys.exit()\n",
    "        print(\"No\")"
   ]
  },
  {
   "cell_type": "code",
   "execution_count": 19,
   "metadata": {},
   "outputs": [
    {
     "name": "stdout",
     "output_type": "stream",
     "text": [
      "35457\n",
      "Counter({'1': 2, '2': 1})\n"
     ]
    }
   ],
   "source": [
    "from collections import Counter\n",
    "\n",
    "s = input()\n",
    "c = Counter(s)\n",
    "print(Counter(\"112\") - c)"
   ]
  },
  {
   "cell_type": "code",
   "execution_count": 15,
   "metadata": {},
   "outputs": [
    {
     "name": "stdout",
     "output_type": "stream",
     "text": [
      "5 3\n",
      "5 4 3 2\n",
      "4 3 2\n",
      "[2, 3, 4, 5]\n"
     ]
    }
   ],
   "source": [
    "n,m = (int(x) for x in input().split())\n",
    "h =[int(x) for x in input().split()]\n",
    "w =[int(x) for x in input().split()]\n",
    "h.sort()\n",
    "w.sort()\n",
    "for i in w:\n",
    "    n_h = h\n",
    "    n_h.append(i)\n",
    "    "
   ]
  },
  {
   "cell_type": "code",
   "execution_count": null,
   "metadata": {},
   "outputs": [],
   "source": []
  }
 ],
 "metadata": {
  "kernelspec": {
   "display_name": "Python 3",
   "language": "python",
   "name": "python3"
  },
  "language_info": {
   "codemirror_mode": {
    "name": "ipython",
    "version": 3
   },
   "file_extension": ".py",
   "mimetype": "text/x-python",
   "name": "python",
   "nbconvert_exporter": "python",
   "pygments_lexer": "ipython3",
   "version": "3.7.6"
  }
 },
 "nbformat": 4,
 "nbformat_minor": 4
}
