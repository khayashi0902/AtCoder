{
 "cells": [
  {
   "cell_type": "code",
   "execution_count": 5,
   "metadata": {},
   "outputs": [
    {
     "name": "stdout",
     "output_type": "stream",
     "text": [
      "10 10\n",
      "100\n"
     ]
    }
   ],
   "source": [
    "a,b=(int(x) for x in input().split())\n",
    "print(a*b)"
   ]
  },
  {
   "cell_type": "code",
   "execution_count": 22,
   "metadata": {},
   "outputs": [
    {
     "name": "stdout",
     "output_type": "stream",
     "text": [
      "31\n",
      "4 1 5 9 2 6 5 3 5 8 9 7 9 3 2 3 8 4 6 2 6 4 3 3 8 3 2 7 9 5 0\n",
      "0\n"
     ]
    }
   ],
   "source": [
    "N = int(input())\n",
    "l = [int(x) for x in input().split()]\n",
    "\n",
    "if 0 in l:\n",
    "    ans = 0\n",
    "else:\n",
    "    n = min(N,len(l))\n",
    "    ans = 1\n",
    "    for i in l[:n]:\n",
    "        ans *= i\n",
    "        if ans > 10**18:\n",
    "            ans = -1\n",
    "            bre\n",
    "print(ans)"
   ]
  },
  {
   "cell_type": "code",
   "execution_count": 27,
   "metadata": {},
   "outputs": [
    {
     "name": "stdout",
     "output_type": "stream",
     "text": [
      "1000000000000000 9.99\n",
      "9990000000000000\n"
     ]
    }
   ],
   "source": [
    "a,b=input().split()\n",
    "a = int(a)\n",
    "b = int(float(b)*1000)\n",
    "print(a*b//1000)"
   ]
  },
  {
   "cell_type": "code",
   "execution_count": 92,
   "metadata": {},
   "outputs": [
    {
     "name": "stdout",
     "output_type": "stream",
     "text": [
      "64\n",
      "3\n"
     ]
    }
   ],
   "source": [
    "import math\n",
    "def prime_factorize(n):\n",
    "    num_list = []\n",
    "    m = n\n",
    "    c = 0\n",
    "    for i in range(2,int(math.sqrt(n)) + 1):\n",
    "        print(i)\n",
    "        c += 1\n",
    "        if m % i == 0 and i not in num_list:\n",
    "            num_list.append(i)\n",
    "            m //= i\n",
    "            if m == 1:break                \n",
    "    return (num_list)\n",
    "\n",
    "N = int(input())\n",
    "print(len(l))"
   ]
  },
  {
   "cell_type": "code",
   "execution_count": null,
   "metadata": {},
   "outputs": [],
   "source": []
  }
 ],
 "metadata": {
  "kernelspec": {
   "display_name": "Python 3",
   "language": "python",
   "name": "python3"
  },
  "language_info": {
   "codemirror_mode": {
    "name": "ipython",
    "version": 3
   },
   "file_extension": ".py",
   "mimetype": "text/x-python",
   "name": "python",
   "nbconvert_exporter": "python",
   "pygments_lexer": "ipython3",
   "version": "3.7.6"
  }
 },
 "nbformat": 4,
 "nbformat_minor": 4
}
