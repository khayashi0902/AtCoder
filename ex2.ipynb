{
 "metadata": {
  "language_info": {
   "codemirror_mode": {
    "name": "ipython",
    "version": 3
   },
   "file_extension": ".py",
   "mimetype": "text/x-python",
   "name": "python",
   "nbconvert_exporter": "python",
   "pygments_lexer": "ipython3",
   "version": "3.7.6"
  },
  "orig_nbformat": 2,
  "kernelspec": {
   "name": "python376jvsc74a57bd003b5973216ace595f59713c0bd2ba56481296f7054ddf42ea26de7b56804d44d",
   "display_name": "Python 3.7.6 64-bit ('base': conda)"
  }
 },
 "nbformat": 4,
 "nbformat_minor": 2,
 "cells": [
  {
   "cell_type": "code",
   "execution_count": null,
   "metadata": {},
   "outputs": [],
   "source": [
    "n,k = (int(x) for x in input().split())\n",
    "\n",
    "import numpy as np\n",
    "a =np.array([int(x) for x in input().split()])\n",
    "\n",
    "l =[int(x) for x in input().split()]\n",
    "\n",
    "a = int(input())\n",
    "\n",
    "xyp = [map(int, input().split()) for _ in range(n)]\n",
    "x, y, p = [list(i) for i in zip(*xyp)]\n",
    "\n",
    "import numpy as np\n",
    "s = np.array([[c for c in input().strip()] for _ in range(h)])\n",
    "\n",
    "cd = [tuple(map(int, input().split())) for _ in range(k)]"
   ]
  },
  {
   "source": [
    "### ABC169 C問題"
   ],
   "cell_type": "markdown",
   "metadata": {}
  },
  {
   "cell_type": "code",
   "execution_count": 3,
   "metadata": {},
   "outputs": [
    {
     "output_type": "stream",
     "name": "stdout",
     "text": [
      "9990000000000000\n"
     ]
    }
   ],
   "source": [
    "from decimal import Decimal\n",
    "a,b = input().split()\n",
    "a = int(a)\n",
    "b = Decimal(b)\n",
    "print(int(a*b))"
   ]
  },
  {
   "source": [
    "### ABC169 D問題"
   ],
   "cell_type": "markdown",
   "metadata": {}
  },
  {
   "cell_type": "code",
   "execution_count": 24,
   "metadata": {},
   "outputs": [
    {
     "output_type": "stream",
     "name": "stdout",
     "text": [
      "7\n"
     ]
    }
   ],
   "source": [
    "from collections import Counter\n",
    "n = int(input())\n",
    "def prime_factorize(n):\n",
    "    a = []\n",
    "    while n % 2 == 0:\n",
    "        a.append(2)\n",
    "        n //= 2\n",
    "    f = 3\n",
    "    while f * f <= n:\n",
    "        if n % f == 0:\n",
    "            a.append(f)\n",
    "            n //= f\n",
    "        else:\n",
    "            f += 2\n",
    "    if n != 1:\n",
    "        a.append(n)\n",
    "    return a\n",
    "\n",
    "def sankakusuu(n):\n",
    "    ans = int((2*n)**0.5)\n",
    "    if ans*(ans+1) <= 2*n:\n",
    "        return ans\n",
    "    else:\n",
    "        return ans-1\n",
    "\n",
    "\n",
    "c = Counter(prime_factorize(n))\n",
    "ans = 0\n",
    "for v in c.values():\n",
    "    ans += sankakusuu(v)\n",
    "\n",
    "print(ans)"
   ]
  },
  {
   "cell_type": "code",
   "execution_count": 19,
   "metadata": {},
   "outputs": [
    {
     "output_type": "stream",
     "name": "stdout",
     "text": [
      "1 : 1\n2 : 1\n3 : 2\n4 : 2\n5 : 2\n6 : 3\n7 : 3\n8 : 3\n9 : 3\n10 : 4\n11 : 4\n12 : 4\n13 : 4\n14 : 4\n15 : 5\n16 : 5\n17 : 5\n18 : 5\n19 : 5\n20 : 5\n21 : 6\n"
     ]
    }
   ],
   "source": [
    "def sankakusuu(n):\n",
    "    ans = int((2*n)**0.5)\n",
    "    if ans*(ans+1) <= 2*n:\n",
    "        return ans\n",
    "    else:\n",
    "        return ans-1\n",
    "\n",
    "for i in range(1,22):\n",
    "    print(f\"{i} : {sankakusuu(i)}\")"
   ]
  },
  {
   "source": [
    "### ABC177(D問題)"
   ],
   "cell_type": "markdown",
   "metadata": {}
  },
  {
   "cell_type": "code",
   "execution_count": null,
   "metadata": {},
   "outputs": [],
   "source": [
    "class UnionFind():\n",
    "    def __init__(self, n):\n",
    "        self.n = n\n",
    "        self.parents = [-1] * n\n",
    "    def find(self, x):\n",
    "        if self.parents[x] < 0:\n",
    "            return x\n",
    "        else:\n",
    "            self.parents[x] = self.find(self.parents[x])\n",
    "            return self.parents[x]\n",
    "    ##xとyをつなげる\n",
    "    def union(self, x, y):\n",
    "        x = self.find(x)\n",
    "        y = self.find(y)\n",
    "        if x == y:\n",
    "            return\n",
    "        if self.parents[x] > self.parents[y]:\n",
    "            x, y = y, x\n",
    "        self.parents[x] += self.parents[y]\n",
    "        self.parents[y] = x\n",
    "    def size(self, x):\n",
    "        return -self.parents[self.find(x)]\n",
    "    def same(self, x, y):\n",
    "        return self.find(x) == self.find(y)\n",
    "    def members(self, x):\n",
    "        root = self.find(x)\n",
    "        return [i for i in range(self.n) if self.find(i) == root]\n",
    "    def roots(self):\n",
    "        return [i for i, x in enumerate(self.parents) if x < 0]\n",
    "    #グループの数をカウントする\n",
    "    def group_count(self):\n",
    "        return len(self.roots())\n",
    "    def all_group_members(self):\n",
    "        return {r: self.members(r) for r in self.roots()}\n",
    "    def __str__(self):\n",
    "        return '\\n'.join('{}: {}'.format(r, self.members(r)) for r in self.roots())\n",
    "\n",
    "n,m = map(int,input().split())\n",
    "U = UnionFind(n)\n",
    "for i in range(m):\n",
    "    a,b = map(int,input().split())\n",
    "    U.union(a-1,b-1)\n",
    "\n",
    "print(U.size(1))"
   ]
  }
 ]
}