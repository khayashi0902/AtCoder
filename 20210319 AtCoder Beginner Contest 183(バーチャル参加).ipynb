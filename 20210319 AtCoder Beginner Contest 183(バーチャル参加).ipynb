{
 "cells": [
  {
   "cell_type": "code",
   "execution_count": null,
   "metadata": {},
   "outputs": [],
   "source": [
    "n,k = (int(x) for x in input().split())\n",
    "\n",
    "import numpy as np\n",
    "a =np.array([int(x) for x in input().split()])\n",
    "\n",
    "l =[int(x) for x in input().split()]\n",
    "\n",
    "a = int(input())\n",
    "\n",
    "xyp = [map(int, input().split()) for _ in range(n)]\n",
    "x, y, p = [list(i) for i in zip(*xyp)]\n",
    "\n",
    "import numpy as np\n",
    "s = np.array([[c for c in input().strip()] for _ in range(h)])\n",
    "\n",
    "cd = [tuple(map(int, input().split())) for _ in range(k)]"
   ]
  },
  {
   "cell_type": "code",
   "execution_count": 3,
   "metadata": {},
   "outputs": [
    {
     "name": "stdout",
     "output_type": "stream",
     "text": [
      "-1\n",
      "0\n"
     ]
    }
   ],
   "source": [
    "x = int(input())\n",
    "if x >= 0:\n",
    "    print(x)\n",
    "else:\n",
    "    print(0)"
   ]
  },
  {
   "cell_type": "code",
   "execution_count": 9,
   "metadata": {},
   "outputs": [
    {
     "name": "stdout",
     "output_type": "stream",
     "text": [
      "-9 99 -999 9999\n",
      "-18.705882352941174\n"
     ]
    }
   ],
   "source": [
    "sx,sy,gx,gy = (int(x) for x in input().split())\n",
    "ans = (gx-sx)*(sy/(sy+gy))+sx\n",
    "print(ans)"
   ]
  },
  {
   "cell_type": "code",
   "execution_count": 22,
   "metadata": {},
   "outputs": [
    {
     "name": "stdout",
     "output_type": "stream",
     "text": [
      "(0, 1, 2)\n",
      "(0, 2, 1)\n",
      "(1, 0, 2)\n",
      "(1, 2, 0)\n",
      "(2, 0, 1)\n",
      "(2, 1, 0)\n",
      "[(0, 1, 2), (0, 2, 1), (1, 0, 2), (1, 2, 0), (2, 0, 1), (2, 1, 0)]\n"
     ]
    }
   ],
   "source": [
    "import itertools\n",
    "l = list(itertools.permutations(range(3)))\n",
    "for i in l:\n",
    "    print(i)\n",
    "print(list(itertools.permutations(range(3))))"
   ]
  },
  {
   "cell_type": "code",
   "execution_count": 23,
   "metadata": {},
   "outputs": [
    {
     "data": {
      "text/plain": [
       "100"
      ]
     },
     "execution_count": 23,
     "metadata": {},
     "output_type": "execute_result"
    }
   ],
   "source": [
    "t = [[0, 1, 10, 100], [1, 0, 20, 200], [10, 20, 0, 300], [100, 200, 300, 0]]\n",
    "t[0][-1]"
   ]
  },
  {
   "cell_type": "code",
   "execution_count": null,
   "metadata": {},
   "outputs": [],
   "source": [
    "import itertools\n",
    "n,k = (int(x) for x in input().split())\n",
    "t = [[int(c) for c in input().split()] for _ in range(n)]\n",
    "order = list(itertools.permutations(range(n-1)))\n",
    "ans = 0\n",
    "for o in order:\n",
    "    o = list(0) + [i+1 for i in o]\n",
    "    print(o)"
   ]
  },
  {
   "cell_type": "code",
   "execution_count": 10,
   "metadata": {},
   "outputs": [
    {
     "name": "stdout",
     "output_type": "stream",
     "text": [
      "4 330\n"
     ]
    },
    {
     "ename": "NameError",
     "evalue": "name 'h' is not defined",
     "output_type": "error",
     "traceback": [
      "\u001b[0;31m---------------------------------------------------------------------------\u001b[0m",
      "\u001b[0;31mNameError\u001b[0m                                 Traceback (most recent call last)",
      "\u001b[0;32m<ipython-input-10-cf6a15739a08>\u001b[0m in \u001b[0;36m<module>\u001b[0;34m\u001b[0m\n\u001b[1;32m      1\u001b[0m \u001b[0mn\u001b[0m\u001b[0;34m,\u001b[0m\u001b[0mk\u001b[0m \u001b[0;34m=\u001b[0m \u001b[0;34m(\u001b[0m\u001b[0mint\u001b[0m\u001b[0;34m(\u001b[0m\u001b[0mx\u001b[0m\u001b[0;34m)\u001b[0m \u001b[0;32mfor\u001b[0m \u001b[0mx\u001b[0m \u001b[0;32min\u001b[0m \u001b[0minput\u001b[0m\u001b[0;34m(\u001b[0m\u001b[0;34m)\u001b[0m\u001b[0;34m.\u001b[0m\u001b[0msplit\u001b[0m\u001b[0;34m(\u001b[0m\u001b[0;34m)\u001b[0m\u001b[0;34m)\u001b[0m\u001b[0;34m\u001b[0m\u001b[0;34m\u001b[0m\u001b[0m\n\u001b[0;32m----> 2\u001b[0;31m \u001b[0mt\u001b[0m \u001b[0;34m=\u001b[0m \u001b[0;34m[\u001b[0m\u001b[0;34m[\u001b[0m\u001b[0mc\u001b[0m \u001b[0;32mfor\u001b[0m \u001b[0mc\u001b[0m \u001b[0;32min\u001b[0m \u001b[0minput\u001b[0m\u001b[0;34m(\u001b[0m\u001b[0;34m)\u001b[0m\u001b[0;34m.\u001b[0m\u001b[0mstrip\u001b[0m\u001b[0;34m(\u001b[0m\u001b[0;34m)\u001b[0m\u001b[0;34m]\u001b[0m \u001b[0;32mfor\u001b[0m \u001b[0m_\u001b[0m \u001b[0;32min\u001b[0m \u001b[0mrange\u001b[0m\u001b[0;34m(\u001b[0m\u001b[0mh\u001b[0m\u001b[0;34m)\u001b[0m\u001b[0;34m]\u001b[0m\u001b[0;34m\u001b[0m\u001b[0;34m\u001b[0m\u001b[0m\n\u001b[0m\u001b[1;32m      3\u001b[0m \u001b[0mprint\u001b[0m\u001b[0;34m(\u001b[0m\u001b[0mt\u001b[0m\u001b[0;34m)\u001b[0m\u001b[0;34m\u001b[0m\u001b[0;34m\u001b[0m\u001b[0m\n",
      "\u001b[0;31mNameError\u001b[0m: name 'h' is not defined"
     ]
    }
   ],
   "source": [
    "import itertools\n",
    "n,k = (int(x) for x in input().split())\n",
    "t = [[int(c) for c in input().split() if c != \"0\"] for _ in range(n)]\n",
    "ans = 0\n",
    "for i in list(itertools.permutations(range(3))):\n",
    "    print(i)\n",
    "    a = 0\n",
    "    for index,j in enumerate(t):\n",
    "        a += j[i[index]]\n",
    "    if a == k:\n",
    "        ans += 1\n",
    "print(ans)"
   ]
  },
  {
   "cell_type": "code",
   "execution_count": null,
   "metadata": {},
   "outputs": [],
   "source": [
    "from itertools import accumulate\n",
    "\n",
    "n,w = (int(x) for x in input().split())\n",
    "stp = [map(int, input().split()) for _ in range(n)]\n",
    "s, t, p = [list(i) for i in zip(*stp)]\n",
    "\n",
    "l = [0 for _ in range(max(t)+1)]\n",
    "print(l)\n",
    "# for i in range(n):\n",
    "#     l[s[i]] += p\n",
    "#     l[t[i]] -= p\n",
    "    \n",
    "# ll = list(accumulate(l))\n",
    "# if max(ll) <= w:\n",
    "#     print(\"Yes\")\n",
    "# else:\n",
    "#     print(\"No\")"
   ]
  },
  {
   "cell_type": "code",
   "execution_count": null,
   "metadata": {},
   "outputs": [],
   "source": [
    "n,m,t = (int(x) for x in input().split())\n",
    "xyp = [map(int, input().split()) for _ in range(m)]\n",
    "a,b = [list(i) for i in zip(*xyp)]\n",
    "time = 0\n",
    "battery = n\n",
    "for i in range(m):\n",
    "    battery -= a[i]-time\n",
    "    if battery <= 0:\n",
    "        print(\"No\")\n",
    "        exit()\n",
    "    battery += b[i]-a[i]\n",
    "    if battery > n:\n",
    "        battery = n\n",
    "    time = b[i]\n",
    "battery -= t-time\n",
    "if battery <= 0:\n",
    "    print(\"No\")\n",
    "else:\n",
    "    print(\"Yes\")"
   ]
  },
  {
   "cell_type": "code",
   "execution_count": 5,
   "metadata": {},
   "outputs": [
    {
     "name": "stdout",
     "output_type": "stream",
     "text": [
      "12\n",
      "1\n"
     ]
    }
   ],
   "source": [
    "from scipy.special import comb\n",
    "l = int(input())\n",
    "base = comb(l-1, 11, exact=True)\n",
    "print(base)"
   ]
  },
  {
   "cell_type": "code",
   "execution_count": 24,
   "metadata": {},
   "outputs": [
    {
     "name": "stdout",
     "output_type": "stream",
     "text": [
      "13 3\n",
      "13 3 9\n",
      "2\n",
      "[5 3 2]\n",
      "6\n"
     ]
    }
   ],
   "source": [
    "import numpy as np\n",
    "import math\n",
    "n,m = (int(x) for x in input().split())\n",
    "if m == 0:\n",
    "    print(1)\n",
    "    exit()\n",
    "a =np.array([int(x) for x in input().split()])\n",
    "sorted_a = np.sort(a)\n",
    "diff = np.diff(sorted_a)-1\n",
    "diff = np.append(diff,[sorted_a[0]-1,n-sorted_a[-1]])\n",
    "diff = diff[diff > 0]\n",
    "if len(diff) == 0:\n",
    "    print(0)\n",
    "    exit()\n",
    "min_num = np.amin(diff)\n",
    "# print(min_num)\n",
    "# print(diff)\n",
    "print(sum([math.ceil(i/min_num) for i in diff]))"
   ]
  },
  {
   "cell_type": "code",
   "execution_count": null,
   "metadata": {},
   "outputs": [],
   "source": []
  }
 ],
 "metadata": {
  "kernelspec": {
   "display_name": "Python 3",
   "language": "python",
   "name": "python3"
  },
  "language_info": {
   "codemirror_mode": {
    "name": "ipython",
    "version": 3
   },
   "file_extension": ".py",
   "mimetype": "text/x-python",
   "name": "python",
   "nbconvert_exporter": "python",
   "pygments_lexer": "ipython3",
   "version": "3.7.6"
  }
 },
 "nbformat": 4,
 "nbformat_minor": 4
}
