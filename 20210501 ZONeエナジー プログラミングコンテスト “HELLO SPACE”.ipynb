{
 "metadata": {
  "language_info": {
   "codemirror_mode": {
    "name": "ipython",
    "version": 3
   },
   "file_extension": ".py",
   "mimetype": "text/x-python",
   "name": "python",
   "nbconvert_exporter": "python",
   "pygments_lexer": "ipython3",
   "version": "3.7.6"
  },
  "orig_nbformat": 2,
  "kernelspec": {
   "name": "python376jvsc74a57bd003b5973216ace595f59713c0bd2ba56481296f7054ddf42ea26de7b56804d44d",
   "display_name": "Python 3.7.6 64-bit ('base': conda)"
  }
 },
 "nbformat": 4,
 "nbformat_minor": 2,
 "cells": [
  {
   "cell_type": "code",
   "execution_count": null,
   "metadata": {},
   "outputs": [],
   "source": [
    "n,k = (int(x) for x in input().split())\n",
    "\n",
    "import numpy as np\n",
    "a =np.array([int(x) for x in input().split()])\n",
    "\n",
    "l =[int(x) for x in input().split()]\n",
    "\n",
    "a = int(input())\n",
    "\n",
    "xyp = [map(int, input().split()) for _ in range(n)]\n",
    "x, y, p = [list(i) for i in zip(*xyp)]\n",
    "\n",
    "import numpy as np\n",
    "s = np.array([[c for c in input().strip()] for _ in range(h)])\n",
    "\n",
    "cd = [tuple(map(int, input().split())) for _ in range(k)]"
   ]
  },
  {
   "cell_type": "code",
   "execution_count": null,
   "metadata": {},
   "outputs": [],
   "source": [
    "n = int(input())\n",
    "if :\n",
    "    print(\"Yes\")\n",
    "else:\n",
    "    print(\"No\")"
   ]
  },
  {
   "cell_type": "code",
   "execution_count": null,
   "metadata": {},
   "outputs": [
    {
     "output_type": "error",
     "ename": "Error",
     "evalue": "Pip module Unable to parse debugpy output, please log an issue with https://github.com/microsoft/vscode-jupyter is required for debugging cells. You will need to install it to debug cells.",
     "traceback": [
      "Error: Pip module Unable to parse debugpy output, please log an issue with https://github.com/microsoft/vscode-jupyter is required for debugging cells. You will need to install it to debug cells.",
      "at b.parseConnectInfo (/Users/hayashiken/.vscode/extensions/ms-toolsai.jupyter-2021.5.745244803/out/client/extension.js:49:478177)",
      "at b.connectToLocal (/Users/hayashiken/.vscode/extensions/ms-toolsai.jupyter-2021.5.745244803/out/client/extension.js:49:478704)",
      "at async b.connect (/Users/hayashiken/.vscode/extensions/ms-toolsai.jupyter-2021.5.745244803/out/client/extension.js:49:476581)",
      "at async b.startDebugSession (/Users/hayashiken/.vscode/extensions/ms-toolsai.jupyter-2021.5.745244803/out/client/extension.js:49:475728)",
      "at async T.submitCode (/Users/hayashiken/.vscode/extensions/ms-toolsai.jupyter-2021.5.745244803/out/client/extension.js:32:663261)",
      "at async T.handleRunByLine (/Users/hayashiken/.vscode/extensions/ms-toolsai.jupyter-2021.5.745244803/out/client/extension.js:32:651205)"
     ]
    }
   ],
   "source": [
    "s = input()\n",
    "print(s.count(\"ZONe\"))"
   ]
  },
  {
   "cell_type": "code",
   "execution_count": null,
   "metadata": {},
   "outputs": [],
   "source": [
    "N,D,H = (int(x) for x in input().split())\n",
    "dh = [map(int, input().split()) for _ in range(n)]\n",
    "d,h = [list(i) for i in zip(*dh)]\n",
    "k = 0\n",
    "for i in range(n):\n",
    "    kk = (H-h[i])/(D-d[i])\n",
    "    if k < kk:\n",
    "        k = kk\n",
    "print(10-k*D)\n"
   ]
  },
  {
   "cell_type": "code",
   "execution_count": null,
   "metadata": {},
   "outputs": [],
   "source": [
    "from collections import deque\n",
    "s = input()\n",
    "t = deque(list())\n",
    "flag = 1\n",
    "for i in range(len(s)):\n",
    "    if s[i] == \"R\":\n",
    "        flag *= -1\n",
    "    else:\n",
    "        if flag == 1:\n",
    "            if len(t) != 0 and s[i] == t[-1]:\n",
    "                t.pop()\n",
    "            else:\n",
    "                t.append(s[i])\n",
    "        else:\n",
    "            if len(t) != 0 and s[i] == t[0]:\n",
    "                t.popleft()\n",
    "            else:\n",
    "                t.appendleft(s[i])\n",
    "if flag == -1:\n",
    "    t.reverse()\n",
    "print(\"\".join(t))"
   ]
  },
  {
   "cell_type": "code",
   "execution_count": 9,
   "metadata": {},
   "outputs": [
    {
     "output_type": "error",
     "ename": "ValueError",
     "evalue": "invalid literal for int() with base 10: ''",
     "traceback": [
      "\u001b[0;31m---------------------------------------------------------------------------\u001b[0m",
      "\u001b[0;31mValueError\u001b[0m                                Traceback (most recent call last)",
      "\u001b[0;32m<ipython-input-9-aca1c38644e1>\u001b[0m in \u001b[0;36m<module>\u001b[0;34m\u001b[0m\n\u001b[1;32m      1\u001b[0m \u001b[0;32mimport\u001b[0m \u001b[0mitertools\u001b[0m\u001b[0;34m\u001b[0m\u001b[0;34m\u001b[0m\u001b[0m\n\u001b[0;32m----> 2\u001b[0;31m \u001b[0mn\u001b[0m \u001b[0;34m=\u001b[0m \u001b[0mint\u001b[0m\u001b[0;34m(\u001b[0m\u001b[0minput\u001b[0m\u001b[0;34m(\u001b[0m\u001b[0;34m)\u001b[0m\u001b[0;34m)\u001b[0m\u001b[0;34m\u001b[0m\u001b[0;34m\u001b[0m\u001b[0m\n\u001b[0m\u001b[1;32m      3\u001b[0m \u001b[0mabcde\u001b[0m \u001b[0;34m=\u001b[0m \u001b[0;34m[\u001b[0m\u001b[0mmap\u001b[0m\u001b[0;34m(\u001b[0m\u001b[0mint\u001b[0m\u001b[0;34m,\u001b[0m \u001b[0minput\u001b[0m\u001b[0;34m(\u001b[0m\u001b[0;34m)\u001b[0m\u001b[0;34m.\u001b[0m\u001b[0msplit\u001b[0m\u001b[0;34m(\u001b[0m\u001b[0;34m)\u001b[0m\u001b[0;34m)\u001b[0m \u001b[0;32mfor\u001b[0m \u001b[0m_\u001b[0m \u001b[0;32min\u001b[0m \u001b[0mrange\u001b[0m\u001b[0;34m(\u001b[0m\u001b[0mn\u001b[0m\u001b[0;34m)\u001b[0m\u001b[0;34m]\u001b[0m\u001b[0;34m\u001b[0m\u001b[0;34m\u001b[0m\u001b[0m\n\u001b[1;32m      4\u001b[0m \u001b[0ma\u001b[0m\u001b[0;34m,\u001b[0m\u001b[0mb\u001b[0m\u001b[0;34m,\u001b[0m\u001b[0mc\u001b[0m\u001b[0;34m,\u001b[0m\u001b[0md\u001b[0m\u001b[0;34m,\u001b[0m\u001b[0me\u001b[0m \u001b[0;34m=\u001b[0m \u001b[0;34m[\u001b[0m\u001b[0mlist\u001b[0m\u001b[0;34m(\u001b[0m\u001b[0mi\u001b[0m\u001b[0;34m)\u001b[0m \u001b[0;32mfor\u001b[0m \u001b[0mi\u001b[0m \u001b[0;32min\u001b[0m \u001b[0mzip\u001b[0m\u001b[0;34m(\u001b[0m\u001b[0;34m*\u001b[0m\u001b[0mabcde\u001b[0m\u001b[0;34m)\u001b[0m\u001b[0;34m]\u001b[0m\u001b[0;34m\u001b[0m\u001b[0;34m\u001b[0m\u001b[0m\n\u001b[1;32m      5\u001b[0m \u001b[0mpower\u001b[0m \u001b[0;34m=\u001b[0m \u001b[0;36m0\u001b[0m\u001b[0;34m\u001b[0m\u001b[0;34m\u001b[0m\u001b[0m\n",
      "\u001b[0;31mValueError\u001b[0m: invalid literal for int() with base 10: ''"
     ]
    }
   ],
   "source": [
    "import itertools\n",
    "n = int(input())\n",
    "abcde = [map(int, input().split()) for _ in range(n)]\n",
    "a,b,c,d,e = [list(i) for i in zip(*abcde)]\n",
    "power = 0\n",
    "for i,j,k in itertools.combinations(range(n), 3):\n",
    "    pp = min(max(a[i],a[j],a[k]),max(b[i],b[j],b[k]),max(c[i],c[j],c[k]),max(d[i],d[j],d[k]),max(e[i],e[j],e[k]))\n",
    "    if power < pp:\n",
    "        power = pp\n",
    "print(power)"
   ]
  },
  {
   "cell_type": "code",
   "execution_count": null,
   "metadata": {},
   "outputs": [],
   "source": [
    "import itertools\n",
    "n = int(input())\n",
    "abcde = [map(int, input().split()) for _ in range(n)]\n",
    "a,b,c,d,e = [list(i) for i in zip(*abcde)]\n",
    "power = 0\n",
    "for i in range(n-2):\n",
    "    pp = [a[i],b[i],c[i],d[i],e[i]]\n",
    "    for j in range(i+1,n-1):\n",
    "        if \n",
    "        for k in range(j+1,n):\n",
    "\n",
    "\n",
    "\n",
    "\n",
    "\n",
    "\n",
    "\n",
    "print(power)"
   ]
  },
  {
   "cell_type": "code",
   "execution_count": null,
   "metadata": {},
   "outputs": [],
   "source": [
    "import itertools\n",
    "import numpy as np\n",
    "n = int(input())\n",
    "abcde = np.array([list(map(int, input().split())) for _ in range(n)])\n",
    "\n",
    "def check(x):\n",
    "    s = list()\n",
    "    c = abcde > x \n",
    "    for i in c:\n",
    "        if np.count_nonzero(i)>=0:\n",
    "            s.append(i)\n",
    "    \n",
    "    for i,j,k in itertools.combinations(s, 3):\n",
    "        if (c[i,0] or c[j,0] or c[k,0]) and (c[i,1] or c[j,1] or c[k,1]) and (c[i,2] or c[j,2] or c[k,2]) and (c[i,3] or c[j,3] or c[k,3]) and (c[i,4] or c[j,4] or c[k,4]):\n",
    "            return True\n",
    "    return False\n",
    "\n",
    "\n",
    "right = np.max(abcde)\n",
    "left = np.min(abcde)\n",
    "while right>left:\n",
    "    middle = (left+right+1)//2\n",
    "    if check(middle):\n",
    "        left = middle\n",
    "    else:\n",
    "        right = middle-1\n",
    "\n",
    "print(left)"
   ]
  },
  {
   "cell_type": "code",
   "execution_count": 8,
   "metadata": {},
   "outputs": [
    {
     "output_type": "error",
     "ename": "TypeError",
     "evalue": "data type not understood",
     "traceback": [
      "\u001b[0;31m---------------------------------------------------------------------------\u001b[0m",
      "\u001b[0;31mTypeError\u001b[0m                                 Traceback (most recent call last)",
      "\u001b[0;32m<ipython-input-8-c9b816a8bf15>\u001b[0m in \u001b[0;36m<module>\u001b[0;34m\u001b[0m\n\u001b[1;32m      1\u001b[0m \u001b[0;32mimport\u001b[0m \u001b[0mnumpy\u001b[0m \u001b[0;32mas\u001b[0m \u001b[0mnp\u001b[0m\u001b[0;34m\u001b[0m\u001b[0;34m\u001b[0m\u001b[0m\n\u001b[0;32m----> 2\u001b[0;31m \u001b[0ma\u001b[0m \u001b[0;34m=\u001b[0m \u001b[0mnp\u001b[0m\u001b[0;34m.\u001b[0m\u001b[0marray\u001b[0m\u001b[0;34m(\u001b[0m\u001b[0;34m[\u001b[0m\u001b[0;36m1\u001b[0m\u001b[0;34m,\u001b[0m\u001b[0;36m2\u001b[0m\u001b[0;34m]\u001b[0m\u001b[0;34m,\u001b[0m\u001b[0;34m[\u001b[0m\u001b[0;36m3\u001b[0m\u001b[0;34m,\u001b[0m\u001b[0;36m4\u001b[0m\u001b[0;34m]\u001b[0m\u001b[0;34m)\u001b[0m\u001b[0;34m\u001b[0m\u001b[0;34m\u001b[0m\u001b[0m\n\u001b[0m\u001b[1;32m      3\u001b[0m \u001b[0mprint\u001b[0m\u001b[0;34m(\u001b[0m\u001b[0ma\u001b[0m\u001b[0;34m[\u001b[0m\u001b[0;36m0\u001b[0m\u001b[0;34m,\u001b[0m\u001b[0;36m1\u001b[0m\u001b[0;34m]\u001b[0m\u001b[0;34m)\u001b[0m\u001b[0;34m\u001b[0m\u001b[0;34m\u001b[0m\u001b[0m\n",
      "\u001b[0;31mTypeError\u001b[0m: data type not understood"
     ]
    }
   ],
   "source": [
    "import itertools\n",
    "import numpy as np\n",
    "n = int(input())\n",
    "#n = 3000\n",
    "abcde = np.array([np.array([int(x) for x in input().split()]) for _ in range(n)])\n",
    "#abcde = [np.array([i for i in range(n)]) for _ in range(5)]\n",
    "#a,b,c,d,e = abcde[0],abcde[1],abcde[2],abcde[3],abcde[4]\n",
    "power = 0\n",
    "for i,j in itertools.combinations(range(n), 2):\n",
    "    #continue\n",
    "    pp = [max(abcde[i,0],abcde[j,0]),max(abcde[i,0],b[j]),max(c[i],c[j]),max(d[i],d[j]),max(e[i],e[j])]\n",
    "    ppp = min(pp)\n",
    "    for k in [index for index, x in enumerate(pp) if x == ppp]:\n",
    "        \n",
    "    if power < pp:\n",
    "        power = pp\n",
    "print(power)"
   ]
  },
  {
   "cell_type": "code",
   "execution_count": null,
   "metadata": {},
   "outputs": [],
   "source": [
    "r,c = (int(x) for x in input().split())\n",
    "a = [[int(x) for x in input().split()] for _ in range(r)]\n",
    "b = [[int(x) for x in input().split()] for _ in range(r-1)]\n"
   ]
  },
  {
   "cell_type": "code",
   "execution_count": null,
   "metadata": {},
   "outputs": [],
   "source": []
  },
  {
   "cell_type": "code",
   "execution_count": null,
   "metadata": {},
   "outputs": [],
   "source": []
  }
 ]
}