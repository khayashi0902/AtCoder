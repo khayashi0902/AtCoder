{
 "metadata": {
  "language_info": {
   "codemirror_mode": {
    "name": "ipython",
    "version": 3
   },
   "file_extension": ".py",
   "mimetype": "text/x-python",
   "name": "python",
   "nbconvert_exporter": "python",
   "pygments_lexer": "ipython3",
   "version": "3.7.6"
  },
  "orig_nbformat": 2,
  "kernelspec": {
   "name": "python376jvsc74a57bd003b5973216ace595f59713c0bd2ba56481296f7054ddf42ea26de7b56804d44d",
   "display_name": "Python 3.7.6 64-bit ('base': conda)"
  }
 },
 "nbformat": 4,
 "nbformat_minor": 2,
 "cells": [
  {
   "cell_type": "code",
   "execution_count": null,
   "metadata": {},
   "outputs": [],
   "source": [
    "n,k = (int(x) for x in input().split())\n",
    "\n",
    "import numpy as np\n",
    "a =np.array([int(x) for x in input().split()])\n",
    "\n",
    "l =[int(x) for x in input().split()]\n",
    "\n",
    "a = int(input())\n",
    "\n",
    "xyp = [map(int, input().split()) for _ in range(n)]\n",
    "x, y, p = [list(i) for i in zip(*xyp)]\n",
    "\n",
    "import numpy as np\n",
    "s = np.array([[c for c in input().strip()] for _ in range(h)])\n",
    "\n",
    "cd = [tuple(map(int, input().split())) for _ in range(k)]"
   ]
  },
  {
   "cell_type": "code",
   "execution_count": 2,
   "metadata": {},
   "outputs": [
    {
     "output_type": "stream",
     "name": "stdout",
     "text": [
      "6\n"
     ]
    }
   ],
   "source": [
    "a,b,c = (int(x) for x in input().split())\n",
    "print(21-a-b-c)"
   ]
  },
  {
   "cell_type": "code",
   "execution_count": 13,
   "metadata": {},
   "outputs": [
    {
     "output_type": "stream",
     "name": "stdout",
     "text": [
      "01010\n"
     ]
    }
   ],
   "source": [
    "s = input()\n",
    "ans = []\n",
    "for i in s:\n",
    "    if i ==\"0\" or i == \"1\" or i == \"8\":\n",
    "        ans.append(i)\n",
    "    elif i == \"6\":\n",
    "        ans.append(\"9\")\n",
    "    elif i == \"9\":\n",
    "        ans.append(\"6\")\n",
    "print(\"\".join(ans[::-1]))\n"
   ]
  },
  {
   "cell_type": "code",
   "execution_count": null,
   "metadata": {},
   "outputs": [],
   "source": [
    "from collections import Counter\n",
    "from collections import defaultdict\n",
    "\n",
    "n = int(input())\n",
    "a =[int(x) for x in input().split()]\n",
    "b =[int(x) for x in input().split()]\n",
    "c =[int(x) for x in input().split()]\n",
    "d = defaultdict(int) #dを初期化\n",
    "for c_ in c:\n",
    "    d[b[c_-1]] += 1\n",
    "\n",
    "ans = 0\n",
    "for k,v in d.items():\n",
    "    ans += v * a.count(k)\n",
    "print(ans)"
   ]
  },
  {
   "cell_type": "code",
   "execution_count": null,
   "metadata": {},
   "outputs": [],
   "source": [
    "from collections import Counter\n",
    "n = int(input())\n",
    "a =[int(x) for x in input().split()]\n",
    "b =[int(x) for x in input().split()]\n",
    "c =[int(x) for x in input().split()]\n",
    "b_cj = list()\n",
    "for c_ in c:\n",
    "    b_cj.append(b[c_-1])\n",
    "b_cj_counter = Counter(b_cj)\n",
    "ans = 0\n",
    "for k,v in b_cj_counter.items():\n",
    "    ans += v * a.count(k)\n",
    "print(ans)"
   ]
  },
  {
   "cell_type": "code",
   "execution_count": null,
   "metadata": {},
   "outputs": [],
   "source": [
    "from collections import Counter\n",
    "from collections import defaultdict\n",
    "\n",
    "# n = int(input())\n",
    "# a =[int(x) for x in input().split()]\n",
    "# b =[int(x) for x in input().split()]\n",
    "# c =[int(x) for x in input().split()] \n",
    "n = 10 ** 5\n",
    "a = [i+1 for i in range(10**5)]\n",
    "b = [i+1 for i in range(10**5)]\n",
    "c = [i+1 for i in range(10**5)]\n",
    "d = defaultdict(int) #dを初期化\n",
    "for c_ in c:\n",
    "    d[b[c_-1]] += 1\n",
    "\n",
    "ans = 0\n",
    "a_counter = Counter(a)\n",
    "\n",
    "for k,v in d.items():\n",
    "    ans += v * a_counter[k]\n",
    "\n",
    "print(ans)"
   ]
  },
  {
   "cell_type": "code",
   "execution_count": null,
   "metadata": {},
   "outputs": [],
   "source": [
    "import numpy\n",
    "n = int(input())\n",
    "a =[int(x) for x in input().split()]\n",
    "b =np.array([int(x) for x in input().split()])\n",
    "c =[int(x) for x in input().split()] \n",
    "ans = 0\n",
    "for i in range(1,n+1):\n",
    "    bb = np.where(b == i)\n",
    "    num = 0\n",
    "    for j in bb:\n",
    "        num += c.count(j)\n",
    "    ans += a.count(i) * len(bb) * num\n",
    "print(ans)"
   ]
  },
  {
   "cell_type": "code",
   "execution_count": null,
   "metadata": {},
   "outputs": [],
   "source": [
    "import numpy as np\n",
    "n = int(input())\n",
    "a =[int(x) for x in input().split()]\n",
    "b =np.array([int(x) for x in input().split()])\n",
    "c =[int(x) for x in input().split()] \n",
    "ans = 0\n",
    "for i in range(1,n+1):\n",
    "    bb = np.where(b == i)\n",
    "    if len(bb) > 0:\n",
    "        num = 0\n",
    "        for j in list(bb)[0]:\n",
    "            #print(j)\n",
    "            num += c.count(j+1)\n",
    "        ans += a.count(i) * len(bb) * num\n",
    "print(ans)"
   ]
  },
  {
   "source": [
    "C問題できた"
   ],
   "cell_type": "markdown",
   "metadata": {}
  },
  {
   "cell_type": "code",
   "execution_count": null,
   "metadata": {},
   "outputs": [],
   "source": [
    "from collections import Counter\n",
    "from collections import defaultdict\n",
    "\n",
    "n = int(input())\n",
    "a =[int(x) for x in input().split()]\n",
    "b =[int(x) for x in input().split()]\n",
    "c =[int(x) for x in input().split()] \n",
    "# n = 10 ** 5\n",
    "# a = [i+1 for i in range(10**5)]\n",
    "# b = [i+1 for i in range(10**5)]\n",
    "# c = [1 for i in range(10**5)]\n",
    "d = defaultdict(int) #dを初期化\n",
    "c_counter = Counter(c)\n",
    "for k,v in c_counter.items():\n",
    "    d[b[k]] += v\n",
    "\n",
    "ans = 0\n",
    "a_counter = Counter(a)\n",
    "\n",
    "for k,v in d.items():\n",
    "    ans += v * a_counter[k]\n",
    "\n",
    "print(ans)"
   ]
  },
  {
   "cell_type": "code",
   "execution_count": null,
   "metadata": {},
   "outputs": [],
   "source": [
    "from scipy.special import comb\n",
    "\n",
    "a,b,k = (int(x) for x in input().split())\n",
    "\n",
    "def count_(n,s,a): # aが先頭にnコの組み合わせの数\n",
    "    return comb(s-n, a-n, exact=True)\n",
    "\n",
    "def solve(k,a,s):\n",
    "    for i in range(a,-1,-1):\n",
    "        if k-count_(i,s,a)<0:\n",
    "            ans += \"a\" + \"b\"\n",
    "            solve(k,a-i,s-i-1)\n",
    "        else:\n",
    "            k -= count_(i,s,a)\n",
    "            ans += \"a\"\n",
    "\n",
    "ans = \"\"\n",
    "print(solve(k,a,a+b))"
   ]
  },
  {
   "cell_type": "code",
   "execution_count": null,
   "metadata": {},
   "outputs": [],
   "source": [
    "from scipy.special import comb\n",
    "\n",
    "a,b,k = (int(x) for x in input().split())\n",
    "\n",
    "allcount = comb(a+b,a,exact=True)#組み合わせの総数\n",
    "ans = \"\"\n",
    "\n",
    "for i in range(a+b):\n",
    "    if k <= comb(a+b-i,a-i,exact=True):#comb(a+b-i,a-i):先頭i文字がaの組み合わせ\n",
    "        ans += \"a\"\n",
    "    else:\n",
    "        ans += \"b\"\n",
    "\n",
    "\n",
    "\n",
    "def count_(n,s,a): # aが先頭にnコの組み合わせの数\n",
    "    return comb(s-n, a-n, exact=True)"
   ]
  },
  {
   "cell_type": "code",
   "execution_count": 120,
   "metadata": {
    "tags": []
   },
   "outputs": [
    {
     "output_type": "stream",
     "name": "stdout",
     "text": [
      "bbbbbbbbbbbbbbbbbbbbbbbbbbbbbbaaaaaaaaaaaaaaaaaaaaaaaaaaaaaa\n"
     ]
    }
   ],
   "source": [
    "from scipy.special import comb\n",
    "\n",
    "A,B,K = (int(x) for x in input().split())\n",
    "ans = \"\"\n",
    "\n",
    "def solve(a,b,k):\n",
    "    global ans\n",
    "    if a==1 and b==1:\n",
    "        if k==1:\n",
    "            ans += \"ab\"\n",
    "            return ans\n",
    "        else:\n",
    "            ans += \"ba\"\n",
    "            return ans\n",
    "    for i in range(a,-1,-1): #連続i個aが先頭の個数\n",
    "        if k < comb(a+b-i,a-i,exact=True):\n",
    "            ans += \"a\"*i+\"b\"\n",
    "            solve(a-i,b-1,k-comb(a+b-i-1,a-i-1,exact=True))\n",
    "            break\n",
    "        elif k == comb(a+b-i,a-i,exact=True):\n",
    "            ans += \"a\"*i + \"b\"*b + \"a\"*(a-i)\n",
    "            return ans\n",
    "    return ans\n",
    "\n",
    "print(solve(A,B,K))"
   ]
  }
 ]
}