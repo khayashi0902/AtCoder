{
 "cells": [
  {
   "cell_type": "code",
   "execution_count": null,
   "metadata": {},
   "outputs": [],
   "source": [
    "n,k = (int(x) for x in input().split())\n",
    "\n",
    "import numpy as np\n",
    "a =np.array([int(x) for x in input().split()])\n",
    "\n",
    "l =[int(x) for x in input().split()]\n",
    "\n",
    "a = int(input())\n",
    "\n",
    "xyp = [map(int, input().split()) for _ in range(n)]\n",
    "x, y, p = [list(i) for i in zip(*xyp)]\n",
    "\n",
    "import numpy as np\n",
    "s = np.array([[c for c in input().strip()] for _ in range(h)])\n",
    "\n",
    "cd = [tuple(map(int, input().split())) for _ in range(k)]"
   ]
  },
  {
   "cell_type": "code",
   "execution_count": null,
   "metadata": {},
   "outputs": [],
   "source": [
    "import sys\n",
    "from collections import deque\n",
    "n = int(input())\n",
    "a = deque([])\n",
    "b = deque([])\n",
    "\n",
    "for _ in range(n):\n",
    "    #s = input()\n",
    "    s = \"a\"\n",
    "    if s[0] == \"!\":\n",
    "        b.append(s[1:])\n",
    "    else:\n",
    "        a.append(s)   \n",
    "for i in a:\n",
    "    if i in b:\n",
    "        print(i)\n",
    "        sys.exit()\n",
    "\n",
    "print(\"satisfiable\")"
   ]
  },
  {
   "cell_type": "markdown",
   "metadata": {},
   "source": [
    "#### ABC187 D問題"
   ]
  },
  {
   "cell_type": "code",
   "execution_count": 9,
   "metadata": {},
   "outputs": [
    {
     "name": "stdout",
     "output_type": "stream",
     "text": [
      "66667\n"
     ]
    }
   ],
   "source": [
    "from itertools import accumulate\n",
    "#n = int(input())\n",
    "n = 2*10**5\n",
    "l = []\n",
    "aoki = 0\n",
    "for _ in range(n):\n",
    "    #a,b = (int(x) for x in input().split())\n",
    "    a,b = 10**9,10**9\n",
    "    l.append(a*2+b)\n",
    "    aoki += a\n",
    "    \n",
    "l.sort(reverse=True)\n",
    "# print(l)\n",
    "# print(aoki)\n",
    "print(len([i for i in list(accumulate(l)) if i <=aoki])+1)\n",
    "\n",
    "# xyp = [map(int, input().split()) for _ in range(n)]\n",
    "# a,b = [list(i) for i in zip(*xyp)]\n",
    "#aoki = sum(b)"
   ]
  },
  {
   "cell_type": "markdown",
   "metadata": {},
   "source": [
    "#### ABC187 B問題"
   ]
  },
  {
   "cell_type": "code",
   "execution_count": 13,
   "metadata": {},
   "outputs": [
    {
     "name": "stdout",
     "output_type": "stream",
     "text": [
      "1\n",
      "-691 273\n",
      "0\n"
     ]
    }
   ],
   "source": [
    "n = int(input())\n",
    "xyp = [map(int, input().split()) for _ in range(n)]\n",
    "x, y = [list(i) for i in zip(*xyp)]\n",
    "cnt = 0\n",
    "for i in range(n-1):\n",
    "    for j in range(i+1,n):\n",
    "        k = (y[j]-y[i])/(x[j]-x[i])\n",
    "        if  k >= -1 and k <= 1:\n",
    "            cnt += 1\n",
    "print(cnt)"
   ]
  },
  {
   "cell_type": "markdown",
   "metadata": {},
   "source": [
    "#### ABC193 D問題"
   ]
  },
  {
   "cell_type": "code",
   "execution_count": 16,
   "metadata": {},
   "outputs": [
    {
     "name": "stdout",
     "output_type": "stream",
     "text": [
      "2\n",
      "9988\"\n",
      "1122#\n",
      "1.0\n"
     ]
    }
   ],
   "source": [
    "from collections import Counter\n",
    "\n",
    "K = int(input())\n",
    "S = [int(c) for c in input()[:-1]]\n",
    "T = [int(c) for c in input()[:-1]]\n",
    "d1 = {1:0,2:0,3:0,4:0,5:0,6:0,7:0,8:0,9:0}\n",
    "d2 = {1:0,2:0,3:0,4:0,5:0,6:0,7:0,8:0,9:0}\n",
    "d_all = {1:K,2:K,3:K,4:K,5:K,6:K,7:K,8:K,9:K}\n",
    "for s in S:\n",
    "    d1[s] += 1\n",
    "    d_all[s] -= 1\n",
    "for t in T:\n",
    "    d2[t] += 1\n",
    "    d_all[t] -= 1\n",
    "score1 = sum([k*10**v for k,v in d1.items()])\n",
    "score2 = sum([k*10**v for k,v in d2.items()])\n",
    "diff = score2-score1\n",
    "next_score1 = {i : i*9*10**d1[i] for i in range(1,10)}\n",
    "next_score2 = {i : i*9*10**d2[i] for i in range(1,10)}\n",
    "#print(next_score1)\n",
    "num = 0\n",
    "for i1,n1 in next_score1.items():\n",
    "    #print(f\"i1:{i1},d_all[i1]:{d_all[i1]}\")\n",
    "    if d_all[i1] != 0:        \n",
    "        for i2,n2 in next_score2.items():\n",
    "            #print(f\"i1:{i1},i2:{i2}\")\n",
    "            if d_all[i2] == 0:\n",
    "                continue\n",
    "            elif i1 == i2 and d_all[i1] ==1:\n",
    "                continue\n",
    "            else:                \n",
    "                if n1-n2 > diff:\n",
    "                    if i1 == i2:\n",
    "                        num += d_all[i1] * (d_all[i1]-1)\n",
    "                    else:\n",
    "                        num += d_all[i1] * d_all[i2]\n",
    "#print(f\"num:{num}\")\n",
    "print(num/((K*9-8)*(K*9-9)))"
   ]
  },
  {
   "cell_type": "code",
   "execution_count": null,
   "metadata": {},
   "outputs": [],
   "source": []
  }
 ],
 "metadata": {
  "kernelspec": {
   "display_name": "Python 3",
   "language": "python",
   "name": "python3"
  },
  "language_info": {
   "codemirror_mode": {
    "name": "ipython",
    "version": 3
   },
   "file_extension": ".py",
   "mimetype": "text/x-python",
   "name": "python",
   "nbconvert_exporter": "python",
   "pygments_lexer": "ipython3",
   "version": "3.7.6"
  }
 },
 "nbformat": 4,
 "nbformat_minor": 4
}
