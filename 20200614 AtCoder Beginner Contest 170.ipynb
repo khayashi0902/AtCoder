{
 "cells": [
  {
   "cell_type": "code",
   "execution_count": 16,
   "metadata": {},
   "outputs": [
    {
     "name": "stdout",
     "output_type": "stream",
     "text": [
      "1 2 0 4 5\n",
      "3\n"
     ]
    }
   ],
   "source": [
    "import numpy as np\n",
    "a = np.array([int(x) for x in input().split()])\n",
    "for i,j in enumerate(a):\n",
    "    if j ==0:\n",
    "        print(i+1)\n",
    "        break"
   ]
  },
  {
   "cell_type": "code",
   "execution_count": 22,
   "metadata": {},
   "outputs": [
    {
     "name": "stdout",
     "output_type": "stream",
     "text": [
      "1 2\n",
      "YES\n"
     ]
    }
   ],
   "source": [
    "x,y=(int(x) for x in input().split())\n",
    "a = ((y-x*2)/2)\n",
    "if a%1==0 and a>=0 and a<=x:\n",
    "    print(\"Yes\")\n",
    "else:\n",
    "    print(\"No\")"
   ]
  },
  {
   "cell_type": "code",
   "execution_count": 34,
   "metadata": {},
   "outputs": [
    {
     "name": "stdout",
     "output_type": "stream",
     "text": [
      "100 0\n",
      "\n",
      "100\n"
     ]
    }
   ],
   "source": [
    "import numpy as np\n",
    "x,n=(int(x) for x in input().split())\n",
    "p = np.array([int(x) for x in input().split()])\n",
    "\n",
    "a = 0\n",
    "while True:\n",
    "    if x-a not in p:\n",
    "        print(x-a)\n",
    "        break\n",
    "    elif x+a not in p:\n",
    "        print(x+a)\n",
    "        break\n",
    "    a += 1"
   ]
  },
  {
   "cell_type": "code",
   "execution_count": 80,
   "metadata": {},
   "outputs": [
    {
     "name": "stdout",
     "output_type": "stream",
     "text": [
      "4\n",
      "5 5 5 5\n",
      "0\n"
     ]
    }
   ],
   "source": [
    "import numpy as np\n",
    "n = int(input())\n",
    "a = np.array([int(x) for x in input().split()])\n",
    "count = 0\n",
    "\n",
    "for i in a:\n",
    "    i_a = i%a[a<=i]\n",
    "    if np.count_nonzero(i_a == 0) ==1:\n",
    "        count+=1\n",
    "\n",
    "print(count)"
   ]
  },
  {
   "cell_type": "code",
   "execution_count": 97,
   "metadata": {},
   "outputs": [
    {
     "name": "stdout",
     "output_type": "stream",
     "text": [
      "10\n",
      "33 18 45 28 8 19 89 86 2 4\n",
      "5\n"
     ]
    }
   ],
   "source": [
    "import numpy as np\n",
    "n = int(input())\n",
    "a = np.sort(np.array([int(x) for x in input().split()]))[::-1]\n",
    "\n",
    "count = 0\n",
    "if not np.all(a == a[0]):\n",
    "    for index,i in enumerate(a):\n",
    "        a_i = i%a[index:]\n",
    "        if np.count_nonzero(a_i == 0)==1:\n",
    "            count+=1\n",
    "print(count)"
   ]
  },
  {
   "cell_type": "code",
   "execution_count": 2,
   "metadata": {
    "scrolled": true
   },
   "outputs": [
    {
     "name": "stdout",
     "output_type": "stream",
     "text": [
      "10\n",
      "33 18 45 28 8 19 89 86 2 4\n",
      "5\n"
     ]
    }
   ],
   "source": [
    "# AC\n",
    "import numpy as np\n",
    "n = int(input())\n",
    "a = np.sort(np.array(list(map(int, input().split()))))\n",
    "max_num = a[-1]+1\n",
    "dp = np.array([0]*(max_num))\n",
    "\n",
    "if np.count_nonzero(a==1)  == 1:\n",
    "    print(1)\n",
    "else:\n",
    "    for i in a:\n",
    "        for j in np.arange(i, max_num, i):\n",
    "            dp[j] += 1\n",
    "    print(np.count_nonzero(dp[a] == 1))"
   ]
  },
  {
   "cell_type": "code",
   "execution_count": null,
   "metadata": {},
   "outputs": [],
   "source": [
    "#下川\n",
    "N = int(input())\n",
    "A = [int(x) for x in input().split()]\n",
    "\n",
    "A.sort()\n",
    "max_num = max(A)\n",
    "#sub_count = [x for x in set(A) if A.count(x) > 1]\n",
    "A = list(set(A))\n",
    "\n",
    "if len(A) == 1:\n",
    "    print(0)\n",
    "else:\n",
    "    i = 0\n",
    "    count = 0\n",
    "    while True:\n",
    "        if A == []:\n",
    "            break\n",
    "        count += 1\n",
    "        look = A[0]\n",
    "        del A[0]\n",
    "        del_num = []\n",
    "        for j in range(len(A)):\n",
    "            if A[j] % look == 0:\n",
    "                del_num.append(j)\n",
    "        del_num = sorted(del_num, reverse=True)\n",
    "        for j in del_num:\n",
    "            del A[j]\n",
    "    print(count)"
   ]
  }
 ],
 "metadata": {
  "kernelspec": {
   "display_name": "Python 3",
   "language": "python",
   "name": "python3"
  },
  "language_info": {
   "codemirror_mode": {
    "name": "ipython",
    "version": 3
   },
   "file_extension": ".py",
   "mimetype": "text/x-python",
   "name": "python",
   "nbconvert_exporter": "python",
   "pygments_lexer": "ipython3",
   "version": "3.7.6"
  }
 },
 "nbformat": 4,
 "nbformat_minor": 4
}
