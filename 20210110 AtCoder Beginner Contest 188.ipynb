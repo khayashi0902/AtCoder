{
 "cells": [
  {
   "cell_type": "code",
   "execution_count": null,
   "metadata": {},
   "outputs": [],
   "source": [
    "n,k = (int(x) for x in input().split())\n",
    "\n",
    "import numpy as np\n",
    "a =np.array([int(x) for x in input().split()])\n",
    "\n",
    "l =[int(x) for x in input().split()]\n",
    "\n",
    "a = int(input())\n",
    "\n",
    "xyp = [map(int, input().split()) for _ in range(n)]\n",
    "x, y, p = [list(i) for i in zip(*xyp)]\n",
    "\n",
    "import numpy as np\n",
    "s = np.array([[c for c in input().strip()] for _ in range(h)])"
   ]
  },
  {
   "cell_type": "code",
   "execution_count": null,
   "metadata": {},
   "outputs": [],
   "source": []
  },
  {
   "cell_type": "code",
   "execution_count": 3,
   "metadata": {
    "scrolled": true
   },
   "outputs": [
    {
     "name": "stdout",
     "output_type": "stream",
     "text": [
      "100 100\n",
      "100 100\n",
      "0\n"
     ]
    }
   ],
   "source": [
    "a,b = (int(x) for x in input().split())\n",
    "c,d = (int(x) for x in input().split())\n",
    "\n",
    "print(a*d-b*c)"
   ]
  },
  {
   "cell_type": "code",
   "execution_count": null,
   "metadata": {},
   "outputs": [],
   "source": [
    "n = int(input())\n",
    "a =[int(x) for x in input().split()]\n",
    "b =[int(x) for x in input().split()]\n",
    "ans = 0\n",
    "for i in range(n):\n",
    "    ans += a[i]*b[i]\n",
    "if ans == 0:\n",
    "    print(\"Yes\")\n",
    "else:\n",
    "    print(\"No\")"
   ]
  },
  {
   "cell_type": "code",
   "execution_count": 12,
   "metadata": {},
   "outputs": [
    {
     "name": "stdout",
     "output_type": "stream",
     "text": [
      "4\n",
      "6 13 12 5 3 7 10 11 16 9 8 15 2 1 14 4\n",
      "2\n"
     ]
    }
   ],
   "source": [
    "n = int(input())\n",
    "a =[int(x) for x in input().split()]\n",
    "i = a.index(max(a))\n",
    "d = int(2**n/2)\n",
    "if i >= d:\n",
    "    print(a.index(max(a[:d]))+1)\n",
    "else:\n",
    "    print(a.index(max(a[d:]))+1)"
   ]
  },
  {
   "cell_type": "code",
   "execution_count": 49,
   "metadata": {},
   "outputs": [
    {
     "name": "stdout",
     "output_type": "stream",
     "text": [
      "2 6\n",
      "1 2 4\n",
      "2 2 4\n",
      "10\n"
     ]
    }
   ],
   "source": [
    "n,C = (int(x) for x in input().split())\n",
    "abc = [map(int, input().split()) for _ in range(n)]\n",
    "a,b,c = [list(i) for i in zip(*abc)]\n",
    "\n",
    "d = dict()\n",
    "\n",
    "for i in range(n):\n",
    "    if a[i]-1 in d:\n",
    "        d[a[i]-1] += c[i]\n",
    "    else:\n",
    "        d[a[i]-1] = c[i]\n",
    "    if b[i] in d:\n",
    "        d[b[i]] -= c[i]\n",
    "    else:\n",
    "        d[b[i]] = -c[i]\n",
    "\n",
    "ans = 0\n",
    "p = 0\n",
    "dd = sorted(d.items())\n",
    "for i in range(len(dd)):\n",
    "    p += dd[i][1]\n",
    "    if p == 0:\n",
    "        continue\n",
    "    elif p >= C:\n",
    "        ans += C*(dd[i+1][0]-dd[i][0])\n",
    "    else:\n",
    "        ans += p*(dd[i+1][0]-dd[i][0])\n",
    "print(ans)"
   ]
  },
  {
   "cell_type": "code",
   "execution_count": null,
   "metadata": {},
   "outputs": [],
   "source": [
    "n,m = (int(x) for x in input().split())\n",
    "a =[int(x) for x in input().split()]\n",
    "xy = [map(int, input().split()) for _ in range(n)]\n",
    "x,y = [list(i) for i in zip(*xy)]\n",
    "\n"
   ]
  },
  {
   "cell_type": "code",
   "execution_count": 58,
   "metadata": {},
   "outputs": [
    {
     "name": "stdout",
     "output_type": "stream",
     "text": [
      "7 11\n",
      "4\n"
     ]
    }
   ],
   "source": [
    "import math\n",
    "x,y = (int(x) for x in input().split())\n",
    "if y<=x:\n",
    "    print(y-x)\n",
    "else:\n",
    "    ans = 0\n",
    "    a = int(math.log2(y/x))\n",
    "    ans = x ** a\n",
    "    \n",
    "    \n",
    "    while True:\n",
    "        i\n",
    "        if y % 2 == 0:\n",
    "            if y/2 > y-x:\n",
    "                ans += y-x\n",
    "                break\n",
    "            else:\n",
    "                y //= 2\n",
    "                ans += 1\n",
    "        else:\n",
    "            if (y-1)/2 \n",
    "        \n",
    "        \n",
    "        if y%2==0:\n",
    "            if y/2>x:\n",
    "                ans += 1\n",
    "                y //= 2\n",
    "            else:\n",
    "                ans += y-x\n",
    "                break\n",
    "        else:\n",
    "            y -= 1\n",
    "            ans += 1\n",
    "print(ans)"
   ]
  },
  {
   "cell_type": "code",
   "execution_count": null,
   "metadata": {},
   "outputs": [],
   "source": []
  }
 ],
 "metadata": {
  "kernelspec": {
   "display_name": "Python 3",
   "language": "python",
   "name": "python3"
  },
  "language_info": {
   "codemirror_mode": {
    "name": "ipython",
    "version": 3
   },
   "file_extension": ".py",
   "mimetype": "text/x-python",
   "name": "python",
   "nbconvert_exporter": "python",
   "pygments_lexer": "ipython3",
   "version": "3.7.6"
  }
 },
 "nbformat": 4,
 "nbformat_minor": 4
}
