{
 "metadata": {
  "language_info": {
   "codemirror_mode": {
    "name": "ipython",
    "version": 3
   },
   "file_extension": ".py",
   "mimetype": "text/x-python",
   "name": "python",
   "nbconvert_exporter": "python",
   "pygments_lexer": "ipython3",
   "version": "3.7.6"
  },
  "orig_nbformat": 2,
  "kernelspec": {
   "name": "python376jvsc74a57bd003b5973216ace595f59713c0bd2ba56481296f7054ddf42ea26de7b56804d44d",
   "display_name": "Python 3.7.6 64-bit ('base': conda)"
  }
 },
 "nbformat": 4,
 "nbformat_minor": 2,
 "cells": [
  {
   "cell_type": "code",
   "execution_count": null,
   "metadata": {},
   "outputs": [],
   "source": [
    "n,k = (int(x) for x in input().split())\n",
    "\n",
    "import numpy as np\n",
    "a =np.array([int(x) for x in input().split()])\n",
    "\n",
    "l =[int(x) for x in input().split()]\n",
    "\n",
    "a = int(input())\n",
    "\n",
    "xyp = [map(int, input().split()) for _ in range(n)]\n",
    "x, y, p = [list(i) for i in zip(*xyp)]\n",
    "\n",
    "import numpy as np\n",
    "s = np.array([[c for c in input().strip()] for _ in range(h)])\n",
    "\n",
    "cd = [tuple(map(int, input().split())) for _ in range(k)]"
   ]
  },
  {
   "cell_type": "code",
   "execution_count": 3,
   "metadata": {},
   "outputs": [
    {
     "output_type": "stream",
     "name": "stdout",
     "text": [
      "1\n"
     ]
    }
   ],
   "source": [
    "a,b,c = (int(x) for x in input().split())\n",
    "if a == b:\n",
    "    print(c)\n",
    "elif b == c:\n",
    "    print(a)\n",
    "elif a == c:\n",
    "    print(b)\n",
    "else:\n",
    "    print(0)"
   ]
  },
  {
   "cell_type": "code",
   "execution_count": 6,
   "metadata": {},
   "outputs": [
    {
     "output_type": "stream",
     "name": "stdout",
     "text": [
      "1818\n"
     ]
    }
   ],
   "source": [
    "n,k = (int(x) for x in input().split())\n",
    "ans = 0\n",
    "for i in range(1,n+1):\n",
    "    ans += i * k * 100\n",
    "ans += (1+k)*k//2*n\n",
    "print(ans)"
   ]
  },
  {
   "cell_type": "code",
   "execution_count": null,
   "metadata": {},
   "outputs": [],
   "source": [
    "n,k = (int(x) for x in input().split())\n",
    "ab = [[int(x) for x in input().split()] for _ in range(n)]\n",
    "ab = sorted(ab)\n",
    "money = k\n",
    "vnum = 0\n",
    "for a,b in ab:    \n",
    "    if money < a-vnum:\n",
    "        print(vnum+money)\n",
    "        exit()\n",
    "    else:\n",
    "        money += b-(a-vnum)\n",
    "        vnum = a\n",
    "print(min(vnum+money,10**100))"
   ]
  },
  {
   "cell_type": "code",
   "execution_count": null,
   "metadata": {},
   "outputs": [],
   "source": [
    "n,k = (int(x) for x in input().split())\n",
    "a = [[int(x) for x in input().split()] for _ in range(n)]\n",
    "ans = 0\n",
    "for i in range(n-k+1):\n",
    "    for j in range(k+1,n):\n",
    "        s = [a[i+x][:k] for x in range(j,j+k)]\n",
    "        print(s)\n",
    "        \n"
   ]
  },
  {
   "cell_type": "code",
   "execution_count": null,
   "metadata": {},
   "outputs": [],
   "source": [
    "import numpy as np\n",
    "\n",
    "n,k = (int(x) for x in input().split())\n",
    "data = np.array([[int(x) for x in input().split()] for _ in range(n)])\n",
    "\n",
    "def movingaverage(data_2d,axis=1,windowsize=3):\n",
    "    answer = np.zeros((data_2d.shape))\n",
    "    answer[:,:] = np.nan\n",
    "\n",
    "    v = np.ones(windowsize,)/windowsize\n",
    "\n",
    "    for i in range(data.shape[axis]):\n",
    "        if axis==0:\n",
    "            answer[i,windowsize-1:]=np.convolve(data_2d[i,:], v, mode = \"valid\")\n",
    "        if axis==1:\n",
    "            answer[windowsize-1:,i]=np.convolve(data_2d[:,i], v, mode = \"valid\")\n",
    "        answer=answer\n",
    "    return answer\n",
    "\n",
    "#4列のデータが8点\n",
    "#data=np.arange(32)\n",
    "#data=data.reshape(8,4)\n",
    "print(\"元データ\")\n",
    "print(data)\n",
    "print(\"横方向で平均\")\n",
    "answer = movingaverage(data,axis=0,windowsize=3)#横方向で平均\n",
    "print(answer)\n",
    "print(\"縦方向で平均\")\n",
    "answer = movingaverage(data,axis=1,windowsize=3)#縦方向で平均\n",
    "print(answer)"
   ]
  },
  {
   "source": [
    "AC"
   ],
   "cell_type": "markdown",
   "metadata": {}
  },
  {
   "cell_type": "code",
   "execution_count": null,
   "metadata": {},
   "outputs": [],
   "source": [
    "def judge(mid):\n",
    "    l = [[0 for _ in range(n+1)] for _ in range(n+1)]\n",
    "    for i in range(n):\n",
    "        for j in range(n):\n",
    "            l[i+1][j+1] = 0 if a[i][j]<=mid else 1\n",
    "\n",
    "    for i in range(1,n+1):\n",
    "        for j in range(n):\n",
    "            l[i][j+1] += l[i][j]\n",
    "    \n",
    "    for j in range(1,n+1):\n",
    "        for i in range(n):\n",
    "            l[i+1][j] += l[i][j]\n",
    "            \n",
    "\n",
    "    for i in range(k,n+1):\n",
    "        for j in range(k,n+1):\n",
    "            if num > l[i][j] - l[i-k][j] - l[i][j-k] + l[i-k][j-k]:\n",
    "                return True\n",
    "    return False\n",
    "\n",
    "\n",
    "n,k = (int(x) for x in input().split())\n",
    "a = [[int(x) for x in input().split()] for _ in range(n)]\n",
    "ans = 0\n",
    "num = k**2//2+1\n",
    "\n",
    "right = 10**9\n",
    "left = -1\n",
    "\n",
    "while right-left>1:\n",
    "    mid = (left+right)//2\n",
    "    if judge(mid):\n",
    "        right = mid\n",
    "    else:\n",
    "        left = mid\n",
    "        \n",
    "\n",
    "print(right)"
   ]
  }
 ]
}