{
 "cells": [
  {
   "cell_type": "code",
   "execution_count": null,
   "metadata": {},
   "outputs": [],
   "source": [
    "n,k = (int(x) for x in input().split())\n",
    "\n",
    "import numpy as np\n",
    "a =np.array([int(x) for x in input().split()])\n",
    "\n",
    "l =[int(x) for x in input().split()]\n",
    "\n",
    "a = int(input())\n",
    "\n",
    "xyp = [map(int, input().split()) for _ in range(n)]\n",
    "x, y, p = [list(i) for i in zip(*xyp)]\n",
    "\n",
    "import numpy as np\n",
    "s = np.array([[c for c in input().strip()] for _ in range(h)])\n",
    "\n",
    "cd = [tuple(map(int, input().split())) for _ in range(k)]"
   ]
  },
  {
   "cell_type": "code",
   "execution_count": 3,
   "metadata": {},
   "outputs": [
    {
     "name": "stdout",
     "output_type": "stream",
     "text": [
      "-1\n",
      "0\n"
     ]
    }
   ],
   "source": [
    "x = int(input())\n",
    "if x >= 0:\n",
    "    print(x)\n",
    "else:\n",
    "    print(0)"
   ]
  },
  {
   "cell_type": "code",
   "execution_count": 2,
   "metadata": {},
   "outputs": [
    {
     "name": "stdout",
     "output_type": "stream",
     "text": [
      "aab\n",
      "aba\n"
     ]
    }
   ],
   "source": [
    "s = input()\n",
    "ans = s[1:]+s[0]\n",
    "print(ans)"
   ]
  },
  {
   "cell_type": "code",
   "execution_count": null,
   "metadata": {},
   "outputs": [],
   "source": [
    "h,w,x,y = (int(x) for x in input().split())\n",
    "s = [input() for _ in range(h)]\n",
    "ans = 1\n",
    "xx = x-1\n",
    "yy = y-1\n",
    "while xx > 0:\n",
    "    xx -= 1\n",
    "    if s[xx][yy] == \"#\":\n",
    "        break\n",
    "    else:\n",
    "        print(xx,yy)\n",
    "        ans += 1\n",
    "xx = x-1\n",
    "yy = y-1\n",
    "while yy > 0:\n",
    "    yy -= 1\n",
    "    if s[xx][yy] == \"#\":\n",
    "        break\n",
    "    else:\n",
    "        print(xx,yy)\n",
    "        ans += 1\n",
    "xx = x-1\n",
    "yy = y-1\n",
    "while xx < h-1:\n",
    "    xx += 1\n",
    "    if s[xx][yy] == \"#\":\n",
    "        break\n",
    "    else:\n",
    "        print(xx,yy)\n",
    "        ans += 1\n",
    "xx = x-1\n",
    "yy = y-1\n",
    "while yy < w-1:\n",
    "    yy += 1\n",
    "    if s[xx][yy] == \"#\":\n",
    "        break\n",
    "    else:\n",
    "        print(xx,yy)\n",
    "        ans += 1\n",
    "        \n",
    "print(ans)"
   ]
  },
  {
   "cell_type": "code",
   "execution_count": 29,
   "metadata": {},
   "outputs": [
    {
     "data": {
      "text/plain": [
       "10"
      ]
     },
     "execution_count": 29,
     "metadata": {},
     "output_type": "execute_result"
    }
   ],
   "source": [
    "nn = 0 \n",
    "nn |= 10\n",
    "nn"
   ]
  },
  {
   "cell_type": "code",
   "execution_count": 20,
   "metadata": {},
   "outputs": [
    {
     "name": "stdout",
     "output_type": "stream",
     "text": [
      "3\n",
      "1 5 7\n",
      "()\n",
      "(0,)\n",
      "(1,)\n",
      "(0, 1)\n"
     ]
    }
   ],
   "source": [
    "from itertools import combinations\n",
    "n = int(input())\n",
    "a =[int(x) for x in input().split()]\n",
    "\n",
    "l = [i for i in range(n-1)]\n",
    "ans = min(a)\n",
    "for k in range(n):\n",
    "    for comb in combinations(l,k):\n",
    "        num = 0\n",
    "        nn = 0\n",
    "        for i,ai in enumerate(a):\n",
    "            nn |= ai\n",
    "            if i in comb:\n",
    "                num ^= nn\n",
    "                nn = 0\n",
    "        num ^= nn\n",
    "        if num < ans:\n",
    "            ans = num\n",
    "print(ans)            "
   ]
  },
  {
   "cell_type": "code",
   "execution_count": 8,
   "metadata": {},
   "outputs": [
    {
     "data": {
      "text/plain": [
       "10"
      ]
     },
     "execution_count": 8,
     "metadata": {},
     "output_type": "execute_result"
    }
   ],
   "source": [
    "import math\n",
    "n = int(input())\n",
    "x0,y0 = (int(x) for x in input().split())\n",
    "xn2,yn2 = (int(x) for x in input().split())\n",
    "\n",
    "m = math.sqrt((x0-xn2)**2+(y0-yn2)**2)\n",
    "print(m)"
   ]
  },
  {
   "cell_type": "code",
   "execution_count": null,
   "metadata": {},
   "outputs": [],
   "source": [
    "import math\n",
    "n = int(input())\n",
    "x0,y0 = (int(x) for x in input().split())\n",
    "xn2,yn2 = (int(x) for x in input().split())\n",
    "\n",
    "m = math.sqrt((x0-xn2)**2+(y0-yn2)**2) * math.sin(math.radians(360/n/2))\n",
    "a = -math.atan2(xn2-x0,yn2-y0) - math.radians(360/n/2-180)\n",
    "if (xn2-x0 >= 0 and a >= math.radians(90)) or (xn2-x0 < 0 and a < math.radians(90)):\n",
    "    x1 = x0 + m * math.sin(a)\n",
    "else:\n",
    "    x1 = x0 - m * math.sin(a)\n",
    "if (yn2-y0 >= 0 and a >= 0) or (yn2-y0 < 0 and a < 0):\n",
    "    y1 = y0 + m * math.cos(a)\n",
    "else:\n",
    "    y1 = y0 - m * math.cos(a)\n",
    "print(x1,y1)"
   ]
  }
 ],
 "metadata": {
  "kernelspec": {
   "display_name": "Python 3",
   "language": "python",
   "name": "python3"
  },
  "language_info": {
   "codemirror_mode": {
    "name": "ipython",
    "version": 3
   },
   "file_extension": ".py",
   "mimetype": "text/x-python",
   "name": "python",
   "nbconvert_exporter": "python",
   "pygments_lexer": "ipython3",
   "version": "3.7.6"
  }
 },
 "nbformat": 4,
 "nbformat_minor": 4
}
