{
 "cells": [
  {
   "cell_type": "code",
   "execution_count": null,
   "metadata": {},
   "outputs": [],
   "source": [
    "n,k = (int(x) for x in input().split())\n",
    "\n",
    "import numpy as np\n",
    "a =np.array([int(x) for x in input().split()])\n",
    "\n",
    "l =[int(x) for x in input().split()]\n",
    "\n",
    "a = int(input())\n",
    "\n",
    "xyp = [map(int, input().split()) for _ in range(n)]\n",
    "x, y, p = [list(i) for i in zip(*xyp)]\n",
    "\n",
    "import numpy as np\n",
    "s = np.array([[c for c in input().strip()] for _ in range(h)])\n",
    "\n",
    "cd = [tuple(map(int, input().split())) for _ in range(k)]"
   ]
  },
  {
   "cell_type": "code",
   "execution_count": 1,
   "metadata": {
    "scrolled": true
   },
   "outputs": [
    {
     "name": "stdout",
     "output_type": "stream",
     "text": [
      "5 3 7 11\n",
      "3\n"
     ]
    }
   ],
   "source": [
    "a =[int(x) for x in input().split()]\n",
    "print(min(a))"
   ]
  },
  {
   "cell_type": "code",
   "execution_count": null,
   "metadata": {},
   "outputs": [],
   "source": []
  },
  {
   "cell_type": "code",
   "execution_count": 1,
   "metadata": {},
   "outputs": [
    {
     "name": "stdout",
     "output_type": "stream",
     "text": [
      "10 120\n",
      "Yes\n"
     ]
    }
   ],
   "source": [
    "m,h= (int(x) for x in input().split())\n",
    "if h%m == 0:\n",
    "    print(\"Yes\")\n",
    "else:\n",
    "    print(\"No\")"
   ]
  },
  {
   "cell_type": "code",
   "execution_count": 12,
   "metadata": {},
   "outputs": [
    {
     "name": "stdout",
     "output_type": "stream",
     "text": [
      "300 333 1\n",
      "UNSATISFIABLE\n"
     ]
    }
   ],
   "source": [
    "a,b,w= (int(x) for x in input().split())\n",
    "w *= 1000\n",
    "a_max = w//a\n",
    "b_max = w//b\n",
    "l = []\n",
    "\n",
    "for i in range(1,a_max+1):\n",
    "    if i*a <= w and w <= i*b:\n",
    "        l.append(i)\n",
    "if len(l) == 0:\n",
    "    print(\"UNSATISFIABLE\")\n",
    "else:\n",
    "    print(l[0],l[-1])"
   ]
  },
  {
   "cell_type": "code",
   "execution_count": 23,
   "metadata": {},
   "outputs": [
    {
     "name": "stdout",
     "output_type": "stream",
     "text": [
      "27182818284590\n",
      "107730272137364\n"
     ]
    }
   ],
   "source": [
    "import math\n",
    "n = input()\n",
    "n_len = math.ceil(len(n)/3) -1\n",
    "if n_len == 0:\n",
    "    print(0)\n",
    "    exit()\n",
    "\n",
    "def calc(num):\n",
    "    if num == 0:\n",
    "        return 0\n",
    "    else:\n",
    "        return calc(num-1)+num*(10**((num+1)*3)-10**(num*3))\n",
    "\n",
    "ans = calc(n_len-1) + n_len*(int(n)-10**(n_len*3)+1)\n",
    "print(ans)"
   ]
  },
  {
   "cell_type": "code",
   "execution_count": 38,
   "metadata": {},
   "outputs": [
    {
     "name": "stdout",
     "output_type": "stream",
     "text": [
      "3 4 3\n",
      "1 9\n",
      "5 3\n",
      "7 8\n",
      "1 8 6 9\n",
      "4 4\n",
      "1 4\n",
      "1 3\n"
     ]
    },
    {
     "ename": "TypeError",
     "evalue": "can only concatenate str (not \"int\") to str",
     "output_type": "error",
     "traceback": [
      "\u001b[0;31m---------------------------------------------------------------------------\u001b[0m",
      "\u001b[0;31mTypeError\u001b[0m                                 Traceback (most recent call last)",
      "\u001b[0;32m<ipython-input-38-aafd2dfc5106>\u001b[0m in \u001b[0;36m<module>\u001b[0;34m\u001b[0m\n\u001b[1;32m     12\u001b[0m \u001b[0;34m\u001b[0m\u001b[0m\n\u001b[1;32m     13\u001b[0m \u001b[0;32mfor\u001b[0m \u001b[0mi\u001b[0m \u001b[0;32min\u001b[0m \u001b[0mrange\u001b[0m\u001b[0;34m(\u001b[0m\u001b[0mq\u001b[0m\u001b[0;34m)\u001b[0m\u001b[0;34m:\u001b[0m\u001b[0;34m\u001b[0m\u001b[0;34m\u001b[0m\u001b[0m\n\u001b[0;32m---> 14\u001b[0;31m     \u001b[0mprint\u001b[0m\u001b[0;34m(\u001b[0m\u001b[0;34m\" \"\u001b[0m\u001b[0;34m+\u001b[0m\u001b[0mi\u001b[0m\u001b[0;34m)\u001b[0m\u001b[0;34m\u001b[0m\u001b[0;34m\u001b[0m\u001b[0m\n\u001b[0m\u001b[1;32m     15\u001b[0m     \u001b[0mans\u001b[0m \u001b[0;34m=\u001b[0m \u001b[0;36m0\u001b[0m\u001b[0;34m\u001b[0m\u001b[0;34m\u001b[0m\u001b[0m\n\u001b[1;32m     16\u001b[0m     \u001b[0mxx\u001b[0m \u001b[0;34m=\u001b[0m \u001b[0mx\u001b[0m\u001b[0;34m[\u001b[0m\u001b[0;34m:\u001b[0m\u001b[0ml\u001b[0m\u001b[0;34m[\u001b[0m\u001b[0mi\u001b[0m\u001b[0;34m]\u001b[0m\u001b[0;34m-\u001b[0m\u001b[0;36m1\u001b[0m\u001b[0;34m]\u001b[0m \u001b[0;34m+\u001b[0m \u001b[0mx\u001b[0m\u001b[0;34m[\u001b[0m\u001b[0mr\u001b[0m\u001b[0;34m[\u001b[0m\u001b[0mi\u001b[0m\u001b[0;34m]\u001b[0m\u001b[0;34m-\u001b[0m\u001b[0;36m1\u001b[0m\u001b[0;34m:\u001b[0m\u001b[0;34m]\u001b[0m\u001b[0;34m\u001b[0m\u001b[0;34m\u001b[0m\u001b[0m\n",
      "\u001b[0;31mTypeError\u001b[0m: can only concatenate str (not \"int\") to str"
     ]
    }
   ],
   "source": [
    "import numpy as np\n",
    "n,m,q = (int(x) for x in input().split())\n",
    "wv = np.array([[int(x) for x in input().split()] for _ in range(n)])\n",
    "wv_sorted = wv[np.argsort(wv[:, 1])[::-1]]\n",
    "w = wv_sorted[:,0]\n",
    "v = wv_sorted[:,1]\n",
    "#print(w)\n",
    "#print(wv_sorted)\n",
    "x =[int(x) for x in input().split()]\n",
    "query = [map(int, input().split()) for _ in range(q)]\n",
    "l,r = [list(i) for i in zip(*query)]\n",
    "\n",
    "for i in range(q):\n",
    "    print(i)\n",
    "    ans = 0\n",
    "    xx = x[:l[i]-1] + x[r[i]-1:]\n",
    "    ww = w\n",
    "    vv = v\n",
    "    xx.sort()\n",
    "    print(xx)\n",
    "    for j in xx:\n",
    "        for k in range(len(ww)):\n",
    "            if ww[k] <= j:\n",
    "                ans += vv[k]\n",
    "                ww = np.delete(ww,k)\n",
    "                vv = np.delete(vv,k)\n",
    "                break\n",
    "    print(ans)"
   ]
  },
  {
   "cell_type": "markdown",
   "metadata": {},
   "source": [
    "### import numpy as np\n",
    "n,m,t = (int(x) for x in input().split())\n",
    "xyp = np.array([map(int, input().split()) for _ in range(m)])\n",
    "a,b = [list(i) for i in zip(*xyp)]\n",
    "time = 0\n",
    "battery = n\n",
    "for i in range(m):\n",
    "    battery -= a[i]-time\n",
    "    if battery <= 0:\n",
    "        print(\"No\")\n",
    "        exit()\n",
    "    battery += b[i]-a[i]\n",
    "    if battery > n:\n",
    "        battery = n\n",
    "    time = b[i]\n",
    "battery -= t-time\n",
    "if battery <= 0:\n",
    "    print(\"No\")\n",
    "else:\n",
    "    print(\"Yes\")"
   ]
  },
  {
   "cell_type": "code",
   "execution_count": 5,
   "metadata": {},
   "outputs": [
    {
     "name": "stdout",
     "output_type": "stream",
     "text": [
      "12\n",
      "1\n"
     ]
    }
   ],
   "source": [
    "from scipy.special import comb\n",
    "l = int(input())\n",
    "base = comb(l-1, 11, exact=True)\n",
    "print(base)"
   ]
  },
  {
   "cell_type": "code",
   "execution_count": 24,
   "metadata": {},
   "outputs": [
    {
     "name": "stdout",
     "output_type": "stream",
     "text": [
      "13 3\n",
      "13 3 9\n",
      "2\n",
      "[5 3 2]\n",
      "6\n"
     ]
    }
   ],
   "source": [
    "import numpy as np\n",
    "import math\n",
    "n,m = (int(x) for x in input().split())\n",
    "if m == 0:\n",
    "    print(1)\n",
    "    exit()\n",
    "a =np.array([int(x) for x in input().split()])\n",
    "sorted_a = np.sort(a)\n",
    "diff = np.diff(sorted_a)-1\n",
    "diff = np.append(diff,[sorted_a[0]-1,n-sorted_a[-1]])\n",
    "diff = diff[diff > 0]\n",
    "if len(diff) == 0:\n",
    "    print(0)\n",
    "    exit()\n",
    "min_num = np.amin(diff)\n",
    "# print(min_num)\n",
    "# print(diff)\n",
    "print(sum([math.ceil(i/min_num) for i in diff]))"
   ]
  },
  {
   "cell_type": "code",
   "execution_count": null,
   "metadata": {},
   "outputs": [],
   "source": []
  }
 ],
 "metadata": {
  "kernelspec": {
   "display_name": "Python 3",
   "language": "python",
   "name": "python3"
  },
  "language_info": {
   "codemirror_mode": {
    "name": "ipython",
    "version": 3
   },
   "file_extension": ".py",
   "mimetype": "text/x-python",
   "name": "python",
   "nbconvert_exporter": "python",
   "pygments_lexer": "ipython3",
   "version": "3.7.6"
  }
 },
 "nbformat": 4,
 "nbformat_minor": 4
}
