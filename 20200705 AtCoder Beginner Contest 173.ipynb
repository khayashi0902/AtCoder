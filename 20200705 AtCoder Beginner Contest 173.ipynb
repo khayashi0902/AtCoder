{
 "cells": [
  {
   "cell_type": "code",
   "execution_count": null,
   "metadata": {},
   "outputs": [],
   "source": [
    "n,k = (int(x) for x in input().split())"
   ]
  },
  {
   "cell_type": "code",
   "execution_count": null,
   "metadata": {},
   "outputs": [],
   "source": [
    "import numpy as np\n",
    "a =np.array([int(x) for x in input().split()])"
   ]
  },
  {
   "cell_type": "code",
   "execution_count": null,
   "metadata": {},
   "outputs": [],
   "source": [
    "a = int(input())\n",
    "print(a+a**2+a**3)"
   ]
  },
  {
   "cell_type": "code",
   "execution_count": 2,
   "metadata": {},
   "outputs": [
    {
     "name": "stdout",
     "output_type": "stream",
     "text": [
      "2000\n",
      "0\n"
     ]
    }
   ],
   "source": [
    "n = int(input())\n",
    "print(-n%1000)"
   ]
  },
  {
   "cell_type": "code",
   "execution_count": 8,
   "metadata": {},
   "outputs": [
    {
     "name": "stdout",
     "output_type": "stream",
     "text": [
      "2\n",
      "AC\n",
      "WA\n",
      "AC × 1\n",
      "WA × 1\n",
      "TLE × 0\n",
      "RE × 0\n"
     ]
    }
   ],
   "source": [
    "n = int(input())\n",
    "j_dic = {\"AC\":0,\"WA\":0,\"TLE\":0,\"RE\":0}\n",
    "for i in range(n):\n",
    "    j_dic[input()]+=1\n",
    "\n",
    "for k, v in j_dic.items():\n",
    "    print(k,\"×\",v)"
   ]
  },
  {
   "cell_type": "code",
   "execution_count": 127,
   "metadata": {},
   "outputs": [
    {
     "name": "stdout",
     "output_type": "stream",
     "text": [
      "1\n",
      "False\n"
     ]
    },
    {
     "data": {
      "text/plain": [
       "'0b1'"
      ]
     },
     "execution_count": 127,
     "metadata": {},
     "output_type": "execute_result"
    }
   ],
   "source": [
    "import itertools\n",
    "a = 1\n",
    "b = 2\n",
    "a << b\n",
    "print(a>>0)\n",
    "if a >>1 & 1:\n",
    "    print(\"True\")\n",
    "else:\n",
    "    print(\"False\")\n",
    "\n",
    "bin(a)\n",
    "bin(a)"
   ]
  },
  {
   "cell_type": "code",
   "execution_count": 130,
   "metadata": {},
   "outputs": [
    {
     "name": "stdout",
     "output_type": "stream",
     "text": [
      "2 3 2\n",
      "..#\n",
      "###\n",
      "5\n"
     ]
    }
   ],
   "source": [
    "import numpy as np\n",
    "import itertools\n",
    "\n",
    "h,w,k = (int(x) for x in input().split())\n",
    "c = np.array([list(input()) for x in range(h)])\n",
    "answer = 0\n",
    "\n",
    "\n",
    "for x,y in itertools.product(range(2**h), range(2**w)):\n",
    "    count = 0\n",
    "    for i,j in itertools.product(range(h), range(w)):\n",
    "        if x>>i &1 or y>>j&1:continue\n",
    "        if c[i,j]==\"#\":\n",
    "            count+=1\n",
    "    if count == k:\n",
    "        answer += 1\n",
    "        \n",
    "print(answer)"
   ]
  },
  {
   "cell_type": "code",
   "execution_count": 97,
   "metadata": {},
   "outputs": [
    {
     "name": "stdout",
     "output_type": "stream",
     "text": [
      "2 3 2\n",
      "..#\n",
      "###\n",
      "0 1,0 3,0 4,0 5,0 6,1 3,1 4,1 5,1 6,2 3,2 4,2 5,2 6,3 4,3 5,4 5,5\n"
     ]
    }
   ],
   "source": [
    "import numpy as np\n",
    "import itertools\n",
    "\n",
    "h,w,k = (int(x) for x in input().split())\n",
    "c = np.array([list(input()) for x in range(h)])\n",
    "count = 0\n",
    "\n",
    "def do(cn,i):\n",
    "    if i<h:\n",
    "        cn[i] = np.where(cn[i]==\"#\",\".\",\".\")\n",
    "    elif i>h and i<h+w+1:\n",
    "        cn[:,i-h-1] = np.where(cn[:,i-h-1]==\"#\",\".\",\".\")\n",
    "    return cn\n",
    "        \n",
    "for i in range(h+w+1):\n",
    "    for j in range(i+1,h+w+2):\n",
    "        if not (j ==h+w+1 and i>h):\n",
    "            if not(j==h and i<h):\n",
    "                print(i,j,end=\",\")\n",
    "                cn = do(cn,i)\n",
    "                cn = do(cn,j)\n",
    "                if np.count_nonzero(cn == \"#\")==k:\n",
    "                    count+=1\n",
    "                cn = np.array(c)\n",
    "print(count)"
   ]
  },
  {
   "cell_type": "code",
   "execution_count": 100,
   "metadata": {
    "scrolled": false
   },
   "outputs": [
    {
     "name": "stdout",
     "output_type": "stream",
     "text": [
      "2 3 2\n",
      "..#\n",
      "###\n",
      "[['.' '.' '#']\n",
      " ['#' '#' '#']]\n"
     ]
    }
   ],
   "source": [
    "import numpy as np\n",
    "h,w,k = (int(x) for x in input().split())\n",
    "count = 0\n",
    "c = np.array([list(input()) for x in range(h)])\n",
    "\n",
    "print(c)"
   ]
  },
  {
   "cell_type": "code",
   "execution_count": 87,
   "metadata": {},
   "outputs": [
    {
     "name": "stdout",
     "output_type": "stream",
     "text": [
      "[['.' '.' '#']\n",
      " ['#' '#' '#']]\n"
     ]
    }
   ],
   "source": [
    "cn=np.array(c)\n",
    "print(cn)"
   ]
  },
  {
   "cell_type": "code",
   "execution_count": 88,
   "metadata": {},
   "outputs": [
    {
     "name": "stdout",
     "output_type": "stream",
     "text": [
      "[['.' '.' '.']\n",
      " ['#' '#' '#']]\n"
     ]
    }
   ],
   "source": [
    "cn = do(cn,0)\n",
    "cn =do(cn,2)\n",
    "print(cn)"
   ]
  },
  {
   "cell_type": "code",
   "execution_count": 43,
   "metadata": {
    "scrolled": true
   },
   "outputs": [
    {
     "name": "stdout",
     "output_type": "stream",
     "text": [
      "[['.' '.' '.']\n",
      " ['.' '#' '#']]\n"
     ]
    }
   ],
   "source": [
    "cn[:,0] = np.where(cn[:,0]==\"#\",\".\",\".\")\n",
    "print(cn)"
   ]
  },
  {
   "cell_type": "code",
   "execution_count": 30,
   "metadata": {
    "scrolled": true
   },
   "outputs": [
    {
     "name": "stdout",
     "output_type": "stream",
     "text": [
      "[['.' '.' '#']\n",
      " ['#' '#' '#']]\n",
      "['.' '#']\n"
     ]
    }
   ],
   "source": [
    "import numpy as np\n",
    "n = np.array(c)\n",
    "print(n)\n",
    "print(n[:,1])"
   ]
  },
  {
   "cell_type": "code",
   "execution_count": null,
   "metadata": {},
   "outputs": [],
   "source": []
  }
 ],
 "metadata": {
  "kernelspec": {
   "display_name": "Python 3",
   "language": "python",
   "name": "python3"
  },
  "language_info": {
   "codemirror_mode": {
    "name": "ipython",
    "version": 3
   },
   "file_extension": ".py",
   "mimetype": "text/x-python",
   "name": "python",
   "nbconvert_exporter": "python",
   "pygments_lexer": "ipython3",
   "version": "3.7.6"
  }
 },
 "nbformat": 4,
 "nbformat_minor": 4
}
