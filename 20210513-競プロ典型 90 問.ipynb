{
 "metadata": {
  "language_info": {
   "codemirror_mode": {
    "name": "ipython",
    "version": 3
   },
   "file_extension": ".py",
   "mimetype": "text/x-python",
   "name": "python",
   "nbconvert_exporter": "python",
   "pygments_lexer": "ipython3",
   "version": "3.7.6"
  },
  "orig_nbformat": 2,
  "kernelspec": {
   "name": "python3",
   "display_name": "Python 3.7.6 64-bit ('base': conda)"
  },
  "interpreter": {
   "hash": "03b5973216ace595f59713c0bd2ba56481296f7054ddf42ea26de7b56804d44d"
  }
 },
 "nbformat": 4,
 "nbformat_minor": 2,
 "cells": [
  {
   "cell_type": "code",
   "execution_count": null,
   "metadata": {},
   "outputs": [],
   "source": [
    "n,k = (int(x) for x in input().split())\n",
    "\n",
    "import numpy as np\n",
    "a =np.array([int(x) for x in input().split()])\n",
    "\n",
    "l =[int(x) for x in input().split()]\n",
    "\n",
    "a = int(input())\n",
    "\n",
    "xyp = [map(int, input().split()) for _ in range(n)]\n",
    "x, y, p = [list(i) for i in zip(*xyp)]\n",
    "\n",
    "import numpy as np\n",
    "s = np.array([[c for c in input().strip()] for _ in range(h)])\n",
    "\n",
    "cd = [tuple(map(int, input().split())) for _ in range(k)]"
   ]
  },
  {
   "source": [
    "### 001 - Yokan Party（★4）"
   ],
   "cell_type": "markdown",
   "metadata": {}
  },
  {
   "cell_type": "code",
   "execution_count": 13,
   "metadata": {},
   "outputs": [
    {
     "output_type": "stream",
     "name": "stdout",
     "text": [
      "[ 8 13 26 34]\n13\n26\nTrue\n26\nFalse\n"
     ]
    }
   ],
   "source": [
    "#import numpy as np\n",
    "#from collections import deque\n",
    "n,l = (int(x) for x in input().split())\n",
    "k = int(input())\n",
    "#a = np.array([int(x) for x in input().split()])\n",
    "a = [int(x) for x in input().split()]\n",
    "a.append(l)\n",
    "#a = np.append(a,l)\n",
    "\n",
    "def judge(n):#n以上で分割可能か\n",
    "    num = n\n",
    "    cnt = 0\n",
    "    for i in a:\n",
    "        if i >= num:\n",
    "            num = i + n\n",
    "            cnt += 1\n",
    "    #print(cnt)\n",
    "    return cnt >= k+1\n",
    "\n",
    "right = int(l/(k+1))\n",
    "left = 0\n",
    "while right>left:\n",
    "    middle = (left+right+1)//2\n",
    "    if judge(middle):\n",
    "        left = middle\n",
    "    else:\n",
    "        right = middle-1\n",
    "\n",
    "print(left)\n",
    "\n",
    "print(judge(13))\n",
    "print(judge(14))"
   ]
  },
  {
   "source": [
    "### 002 - Encyclopedia of Parentheses（★3）"
   ],
   "cell_type": "markdown",
   "metadata": {}
  },
  {
   "cell_type": "code",
   "execution_count": 10,
   "metadata": {},
   "outputs": [
    {
     "output_type": "stream",
     "name": "stdout",
     "text": [
      "((((()))))\n(((()())))\n(((())()))\n(((()))())\n(((())))()\n((()(())))\n((()()()))\n((()())())\n((()()))()\n((())(()))\n((())()())\n((())())()\n((()))(())\n((()))()()\n(()((())))\n(()(()()))\n(()(())())\n(()(()))()\n(()()(()))\n(()()()())\n(()()())()\n(()())(())\n(()())()()\n(())((()))\n(())(()())\n(())(())()\n(())()(())\n(())()()()\n()(((())))\n()((()()))\n()((())())\n()((()))()\n()(()(()))\n()(()()())\n()(()())()\n()(())(())\n()(())()()\n()()((()))\n()()(()())\n()()(())()\n()()()(())\n()()()()()\n"
     ]
    }
   ],
   "source": [
    "n = int(input())\n",
    "if n%2 == 1:\n",
    "    print()\n",
    "    exit()\n",
    "\n",
    "def judge(i):\n",
    "    l = list(f\"{i:0{n}b}\")\n",
    "    if l.count(\"1\") != n/2:\n",
    "        return False\n",
    "    cnt = 0\n",
    "    s = \"\"\n",
    "    for j in l:\n",
    "        if j == \"0\":\n",
    "            cnt += 1\n",
    "            s += \"(\"\n",
    "        else:\n",
    "            cnt -= 1\n",
    "            if cnt < 0:\n",
    "                return False\n",
    "            s += \")\"\n",
    "    print(s)\n",
    "\n",
    "\n",
    "for i in range(2**n):\n",
    "    judge(i)"
   ]
  },
  {
   "source": [
    "### 003 - Longest Circular Road（★4）"
   ],
   "cell_type": "markdown",
   "metadata": {}
  },
  {
   "cell_type": "code",
   "execution_count": null,
   "metadata": {},
   "outputs": [],
   "source": [
    "n = int(input())\n",
    "ab = [map(int, input().split()) for _ in range(n)]\n",
    "a,b = [list(i) for i in zip(*ab)]\n",
    "\n",
    "\n",
    "\n",
    "def judge(n): #n本行けるか\n",
    "    \n",
    "\n",
    "\n",
    "right = n\n",
    "left = 0\n",
    "while right>left:\n",
    "    middle = (left+right+1)//2\n",
    "    if judge(middle):\n",
    "        left = middle\n",
    "    else:\n",
    "        right = middle-1\n",
    "\n",
    "print(left)"
   ]
  },
  {
   "source": [
    "### 004 - Cross Sum（★2）"
   ],
   "cell_type": "markdown",
   "metadata": {}
  },
  {
   "cell_type": "code",
   "execution_count": null,
   "metadata": {},
   "outputs": [],
   "source": [
    "h,w = (int(x) for x in input().split())\n",
    "a =[[int(x) for x in input().split()] for _ in range(h)]\n",
    "max_h = []\n",
    "max_w = []\n",
    "for j in range(w):\n",
    "    max_w.append(sum(list(map(lambda x: x[j], a))))\n",
    "\n",
    "for ai in a:\n",
    "    num = sum(ai)\n",
    "    for j,mw in enumerate(max_w):\n",
    "        print(num+mw-ai[j],end=\" \")\n",
    "    print()"
   ]
  },
  {
   "cell_type": "code",
   "execution_count": 8,
   "metadata": {},
   "outputs": [
    {
     "output_type": "stream",
     "name": "stdout",
     "text": [
      "[1 2 3]\n"
     ]
    }
   ],
   "source": [
    "import numpy as np\n",
    "a = np.array([[1,1,1],[2,2,2],[3,3,3]])\n",
    "print(a[:,0])"
   ]
  },
  {
   "source": [
    "### 007 - CP Classes（★3）"
   ],
   "cell_type": "markdown",
   "metadata": {}
  },
  {
   "source": [
    "TLE"
   ],
   "cell_type": "markdown",
   "metadata": {}
  },
  {
   "source": [
    "N = int(input())\n",
    "A =[int(x) for x in input().split()]\n",
    "Q = int(input())\n",
    "B = [int(input()) for _ in range(Q)]\n",
    "\n",
    "def calcu(b):\n",
    "    for i,num in enumerate(a_split_num):\n",
    "        if b < num:\n",
    "            print(abs(b-A[i]))\n",
    "            return\n",
    "    print(abs(b-A[-1]))\n",
    "    return\n",
    "\n",
    "a_split_num = []\n",
    "A.sort()\n",
    "for i in range(N-1):\n",
    "    a_split_num.append((A[i]+A[i+1])/2)\n",
    "ans = 0\n",
    "for b_ in B:\n",
    "    calcu(b_)"
   ],
   "cell_type": "code",
   "metadata": {},
   "execution_count": null,
   "outputs": []
  },
  {
   "cell_type": "code",
   "execution_count": null,
   "metadata": {},
   "outputs": [],
   "source": [
    "N = int(input())\n",
    "A =[int(x) for x in input().split()]\n",
    "Q = int(input())\n",
    "B = [int(input()) for _ in range(Q)]\n",
    "\n",
    "\n",
    "def binary_search(b):\n",
    "    left = 0 # 探索する範囲の左端を設定\n",
    "    right = N-1# 探索する範囲の右端を設定\n",
    "    while left <= right:\n",
    "        mid = (left + right) // 2# 探索する範囲の中央を計算\n",
    "        # if mid == 0:\n",
    "        #     print(abs(A[mid]-b))\n",
    "        # elif mid == N-1:\n",
    "        #     print(abs(A[]))\n",
    "        if b < A[mid]:\n",
    "            right = mid - 1\n",
    "        elif b < A[mid+1]:\n",
    "            break\n",
    "        else:\n",
    "            left = mid + 1\n",
    "    if mid == 0:\n",
    "        print(abs(A[mid]-b))\n",
    "    else:\n",
    "        print(min(A[mid+1]-b,b-A[mid]))\n",
    "\n",
    "A.sort()\n",
    "A.insert(0,0)\n",
    "\n",
    "ans = 0\n",
    "for b_ in B:\n",
    "    binary_search(b_)"
   ]
  },
  {
   "source": [
    "### 008 - AtCounter（★4）"
   ],
   "cell_type": "markdown",
   "metadata": {}
  },
  {
   "cell_type": "code",
   "execution_count": 9,
   "metadata": {},
   "outputs": [
    {
     "output_type": "stream",
     "name": "stdout",
     "text": [
      "['a', 't', 't', 'c', 'o', 'r', 'd', 'e', 'e', 'r']\n4\n"
     ]
    }
   ],
   "source": [
    "n = int(input())\n",
    "s = list(input())\n",
    "l = []\n",
    "for atcoder in [\"a\",\"t\",\"c\",\"o\",\"d\",\"e\",\"r\"]:\n",
    "    l.append([i for i, x in enumerate(s) if x == atcoder])\n",
    "\n",
    "def count_num(atcoder_num,index_num):\n",
    "    if atcoder_num == 6:\n",
    "        return 1\n",
    "    else:\n",
    "        num = 0\n",
    "        for i in l[atcoder_num+1]:\n",
    "            if i-index_num>0:\n",
    "                num += count_num(atcoder_num+1,i)\n",
    "        return num\n",
    "\n",
    "ans = 0\n",
    "for i in l[0]:\n",
    "    ans += count_num(1,i)\n",
    "\n",
    "print(ans)"
   ]
  },
  {
   "cell_type": "code",
   "execution_count": null,
   "metadata": {},
   "outputs": [],
   "source": [
    "n = int(input())\n",
    "s = list(input())\n",
    "dp = [[0 for _ in range(n+1)] for _ in range(8)]\n",
    "atcoder = [\"a\",\"t\",\"c\",\"o\",\"d\",\"e\",\"r\"]\n",
    "\n",
    "pos[0][0] = 1\n",
    "\n",
    "for pos in range(n+1):\n",
    "    for atcoder_num in range(8):\n",
    "        dp[pos+1][atcoder_num] += dp[pos][atcoder_num]\n",
    "        if s[pos] == atcoder[atcoder_num]:\n",
    "            dp[pos+1][atcoder_num+1] += dp[pos][atcoder_num]\n",
    "\n",
    "print(dp[7][n])"
   ]
  },
  {
   "cell_type": "code",
   "execution_count": 10,
   "metadata": {},
   "outputs": [
    {
     "output_type": "stream",
     "name": "stdout",
     "text": [
      "[[0, 0, 0, 0, 0, 0, 0, 0, 0, 0, 0], [0, 0, 0, 0, 0, 0, 0, 0, 0, 0, 0], [0, 0, 0, 0, 0, 0, 0, 0, 0, 0, 0], [0, 0, 0, 0, 0, 0, 0, 0, 0, 0, 0], [0, 0, 0, 0, 0, 0, 0, 0, 0, 0, 0], [0, 0, 0, 0, 0, 0, 0, 0, 0, 0, 0], [0, 0, 0, 0, 0, 0, 0, 0, 0, 0, 0], [0, 0, 0, 0, 0, 0, 0, 0, 0, 0, 0]]\n"
     ]
    }
   ],
   "source": [
    "n = 10\n",
    "s = list(input())\n",
    "dp = [[0 for _ in range(n+1)] for _ in range(8)]\n",
    "print(dp)"
   ]
  },
  {
   "source": [
    "### 010 - Score Sum Queries（★2）"
   ],
   "cell_type": "markdown",
   "metadata": {}
  },
  {
   "cell_type": "code",
   "execution_count": null,
   "metadata": {},
   "outputs": [],
   "source": [
    "n = int(input())\n",
    "cp = [map(int, input().split()) for _ in range(n)]\n",
    "c, p = [list(i) for i in zip(*cp)]\n",
    "q = int(input())\n",
    "\n",
    "\n",
    "sum1 = [0]\n",
    "sum2 = [0]\n",
    "\n",
    "for i in range(n):\n",
    "    if c[i] == 1:\n",
    "        sum1.append(sum1[-1]+p[i])\n",
    "        sum2.append(sum2[-1])\n",
    "    else:\n",
    "        sum2.append(sum2[-1]+p[i])\n",
    "        sum1.append(sum1[-1])\n",
    "\n",
    "for _ in range(q):\n",
    "    l,r = (int(x) for x in input().split())\n",
    "    print(sum1[r]-sum1[l-1],sum2[r]-sum2[l-1])\n"
   ]
  },
  {
   "source": [
    "### 012 - Red Painting（★4）"
   ],
   "cell_type": "markdown",
   "metadata": {}
  },
  {
   "cell_type": "code",
   "execution_count": 1,
   "metadata": {},
   "outputs": [
    {
     "output_type": "stream",
     "name": "stdout",
     "text": [
      "[[0, 0, 0], [0, 0, 0]]\n"
     ]
    }
   ],
   "source": [
    "h,w = (int(x) for x in input().split())\n",
    "Q = int(input())\n",
    "\n",
    "masu = [0 for _ in range(h*w)]\n",
    "\n",
    "class UnionFind():\n",
    "    def __init__(self, n):\n",
    "        self.n = n\n",
    "        self.parents = [-1] * n\n",
    "    def find(self, x):\n",
    "        if self.parents[x] < 0:\n",
    "            return x\n",
    "        else:\n",
    "            self.parents[x] = self.find(self.parents[x])\n",
    "            return self.parents[x]\n",
    "    ##xとyをつなげる\n",
    "    def union(self, x, y):\n",
    "        x = self.find(x)\n",
    "        y = self.find(y)\n",
    "        if x == y:\n",
    "            return\n",
    "        if self.parents[x] > self.parents[y]:\n",
    "            x, y = y, x\n",
    "        self.parents[x] += self.parents[y]\n",
    "        self.parents[y] = x\n",
    "    def size(self, x):\n",
    "        return -self.parents[self.find(x)]\n",
    "    def same(self, x, y):\n",
    "        return self.find(x) == self.find(y)\n",
    "    def members(self, x):\n",
    "        root = self.find(x)\n",
    "        return [i for i in range(self.n) if self.find(i) == root]\n",
    "    def roots(self):\n",
    "        return [i for i, x in enumerate(self.parents) if x < 0]\n",
    "    #グループの数をカウントする\n",
    "    def group_count(self):\n",
    "        return len(self.roots())\n",
    "    def all_group_members(self):\n",
    "        return {r: self.members(r) for r in self.roots()}\n",
    "    def __str__(self):\n",
    "        return '\\n'.join('{}: {}'.format(r, self.members(r)) for r in self.roots())\n",
    "\n",
    "U = UnionFind(h*w)\n",
    "for _ in range(Q):\n",
    "    l = [int(x) for x in input().split()]\n",
    "    if l[0] == 1:\n",
    "        num = (l[1]-1)*h+l[2]-1\n",
    "        masu[num] = 1\n",
    "        if num-1>=0 and masu[num-1] == 1:\n",
    "            U.union(num-1,num)\n",
    "        if num+1<h*w and masu[num+1] == 1:\n",
    "            U.union(num+1,num)\n",
    "        if num+h<h*w and masu[num+h] == 1:\n",
    "            U.union(num+h,num)\n",
    "        if num-h>=0 and masu[num-h] == 1:\n",
    "            U.union(num-h,num)\n",
    "    else:\n",
    "        if U.same((l[1]-1)*h+l[2]-1,(l[3]-1)*h+l[4]-1) and masu[(l[1]-1)*h+l[2]-1] == 1:\n",
    "            print(\"Yes\")\n",
    "        else:\n",
    "            print(\"No\")"
   ]
  },
  {
   "cell_type": "code",
   "execution_count": null,
   "metadata": {},
   "outputs": [],
   "source": [
    "h,w = (int(x) for x in input().split())\n",
    "Q = int(input())\n",
    "\n",
    "masu = [0 for _ in range(h*w)]\n",
    "\n",
    "class UnionFind():\n",
    "    def __init__(self, n):\n",
    "        self.n = n\n",
    "        self.parents = [-1] * n\n",
    "    def find(self, x):\n",
    "        if self.parents[x] < 0:\n",
    "            return x\n",
    "        else:\n",
    "            self.parents[x] = self.find(self.parents[x])\n",
    "            return self.parents[x]\n",
    "    ##xとyをつなげる\n",
    "    def union(self, x, y):\n",
    "        x = self.find(x)\n",
    "        y = self.find(y)\n",
    "        if x == y:\n",
    "            return\n",
    "        if self.parents[x] > self.parents[y]:\n",
    "            x, y = y, x\n",
    "        self.parents[x] += self.parents[y]\n",
    "        self.parents[y] = x\n",
    "    def size(self, x):\n",
    "        return -self.parents[self.find(x)]\n",
    "    def same(self, x, y):\n",
    "        return self.find(x) == self.find(y)\n",
    "    def members(self, x):\n",
    "        root = self.find(x)\n",
    "        return [i for i in range(self.n) if self.find(i) == root]\n",
    "    def roots(self):\n",
    "        return [i for i, x in enumerate(self.parents) if x < 0]\n",
    "    #グループの数をカウントする\n",
    "    def group_count(self):\n",
    "        return len(self.roots())\n",
    "    def all_group_members(self):\n",
    "        return {r: self.members(r) for r in self.roots()}\n",
    "    def __str__(self):\n",
    "        return '\\n'.join('{}: {}'.format(r, self.members(r)) for r in self.roots())\n",
    "\n",
    "U = UnionFind(h*w)\n",
    "for _ in range(Q):\n",
    "    l = [int(x) for x in input().split()]\n",
    "    if l[0] == 1:\n",
    "        num = (l[1]-1)*w+l[2]-1\n",
    "        masu[num] = 1\n",
    "        if l[2]>1 and masu[num-1] == 1:\n",
    "            U.union(num-1,num)\n",
    "        if l[2]<w and masu[num+1] == 1:\n",
    "            U.union(num+1,num)\n",
    "        if l[1]<h and masu[num+w] == 1:\n",
    "            U.union(num+w,num)\n",
    "        if l[1]>1 and masu[num-w] == 1:\n",
    "            U.union(num-w,num)\n",
    "    else:\n",
    "        if U.same((l[1]-1)*w+l[2]-1,(l[3]-1)*w+l[4]-1) and masu[(l[1]-1)*w+l[2]-1] == 1:\n",
    "            print(\"Yes\")\n",
    "        else:\n",
    "            print(\"No\")"
   ]
  }
 ]
}