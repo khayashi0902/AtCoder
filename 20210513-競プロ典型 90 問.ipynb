{
 "metadata": {
  "language_info": {
   "codemirror_mode": {
    "name": "ipython",
    "version": 3
   },
   "file_extension": ".py",
   "mimetype": "text/x-python",
   "name": "python",
   "nbconvert_exporter": "python",
   "pygments_lexer": "ipython3",
   "version": "3.7.6"
  },
  "orig_nbformat": 2,
  "kernelspec": {
   "name": "python376jvsc74a57bd003b5973216ace595f59713c0bd2ba56481296f7054ddf42ea26de7b56804d44d",
   "display_name": "Python 3.7.6 64-bit ('base': conda)"
  }
 },
 "nbformat": 4,
 "nbformat_minor": 2,
 "cells": [
  {
   "cell_type": "code",
   "execution_count": null,
   "metadata": {},
   "outputs": [],
   "source": [
    "n,k = (int(x) for x in input().split())\n",
    "\n",
    "import numpy as np\n",
    "a =np.array([int(x) for x in input().split()])\n",
    "\n",
    "l =[int(x) for x in input().split()]\n",
    "\n",
    "a = int(input())\n",
    "\n",
    "xyp = [map(int, input().split()) for _ in range(n)]\n",
    "x, y, p = [list(i) for i in zip(*xyp)]\n",
    "\n",
    "import numpy as np\n",
    "s = np.array([[c for c in input().strip()] for _ in range(h)])\n",
    "\n",
    "cd = [tuple(map(int, input().split())) for _ in range(k)]"
   ]
  },
  {
   "source": [
    "### 001 - Yokan Party（★4）"
   ],
   "cell_type": "markdown",
   "metadata": {}
  },
  {
   "cell_type": "code",
   "execution_count": 13,
   "metadata": {},
   "outputs": [
    {
     "output_type": "stream",
     "name": "stdout",
     "text": [
      "[ 8 13 26 34]\n13\n26\nTrue\n26\nFalse\n"
     ]
    }
   ],
   "source": [
    "#import numpy as np\n",
    "#from collections import deque\n",
    "n,l = (int(x) for x in input().split())\n",
    "k = int(input())\n",
    "#a = np.array([int(x) for x in input().split()])\n",
    "a = [int(x) for x in input().split()]\n",
    "a.append(l)\n",
    "#a = np.append(a,l)\n",
    "\n",
    "def judge(n):#n以上で分割可能か\n",
    "    num = n\n",
    "    cnt = 0\n",
    "    for i in a:\n",
    "        if i >= num:\n",
    "            num = i + n\n",
    "            cnt += 1\n",
    "    #print(cnt)\n",
    "    return cnt >= k+1\n",
    "\n",
    "right = int(l/(k+1))\n",
    "left = 0\n",
    "while right>left:\n",
    "    middle = (left+right+1)//2\n",
    "    if judge(middle):\n",
    "        left = middle\n",
    "    else:\n",
    "        right = middle-1\n",
    "\n",
    "print(left)\n",
    "\n",
    "print(judge(13))\n",
    "print(judge(14))"
   ]
  },
  {
   "source": [
    "### 002 - Encyclopedia of Parentheses（★3）"
   ],
   "cell_type": "markdown",
   "metadata": {}
  },
  {
   "cell_type": "code",
   "execution_count": 10,
   "metadata": {},
   "outputs": [
    {
     "output_type": "stream",
     "name": "stdout",
     "text": [
      "((((()))))\n(((()())))\n(((())()))\n(((()))())\n(((())))()\n((()(())))\n((()()()))\n((()())())\n((()()))()\n((())(()))\n((())()())\n((())())()\n((()))(())\n((()))()()\n(()((())))\n(()(()()))\n(()(())())\n(()(()))()\n(()()(()))\n(()()()())\n(()()())()\n(()())(())\n(()())()()\n(())((()))\n(())(()())\n(())(())()\n(())()(())\n(())()()()\n()(((())))\n()((()()))\n()((())())\n()((()))()\n()(()(()))\n()(()()())\n()(()())()\n()(())(())\n()(())()()\n()()((()))\n()()(()())\n()()(())()\n()()()(())\n()()()()()\n"
     ]
    }
   ],
   "source": [
    "n = int(input())\n",
    "if n%2 == 1:\n",
    "    print()\n",
    "    exit()\n",
    "\n",
    "def judge(i):\n",
    "    l = list(f\"{i:0{n}b}\")\n",
    "    if l.count(\"1\") != n/2:\n",
    "        return False\n",
    "    cnt = 0\n",
    "    s = \"\"\n",
    "    for j in l:\n",
    "        if j == \"0\":\n",
    "            cnt += 1\n",
    "            s += \"(\"\n",
    "        else:\n",
    "            cnt -= 1\n",
    "            if cnt < 0:\n",
    "                return False\n",
    "            s += \")\"\n",
    "    print(s)\n",
    "\n",
    "\n",
    "for i in range(2**n):\n",
    "    judge(i)"
   ]
  },
  {
   "source": [
    "### 003 - Longest Circular Road（★4）"
   ],
   "cell_type": "markdown",
   "metadata": {}
  },
  {
   "cell_type": "code",
   "execution_count": null,
   "metadata": {},
   "outputs": [],
   "source": [
    "n = int(input())\n",
    "ab = [map(int, input().split()) for _ in range(n)]\n",
    "a,b = [list(i) for i in zip(*ab)]\n",
    "\n",
    "\n",
    "\n",
    "def judge(n): #n本行けるか\n",
    "    \n",
    "\n",
    "\n",
    "right = n\n",
    "left = 0\n",
    "while right>left:\n",
    "    middle = (left+right+1)//2\n",
    "    if judge(middle):\n",
    "        left = middle\n",
    "    else:\n",
    "        right = middle-1\n",
    "\n",
    "print(left)"
   ]
  },
  {
   "source": [
    "### 004 - Cross Sum（★2）"
   ],
   "cell_type": "markdown",
   "metadata": {}
  },
  {
   "cell_type": "code",
   "execution_count": null,
   "metadata": {},
   "outputs": [],
   "source": [
    "h,w = (int(x) for x in input().split())\n",
    "a =[[int(x) for x in input().split()] for _ in range(h)]\n",
    "max_h = []\n",
    "max_w = []\n",
    "for j in range(w):\n",
    "    max_w.append(sum(list(map(lambda x: x[j], a))))\n",
    "\n",
    "for ai in a:\n",
    "    num = sum(ai)\n",
    "    for j,mw in enumerate(max_w):\n",
    "        print(num+mw-ai[j],end=\" \")\n",
    "    print()"
   ]
  },
  {
   "cell_type": "code",
   "execution_count": 8,
   "metadata": {},
   "outputs": [
    {
     "output_type": "stream",
     "name": "stdout",
     "text": [
      "[1 2 3]\n"
     ]
    }
   ],
   "source": [
    "import numpy as np\n",
    "a = np.array([[1,1,1],[2,2,2],[3,3,3]])\n",
    "print(a[:,0])"
   ]
  },
  {
   "source": [],
   "cell_type": "markdown",
   "metadata": {}
  }
 ]
}