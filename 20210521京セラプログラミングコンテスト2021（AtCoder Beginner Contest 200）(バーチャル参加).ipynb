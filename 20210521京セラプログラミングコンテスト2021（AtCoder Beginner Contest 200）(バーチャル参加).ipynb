{
 "metadata": {
  "language_info": {
   "codemirror_mode": {
    "name": "ipython",
    "version": 3
   },
   "file_extension": ".py",
   "mimetype": "text/x-python",
   "name": "python",
   "nbconvert_exporter": "python",
   "pygments_lexer": "ipython3",
   "version": "3.7.6"
  },
  "orig_nbformat": 2,
  "kernelspec": {
   "name": "python376jvsc74a57bd003b5973216ace595f59713c0bd2ba56481296f7054ddf42ea26de7b56804d44d",
   "display_name": "Python 3.7.6 64-bit ('base': conda)"
  }
 },
 "nbformat": 4,
 "nbformat_minor": 2,
 "cells": [
  {
   "cell_type": "code",
   "execution_count": null,
   "metadata": {},
   "outputs": [],
   "source": [
    "n,k = (int(x) for x in input().split())\n",
    "\n",
    "import numpy as np\n",
    "a =np.array([int(x) for x in input().split()])\n",
    "\n",
    "l =[int(x) for x in input().split()]\n",
    "\n",
    "a = int(input())\n",
    "\n",
    "xyp = [map(int, input().split()) for _ in range(n)]\n",
    "x, y, p = [list(i) for i in zip(*xyp)]\n",
    "\n",
    "import numpy as np\n",
    "s = np.array([[c for c in input().strip()] for _ in range(h)])\n",
    "\n",
    "cd = [tuple(map(int, input().split())) for _ in range(k)]"
   ]
  },
  {
   "cell_type": "code",
   "execution_count": 3,
   "metadata": {},
   "outputs": [
    {
     "output_type": "stream",
     "name": "stdout",
     "text": [
      "2\n"
     ]
    }
   ],
   "source": [
    "import math\n",
    "n = int(input())\n",
    "print(math.ceil(n/100))"
   ]
  },
  {
   "cell_type": "code",
   "execution_count": 9,
   "metadata": {},
   "outputs": [
    {
     "output_type": "stream",
     "name": "stdout",
     "text": [
      "84875488281\n"
     ]
    }
   ],
   "source": [
    "n,k = (int(x) for x in input().split())\n",
    "for _ in range(k):\n",
    "    if n%200==0:\n",
    "        n //= 200\n",
    "    else:\n",
    "        n = int(str(n)+str(200))\n",
    "print(n)"
   ]
  },
  {
   "cell_type": "code",
   "execution_count": null,
   "metadata": {},
   "outputs": [],
   "source": [
    "from collections import Counter\n",
    "from scipy.special import comb\n",
    "n = int(input())\n",
    "a =[int(x) for x in input().split()]\n",
    "l = list()\n",
    "for ai in a:\n",
    "    l.append(ai%200)\n",
    "c = Counter(l)\n",
    "ans = 0\n",
    "for k,v in c.items():\n",
    "    if v>1:\n",
    "        ans += comb(k, 2, exact=True)\n",
    "print(ans)\n"
   ]
  },
  {
   "cell_type": "code",
   "execution_count": null,
   "metadata": {},
   "outputs": [],
   "source": [
    "from itertools import product\n",
    "from collections import defaultdict\n",
    "import sys\n",
    "\n",
    "def print_ans(n):\n",
    "    l = list()\n",
    "    for j in range(length-1):\n",
    "        if n>>j & 1:\n",
    "            l.append(j+1)\n",
    "    print(len(l),end=\" \")\n",
    "    print(\" \".join(l))\n",
    "\n",
    "n = int(input())\n",
    "a =[int(x)//200 for x in input().split()]\n",
    "length = min(n,8)\n",
    "aa = a[:length]\n",
    "d = dict()\n",
    "for i in range(1,2**(length-1)):\n",
    "    num = 0\n",
    "    for j in range(length-1):\n",
    "        if i>>j & 1:\n",
    "            num += aa[j]\n",
    "    if num not in d.keys():\n",
    "        d[num] = i\n",
    "    else:\n",
    "        print(\"Yes\")\n",
    "        print_ans(d[num])\n",
    "        print_ans(i)\n",
    "        sys.exit()\n",
    "\n",
    "print(\"No\")"
   ]
  }
 ]
}