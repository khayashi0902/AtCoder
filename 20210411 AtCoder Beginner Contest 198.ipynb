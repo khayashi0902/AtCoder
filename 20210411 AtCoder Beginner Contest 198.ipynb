{
 "cells": [
  {
   "cell_type": "code",
   "execution_count": null,
   "metadata": {},
   "outputs": [],
   "source": [
    "n,k = (int(x) for x in input().split())\n",
    "\n",
    "import numpy as np\n",
    "a =np.array([int(x) for x in input().split()])\n",
    "\n",
    "l =[int(x) for x in input().split()]\n",
    "\n",
    "a = int(input())\n",
    "\n",
    "xyp = [map(int, input().split()) for _ in range(n)]\n",
    "x, y, p = [list(i) for i in zip(*xyp)]\n",
    "\n",
    "import numpy as np\n",
    "s = np.array([[c for c in input().strip()] for _ in range(h)])\n",
    "\n",
    "cd = [tuple(map(int, input().split())) for _ in range(k)]"
   ]
  },
  {
   "cell_type": "code",
   "execution_count": 1,
   "metadata": {
    "scrolled": false
   },
   "outputs": [
    {
     "name": "stdout",
     "output_type": "stream",
     "text": [
      "5 3 7 11\n",
      "3\n"
     ]
    }
   ],
   "source": [
    "a =[int(x) for x in input().split()]\n",
    "if :\n",
    "    print(\"Yes\")\n",
    "else:\n",
    "    print(\"No\")"
   ]
  },
  {
   "cell_type": "code",
   "execution_count": null,
   "metadata": {},
   "outputs": [],
   "source": [
    "n = int(input())\n",
    "print(n-1)"
   ]
  },
  {
   "cell_type": "code",
   "execution_count": 9,
   "metadata": {},
   "outputs": [
    {
     "name": "stdout",
     "output_type": "stream",
     "text": [
      "777\n",
      "Yes\n"
     ]
    }
   ],
   "source": [
    "import sys\n",
    "s = input()\n",
    "if s == \"0\":\n",
    "    print(\"Yes\")\n",
    "    sys.exit()\n",
    "\n",
    "a = [int(c) for c in s]\n",
    "while a[-1] == 0:\n",
    "    a.pop(-1)\n",
    "for i in range(len(a)//2):\n",
    "    if a[i] != a[-1-i]:\n",
    "        print(\"No\")\n",
    "        sys.exit()\n",
    "print(\"Yes\")"
   ]
  },
  {
   "cell_type": "code",
   "execution_count": 11,
   "metadata": {},
   "outputs": [
    {
     "name": "stdout",
     "output_type": "stream",
     "text": [
      "01\n"
     ]
    }
   ],
   "source": [
    "s = \"0\"\n",
    "ss = \"1\"\n",
    "s += ss\n",
    "print(s)"
   ]
  },
  {
   "cell_type": "code",
   "execution_count": 16,
   "metadata": {},
   "outputs": [
    {
     "name": "stdout",
     "output_type": "stream",
     "text": [
      "3 1 1\n",
      "2\n"
     ]
    }
   ],
   "source": [
    "import math\n",
    "r,x,y = (int(x) for x in input().split())\n",
    "length = math.sqrt(x**2 + y**2)\n",
    "if length < r:\n",
    "    print(2)\n",
    "else:\n",
    "    print(math.ceil(length/r))"
   ]
  },
  {
   "cell_type": "code",
   "execution_count": 1,
   "metadata": {},
   "outputs": [
    {
     "name": "stdout",
     "output_type": "stream",
     "text": [
      "awd\n",
      "asd\n",
      "a\n",
      "UNSOLVABLE\n"
     ]
    }
   ],
   "source": [
    "import itertools\n",
    "s = [[c for c in input()] for _ in range(3)]\n",
    "s_set = set(s[0]+s[1]+s[2])\n",
    "if len(s_set) > 10:\n",
    "    print(\"UNSOLVABLE\")\n",
    "    exit()\n",
    "l0,l1,l2 = len(s[0]),len(s[1]),len(s[2])\n",
    "if not(l2 == max(l0,l1) or l2 == max(l0,l1)+1):\n",
    "    print(\"UNSOLVABLE\")\n",
    "    exit()\n",
    "d = dict()\n",
    "\n",
    "def a(ll):\n",
    "    for i,ss in enumerate(list(s_set)):\n",
    "        d[ss] = ll[i]\n",
    "    sl = [[],[],[]]\n",
    "    #s0,s1,s2 = [],[],[]\n",
    "    if d[s[0][0]] != \"0\" and d[s[1][0]] != \"0\" and d[s[2][0]] != \"0\":\n",
    "        for i,ss in enumerate(s):\n",
    "            for ssi in ss:\n",
    "                sl[i].append(d[ssi])\n",
    "        s0 = \"\".join(sl[0])\n",
    "        s1 = \"\".join(sl[1])\n",
    "        s2 = \"\".join(sl[2])\n",
    "        if s0 + s1 == s2:\n",
    "            print(\"\\n\".join([s0,s1,s2]))\n",
    "            exit()\n",
    "            \n",
    "def main():\n",
    "    seq = [\"1\",\"2\",\"3\",\"4\",\"5\",\"6\",\"7\",\"8\",\"9\",\"0\"]\n",
    "    all_ll = list(itertools.permutations(seq, len(s_set)))\n",
    "    for ll in all_ll:\n",
    "        a(ll)\n",
    "    print(\"UNSOLVABLE\")\n",
    "    \n",
    "main()"
   ]
  },
  {
   "cell_type": "code",
   "execution_count": 20,
   "metadata": {},
   "outputs": [
    {
     "name": "stdout",
     "output_type": "stream",
     "text": [
      "a\n",
      "b\n",
      "c\n"
     ]
    }
   ],
   "source": [
    "import itertools\n",
    "s = [input() for _ in range(3)]\n",
    "s_set = set(s[0]+s[1]+s[2])\n",
    "if len(s_set) > 10:\n",
    "    print(\"UNSOLVABLE\")\n",
    "    exit()\n",
    "l0,l1,l2 = len(s[0]),len(s[1]),len(s[2])\n",
    "if not(l2 == max(l0,l1) or l2 == max(l0,l1)+1):\n",
    "    print(\"UNSOLVABLE\")\n",
    "    exit()\n",
    "d = dict()\n",
    "\n",
    "def a(ll):\n",
    "    for i,ss in enumerate(s_set):\n",
    "        d[ss] = ll[i]\n",
    "    s0,s1,s2 = [],[],[]\n",
    "    if (int(d[s[0][-1]]) + int(d[s[1][-1]])) % 10 != int(d[s[2][-1]]):\n",
    "        if d[s[0][0]] != \"0\" and d[s[1][0]] != \"0\" and d[s[2][0]] != \"0\":\n",
    "            for ss0 in s[0]:\n",
    "                s0.append(d[ss0])\n",
    "            for ss1 in s[1]:\n",
    "                s1.append(d[ss1])\n",
    "            for ss2 in s[2]:\n",
    "                s2.append(d[ss2])\n",
    "            if int(\"\".join(s0)) + int(\"\".join(s1)) == int(\"\".join(s2)):\n",
    "                print(\"\".join(s0))\n",
    "                print(\"\".join(s1))\n",
    "                print(\"\".join(s2))\n",
    "                exit()\n",
    "      \n",
    "def main():\n",
    "    seq = [\"1\",\"2\",\"3\",\"4\",\"5\",\"6\",\"7\",\"8\",\"9\",\"0\"]\n",
    "    all_ll = list(itertools.permutations(seq, len(s_set)))\n",
    "    for ll in all_ll:\n",
    "        a(ll)\n",
    "    print(\"UNSOLVABLE\")\n",
    "    \n",
    "main()"
   ]
  },
  {
   "cell_type": "code",
   "execution_count": null,
   "metadata": {},
   "outputs": [],
   "source": []
  }
 ],
 "metadata": {
  "kernelspec": {
   "name": "python376jvsc74a57bd003b5973216ace595f59713c0bd2ba56481296f7054ddf42ea26de7b56804d44d",
   "display_name": "Python 3.7.6 64-bit ('base': conda)"
  },
  "language_info": {
   "codemirror_mode": {
    "name": "ipython",
    "version": 3
   },
   "file_extension": ".py",
   "mimetype": "text/x-python",
   "name": "python",
   "nbconvert_exporter": "python",
   "pygments_lexer": "ipython3",
   "version": "3.7.6"
  }
 },
 "nbformat": 4,
 "nbformat_minor": 4
}