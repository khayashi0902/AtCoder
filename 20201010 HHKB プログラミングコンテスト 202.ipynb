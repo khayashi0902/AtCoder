{
 "cells": [
  {
   "cell_type": "code",
   "execution_count": null,
   "metadata": {},
   "outputs": [],
   "source": [
    "n,k = (int(x) for x in input().split())\n",
    "\n",
    "import numpy as np\n",
    "a =np.array([int(x) for x in input().split()])\n",
    "\n",
    "l =[int(x) for x in input().split()]\n",
    "\n",
    "a = int(input())\n",
    "\n",
    "xyp = [map(int, input().split()) for _ in range(n)]\n",
    "x, y, p = [list(i) for i in zip(*xyp)]\n",
    "\n",
    "import numpy as np\n",
    "s = np.array([[c for c in input().strip()] for _ in range(h)])"
   ]
  },
  {
   "cell_type": "code",
   "execution_count": null,
   "metadata": {},
   "outputs": [],
   "source": []
  },
  {
   "cell_type": "code",
   "execution_count": 2,
   "metadata": {},
   "outputs": [
    {
     "name": "stdout",
     "output_type": "stream",
     "text": [
      "N\n",
      "b\n",
      "b\n"
     ]
    }
   ],
   "source": [
    "s = input()\n",
    "t = input()\n",
    "if s == \"Y\":\n",
    "    print(t.upper())\n",
    "else:\n",
    "    print(t)"
   ]
  },
  {
   "cell_type": "code",
   "execution_count": 8,
   "metadata": {},
   "outputs": [
    {
     "name": "stdout",
     "output_type": "stream",
     "text": [
      "2 2\n",
      ".#\n",
      "#.\n",
      "0\n"
     ]
    }
   ],
   "source": [
    "h,w = (int(x) for x in input().split())\n",
    "s = [input() for i in range(h)]\n",
    "count = 0\n",
    "for i in range(h):\n",
    "    for j in range(w-1):\n",
    "        if s[i][j]==\".\" and s[i][j+1]==\".\":\n",
    "            count += 1\n",
    "\n",
    "for j in range(w):\n",
    "    for i in range(h-1):\n",
    "        if s[i][j]==\".\" and s[i+1][j]==\".\":\n",
    "            count += 1\n",
    "            \n",
    "print(count)"
   ]
  },
  {
   "cell_type": "code",
   "execution_count": 15,
   "metadata": {
    "scrolled": true
   },
   "outputs": [
    {
     "name": "stdout",
     "output_type": "stream",
     "text": [
      "4\n",
      "1 1 0 2\n",
      "0\n",
      "0\n",
      "2\n",
      "3\n"
     ]
    }
   ],
   "source": [
    "n = int(input())\n",
    "p =[int(x) for x in input().split()]\n",
    "l = [False]*(max(p)+2)\n",
    "min_num = 0\n",
    "for i in p:\n",
    "    l[i] = True\n",
    "    while l[min_num]:\n",
    "        min_num += 1\n",
    "    print(min_num)"
   ]
  },
  {
   "cell_type": "code",
   "execution_count": 34,
   "metadata": {},
   "outputs": [
    {
     "name": "stdout",
     "output_type": "stream",
     "text": [
      "4\n",
      "1 1 0 2\n",
      "0\n",
      "0\n",
      "2\n",
      "3\n"
     ]
    }
   ],
   "source": [
    "from collections import deque\n",
    "n = int(input())\n",
    "p =[int(x) for x in input().split()]\n",
    "l = deque(list(range(200001)))\n",
    "for i in p:\n",
    "    if i in l:\n",
    "        l.remove(i)\n",
    "    print(l[0])"
   ]
  },
  {
   "cell_type": "code",
   "execution_count": null,
   "metadata": {},
   "outputs": [],
   "source": [
    "t = int(input())\n",
    "for _ in t:\n",
    "    n,a,b = (int(x) for x in input().split())\n",
    "    if n-a-b<0:\n",
    "        print(0)\n",
    "    else:\n",
    "        ans = (n-a+1)**2*(n-b+1)**2-((n-a+1)*(n-b+1)-(n-a-b+2)*(n-a-b+1))**2\n",
    "        print(ans)"
   ]
  },
  {
   "cell_type": "code",
   "execution_count": 40,
   "metadata": {},
   "outputs": [
    {
     "name": "stdout",
     "output_type": "stream",
     "text": [
      "1 5\n",
      "..#..\n",
      "[2, 2, 2, 2]\n",
      "48\n"
     ]
    }
   ],
   "source": [
    "from collections import Counter,deque\n",
    "#from collections import deque\n",
    "\n",
    "h,w = (int(x) for x in input().split())\n",
    "s = deque([input() for i in range(h)])\n",
    "l = []\n",
    "\n",
    "for i in range(h):\n",
    "    for j in range(w):\n",
    "        if s[i][j]==\".\":\n",
    "            cnt = 1\n",
    "            for a in range(i,h-i):\n",
    "                if s[i+a][j]==\"#\":\n",
    "                    cnt += a-1\n",
    "                    break\n",
    "                elif a == h-i-1:\n",
    "                    cnt += a\n",
    "            for a in range(1,i+1):\n",
    "                if s[i-a][j]==\"#\":\n",
    "                    cnt += a-1\n",
    "                    break\n",
    "                elif a == i:\n",
    "                    cnt += a\n",
    "            for a in range(1,w-j):\n",
    "                if s[i][j+a]==\"#\":\n",
    "                    cnt += a-1\n",
    "                    break\n",
    "                elif a == w-j-1:\n",
    "                    #print(\"壁\",a,end=\" \")\n",
    "                    cnt += a\n",
    "            for a in range(1,j+1):\n",
    "                if s[i][j-a]==\"#\":\n",
    "                    cnt += a-1\n",
    "                    #print(\"#\",a-1,end=\" \")\n",
    "                    break\n",
    "                elif a == j:\n",
    "                    #print(\"壁\",a,end=\" \")\n",
    "                    cnt += a\n",
    "            l.append(cnt)\n",
    "\n",
    "print(l)\n",
    "C = Counter(l)\n",
    "n = sum(C.values())\n",
    "ans = 0\n",
    "mod = 1000000007\n",
    "for k,v in C.items():\n",
    "    ans  = ans + ((2**k-1)*(2**(n-k))*v%mod)\n",
    "\n",
    "print(ans)"
   ]
  },
  {
   "cell_type": "code",
   "execution_count": null,
   "metadata": {},
   "outputs": [],
   "source": []
  }
 ],
 "metadata": {
  "kernelspec": {
   "display_name": "Python 3",
   "language": "python",
   "name": "python3"
  },
  "language_info": {
   "codemirror_mode": {
    "name": "ipython",
    "version": 3
   },
   "file_extension": ".py",
   "mimetype": "text/x-python",
   "name": "python",
   "nbconvert_exporter": "python",
   "pygments_lexer": "ipython3",
   "version": "3.7.6"
  }
 },
 "nbformat": 4,
 "nbformat_minor": 4
}
