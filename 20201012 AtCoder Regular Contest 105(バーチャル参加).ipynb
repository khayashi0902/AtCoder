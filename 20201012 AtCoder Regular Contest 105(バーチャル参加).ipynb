{
 "cells": [
  {
   "cell_type": "code",
   "execution_count": null,
   "metadata": {},
   "outputs": [],
   "source": [
    "n,k = (int(x) for x in input().split())\n",
    "\n",
    "import numpy as np\n",
    "a =np.array([int(x) for x in input().split()])\n",
    "\n",
    "l =[int(x) for x in input().split()]\n",
    "\n",
    "a = int(input())\n",
    "\n",
    "xyp = [map(int, input().split()) for _ in range(n)]\n",
    "x, y, p = [list(i) for i in zip(*xyp)]\n",
    "\n",
    "import numpy as np\n",
    "s = np.array([[c for c in input().strip()] for _ in range(h)])"
   ]
  },
  {
   "cell_type": "code",
   "execution_count": 23,
   "metadata": {},
   "outputs": [
    {
     "data": {
      "text/plain": [
       "[False, False, False]"
      ]
     },
     "execution_count": 23,
     "metadata": {},
     "output_type": "execute_result"
    }
   ],
   "source": [
    "a = [2]\n",
    "[False]*(max(a)+1)"
   ]
  },
  {
   "cell_type": "code",
   "execution_count": 2,
   "metadata": {},
   "outputs": [
    {
     "name": "stdout",
     "output_type": "stream",
     "text": [
      "1 2 4 8\n",
      "No\n"
     ]
    }
   ],
   "source": [
    "a = [int(x) for x in input().split()]\n",
    "s = sum(a)\n",
    "if s%2==1:\n",
    "    print(\"No\")\n",
    "else:\n",
    "    s2 = s/2\n",
    "    if s2 in a:\n",
    "        print(\"Yes\")\n",
    "    else:\n",
    "        a.sort()\n",
    "        if a[0]+a[3]==s2:\n",
    "            print(\"Yes\")\n",
    "        else:\n",
    "            print(\"No\")"
   ]
  },
  {
   "cell_type": "code",
   "execution_count": 19,
   "metadata": {},
   "outputs": [
    {
     "name": "stdout",
     "output_type": "stream",
     "text": [
      "3\n",
      "1 2 3\n",
      "1\n"
     ]
    }
   ],
   "source": [
    "from collections import deque\n",
    "\n",
    "n = int(input())\n",
    "a = set([int(x) for x in input().split()])\n",
    "l = [False]*(max(a)+1)\n",
    "for i in a:\n",
    "    l[i] = True\n",
    "\n",
    "d = deque(l)\n",
    "min_num = min(a)\n",
    "\n",
    "while True:\n",
    "    max_num = len(d)-1\n",
    "    if min_num == max_num:\n",
    "        print(min_num)\n",
    "        break\n",
    "    else:\n",
    "        m = max_num-min_num\n",
    "        d[m] = True\n",
    "        min_num = min(min_num,m)\n",
    "        while True:\n",
    "            d.pop()\n",
    "            if d[-1]:\n",
    "                break"
   ]
  },
  {
   "cell_type": "code",
   "execution_count": null,
   "metadata": {},
   "outputs": [],
   "source": []
  }
 ],
 "metadata": {
  "kernelspec": {
   "display_name": "Python 3",
   "language": "python",
   "name": "python3"
  },
  "language_info": {
   "codemirror_mode": {
    "name": "ipython",
    "version": 3
   },
   "file_extension": ".py",
   "mimetype": "text/x-python",
   "name": "python",
   "nbconvert_exporter": "python",
   "pygments_lexer": "ipython3",
   "version": "3.7.6"
  }
 },
 "nbformat": 4,
 "nbformat_minor": 4
}
