{
 "cells": [
  {
   "cell_type": "code",
   "execution_count": null,
   "metadata": {},
   "outputs": [],
   "source": [
    "n,k = (int(x) for x in input().split())\n",
    "\n",
    "import numpy as np\n",
    "a =np.array([int(x) for x in input().split()])\n",
    "\n",
    "l =[int(x) for x in input().split()]\n",
    "\n",
    "a = int(input())\n",
    "\n",
    "xyp = [map(int, input().split()) for _ in range(n)]\n",
    "x, y, p = [list(i) for i in zip(*xyp)]\n",
    "\n",
    "import numpy as np\n",
    "s = np.array([[c for c in input().strip()] for _ in range(h)])"
   ]
  },
  {
   "cell_type": "code",
   "execution_count": 2,
   "metadata": {},
   "outputs": [
    {
     "name": "stdout",
     "output_type": "stream",
     "text": [
      "sws\n",
      "Lost\n"
     ]
    }
   ],
   "source": [
    "n = input()\n",
    "if n[0]==n[1] and n[1]==n[2]:\n",
    "    print(\"Won\")\n",
    "else:\n",
    "    print(\"Lost\")"
   ]
  },
  {
   "cell_type": "code",
   "execution_count": 3,
   "metadata": {
    "scrolled": true
   },
   "outputs": [
    {
     "name": "stdout",
     "output_type": "stream",
     "text": [
      "100 100\n",
      "100 100\n",
      "0\n"
     ]
    }
   ],
   "source": [
    "import sys\n",
    "n,x = (int(x) for x in input().split())\n",
    "vp = [map(int, input().split()) for _ in range(n)]\n",
    "v, p = [list(i) for i in zip(*vp)]\n",
    "x *= 100\n",
    "\n",
    "a = 0\n",
    "for i in range(n):\n",
    "    a += v*p\n",
    "    if a >x:\n",
    "        print(i+1)\n",
    "        sys.exit()\n",
    "print(-1)"
   ]
  },
  {
   "cell_type": "code",
   "execution_count": 5,
   "metadata": {},
   "outputs": [
    {
     "name": "stdout",
     "output_type": "stream",
     "text": [
      "2 10\n",
      "200 5\n",
      "350 3\n",
      "[10, 10]\n",
      "1\n"
     ]
    },
    {
     "ename": "SystemExit",
     "evalue": "",
     "output_type": "error",
     "traceback": [
      "An exception has occurred, use %tb to see the full traceback.\n",
      "\u001b[0;31mSystemExit\u001b[0m\n"
     ]
    }
   ],
   "source": [
    "import sys\n",
    "n,x = (int(x) for x in input().split())\n",
    "a = list()\n",
    "for _ in range(n):\n",
    "    v,p = (int(y) for y in input().split())\n",
    "    a.append(v*p//100)\n",
    "\n",
    "print(a)\n",
    "\n",
    "for i in range(n):\n",
    "    if sum(a[:n]) > x:\n",
    "        print(i+1)\n",
    "        sys.exit()\n",
    "print(-1)"
   ]
  },
  {
   "cell_type": "code",
   "execution_count": 19,
   "metadata": {},
   "outputs": [
    {
     "name": "stdout",
     "output_type": "stream",
     "text": [
      "6\n",
      "2 4 4 9 4 9\n",
      "0 1 2\n",
      "a\n",
      "0 2 4\n",
      "a\n",
      "0 3 6\n",
      "a\n",
      "0 4 8\n",
      "a\n",
      "0 5 10\n",
      "a\n",
      "0 6 12\n",
      "a\n",
      "1 2 4\n",
      "1 3 8\n",
      "1 4 12\n",
      "1 5 16\n",
      "a\n",
      "1 6 20\n",
      "a\n",
      "2 3 4\n",
      "2 4 8\n",
      "2 5 12\n",
      "2 6 16\n",
      "3 4 9\n",
      "3 5 8\n",
      "3 6 12\n",
      "4 5 4\n",
      "4 6 8\n",
      "20\n"
     ]
    }
   ],
   "source": [
    "#n = int(input())\n",
    "#a = [int(x) for x in input().split()]\n",
    "n = 10000\n",
    "a = [1]*n\n",
    "\n",
    "eat_num = 0\n",
    "for i in range(n-1):\n",
    "    for j in range(i+1,n+1):\n",
    "        min_num = a[i]\n",
    "        if a[j]<min_num:\n",
    "            min_num = a[j]\n",
    "        e = min_num*(j-i)\n",
    "        if e>eat_num:\n",
    "            eat_num = e\n",
    "print(eat_num)"
   ]
  },
  {
   "cell_type": "code",
   "execution_count": 14,
   "metadata": {},
   "outputs": [
    {
     "data": {
      "text/plain": [
       "3"
      ]
     },
     "execution_count": 14,
     "metadata": {},
     "output_type": "execute_result"
    }
   ],
   "source": [
    "n = int(input())\n",
    "s = [int(input()) for i in range(n)]\n",
    "\n",
    "def y(n,x):\n",
    "    if s==\"OR\":\n",
    "        return y(n-1) or  x[n]\n",
    "    else:\n",
    "        return y(n-1) and x[n]\n",
    "    \n",
    "cnt = 0\n",
    "for i in range(n):\n",
    "    for j in range(n)"
   ]
  },
  {
   "cell_type": "code",
   "execution_count": 23,
   "metadata": {},
   "outputs": [
    {
     "name": "stdout",
     "output_type": "stream",
     "text": [
      "6\n",
      "1 2 3 4 5 6\n",
      "0 6\n",
      "0 5\n",
      "0 4\n",
      "0 3\n",
      "0 2\n",
      "0 1\n",
      "1 6\n",
      "1 5\n",
      "1 4\n",
      "1 3\n",
      "1 2\n",
      "2 6\n",
      "2 5\n",
      "2 4\n",
      "2 3\n",
      "3 6\n",
      "3 5\n",
      "3 4\n",
      "4 6\n",
      "4 5\n",
      "5 6\n"
     ]
    }
   ],
   "source": [
    "#n = int(input())\n",
    "#a = [int(x) for x in input().split()]\n",
    "n = 1000\n",
    "a = [1]*n\n",
    "\n",
    "eat_num = 0\n",
    "for i in range(n):\n",
    "    if a[i-1] == min_num:\n",
    "        min_num = min(a[i:])\n",
    "        eat_num = max(min_num*(n-i),eat_num)\n",
    "        for j in range(n-1,i,-1):\n",
    "            if a[j] == min_num:\n",
    "                min_num = min(a[i:j])\n",
    "                eat_num = max(eat_num,min_num*(j-i))\n",
    "\n",
    "print(eat_num)"
   ]
  },
  {
   "cell_type": "code",
   "execution_count": null,
   "metadata": {},
   "outputs": [],
   "source": [
    "n = int(input())\n",
    "a = [int(x) for x in input().split()]\n",
    "#n = 1000\n",
    "#a = [1]*n\n",
    "\n",
    "eat_num = 0\n",
    "for i in range(n):\n",
    "    min_num = min(a[i:])\n",
    "    for j in range(i,j):\n",
    "        min_num = min(a[j],min_num)\n",
    "        eat_num = max(eat_num,min_num*(j-i+1))\n",
    "\n",
    "print(eat_num)"
   ]
  },
  {
   "cell_type": "code",
   "execution_count": 14,
   "metadata": {},
   "outputs": [
    {
     "name": "stdout",
     "output_type": "stream",
     "text": [
      "2\n",
      "AND\n",
      "OR\n",
      "1\n"
     ]
    },
    {
     "data": {
      "text/plain": [
       "5"
      ]
     },
     "execution_count": 14,
     "metadata": {},
     "output_type": "execute_result"
    }
   ],
   "source": [
    "n = int(input())\n",
    "s = [input() for _ in range(n)]\n",
    "\n",
    "ans = 0\n",
    "\n",
    "def y(i):\n",
    "    if i == -1:\n",
    "        return 1\n",
    "    ans = 0\n",
    "    if s[i] == \"OR\":\n",
    "        ans += 2**(i+1)\n",
    "        ans += y(i-1)\n",
    "    else:\n",
    "        ans += y(i-1)\n",
    "    return ans\n",
    "\n",
    "y(n-1)"
   ]
  },
  {
   "cell_type": "code",
   "execution_count": null,
   "metadata": {},
   "outputs": [],
   "source": [
    "n = int(input())\n",
    "s = [input() for _ in range(n)]\n",
    "\n",
    "ans = 0\n",
    "\n",
    "for i in range(n):\n",
    "    if s[i] == \"OR\":\n",
    "        ans += 2**(i+1)\n",
    "\n",
    "print(ans+1)"
   ]
  }
 ],
 "metadata": {
  "kernelspec": {
   "display_name": "Python 3",
   "language": "python",
   "name": "python3"
  },
  "language_info": {
   "codemirror_mode": {
    "name": "ipython",
    "version": 3
   },
   "file_extension": ".py",
   "mimetype": "text/x-python",
   "name": "python",
   "nbconvert_exporter": "python",
   "pygments_lexer": "ipython3",
   "version": "3.7.6"
  }
 },
 "nbformat": 4,
 "nbformat_minor": 4
}
