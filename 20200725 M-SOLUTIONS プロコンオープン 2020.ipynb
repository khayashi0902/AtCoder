{
 "cells": [
  {
   "cell_type": "code",
   "execution_count": null,
   "metadata": {},
   "outputs": [],
   "source": [
    "n,k = (int(x) for x in input().split())"
   ]
  },
  {
   "cell_type": "code",
   "execution_count": null,
   "metadata": {},
   "outputs": [],
   "source": [
    "import numpy as np\n",
    "a =np.array([int(x) for x in input().split()])"
   ]
  },
  {
   "cell_type": "code",
   "execution_count": null,
   "metadata": {},
   "outputs": [],
   "source": [
    "a = int(input())"
   ]
  },
  {
   "cell_type": "code",
   "execution_count": 2,
   "metadata": {},
   "outputs": [
    {
     "name": "stdout",
     "output_type": "stream",
     "text": [
      "1600\n",
      "2\n"
     ]
    }
   ],
   "source": [
    "x = int(input())\n",
    "\n",
    "ans = 10-x//200\n",
    "print(ans)"
   ]
  },
  {
   "cell_type": "code",
   "execution_count": 4,
   "metadata": {},
   "outputs": [
    {
     "name": "stdout",
     "output_type": "stream",
     "text": [
      "7 4 2\n",
      "3\n",
      "No\n"
     ]
    }
   ],
   "source": [
    "a,b,c = (int(x) for x in input().split())\n",
    "k = int(input())\n",
    "\n",
    "count = 0\n",
    "while a>=b:\n",
    "    b*= 2\n",
    "    count += 1\n",
    "while b>=c:\n",
    "    c *= 2\n",
    "    count += 1\n",
    "\n",
    "if count <= k:\n",
    "    print(\"Yes\")\n",
    "else:\n",
    "    print(\"No\")"
   ]
  },
  {
   "cell_type": "code",
   "execution_count": 5,
   "metadata": {},
   "outputs": [
    {
     "name": "stdout",
     "output_type": "stream",
     "text": [
      "5 3\n",
      "96 98 95 100 20\n",
      "Yes\n",
      "No\n"
     ]
    }
   ],
   "source": [
    "import numpy as np\n",
    "n,k = (int(x) for x in input().split())\n",
    "a =np.array([int(x) for x in input().split()])\n",
    "\n",
    "for i in range(3,n):\n",
    "    if a[i-3]<a[i]:\n",
    "        print(\"Yes\")\n",
    "    else:\n",
    "        print(\"No\")"
   ]
  },
  {
   "cell_type": "code",
   "execution_count": 7,
   "metadata": {},
   "outputs": [
    {
     "name": "stdout",
     "output_type": "stream",
     "text": [
      "3\n"
     ]
    }
   ],
   "source": [
    "for i in range(3,4):\n",
    "    print(i)"
   ]
  },
  {
   "cell_type": "code",
   "execution_count": 12,
   "metadata": {},
   "outputs": [
    {
     "name": "stdout",
     "output_type": "stream",
     "text": [
      "7\n",
      "100 130 130 130 115 115 150\n",
      "1685\n"
     ]
    }
   ],
   "source": [
    "import numpy as np\n",
    "n = int(input())\n",
    "a =np.array([int(x) for x in input().split()])\n",
    "\n",
    "money = 1000\n",
    "stock = 0\n",
    "\n",
    "for i in range(n-1):\n",
    "    if a[i] < a[i+1]:\n",
    "        stock += money//a[i]\n",
    "        money %= a[i]\n",
    "    elif a[i] > a[i+1]:\n",
    "        money += a[i]*stock\n",
    "        stock = 0\n",
    "\n",
    "money += a[-1]*stock\n",
    "\n",
    "print(money)"
   ]
  },
  {
   "cell_type": "code",
   "execution_count": 24,
   "metadata": {},
   "outputs": [
    {
     "name": "stdout",
     "output_type": "stream",
     "text": [
      "3\n",
      "1 2 300\n",
      "3 3 600\n",
      "1 4 800\n",
      "2900\n",
      "0\n"
     ]
    }
   ],
   "source": [
    "n = int(input())\n",
    "xyp = [map(int, input().split()) for _ in range(n)]\n",
    "x, y, p = [list(i) for i in zip(*xyp)]\n",
    "\n",
    "# 0\n",
    "s = []\n",
    "for i in range(n):\n",
    "    s.append(min(abs(x[i]),abs(y[i]))*p[i])\n",
    "print(sum(s))\n",
    "\n",
    "#1~n\n",
    "for k in range(1):\n",
    "    min_s = sum(s)\n",
    "    for X in range(min(x),max(x)+1):\n",
    "        new_s = s\n",
    "        for i in range(n):\n",
    "            if abs(X-x[i])< min(abs(x[i]),abs(y[i])):\n",
    "                new_s[i] = abs(X-x[i]) * p[i]\n",
    "        if min_s > sum(new_s):\n",
    "            min_s = sum(new_s)\n",
    "    for Y in range(min(y),max(y)+1):\n",
    "        new_s = s\n",
    "        for i in range(n):\n",
    "            if abs(Y-y[i])< min(abs(x[i]),abs(y[i])):\n",
    "                new_s[i] = abs(Y-y[i]) * p[i]\n",
    "        if min_s > sum(new_s):\n",
    "            min_s = sum(new_s)\n",
    "    print(min_s)"
   ]
  },
  {
   "cell_type": "code",
   "execution_count": 65,
   "metadata": {
    "scrolled": false
   },
   "outputs": [
    {
     "name": "stdout",
     "output_type": "stream",
     "text": [
      "2\n",
      "11 1 U\n",
      "11 47 D\n",
      "[11.  1.]\n",
      "[0. 1.]\n",
      "SAFE\n"
     ]
    },
    {
     "name": "stderr",
     "output_type": "stream",
     "text": [
      "/Users/hayashiken/opt/anaconda3/lib/python3.7/site-packages/ipykernel_launcher.py:25: RuntimeWarning: invalid value encountered in true_divide\n"
     ]
    }
   ],
   "source": [
    "import numpy as np\n",
    "n = int(input())\n",
    "xy = np.array([])\n",
    "u = np.array([])\n",
    "for _ in range(n):\n",
    "    a,b,c = input().split()\n",
    "    xy = np.append(xy,np.array([int(a),int(b)]))\n",
    "    if c == \"U\":\n",
    "        u = np.append(u,np.array([[0,1]]))\n",
    "    elif c == \"D\":\n",
    "        u = np.append(u,np.array([[0,-1]]))\n",
    "    elif c == \"R\":\n",
    "        u = np.append(u,np.array([[1,0]]))\n",
    "    else:\n",
    "        u = np.append(u,np.array([[-1,0]]))\n",
    "\n",
    "xy = xy.reshape(n,2)\n",
    "u = u.reshape(n,2)\n",
    "\n",
    "s = 200001\n",
    "for i in range(n-1):\n",
    "    for j in range(i+1,n):\n",
    "        if max(xy[i]-xy[j])/2 < s:\n",
    "            z = (xy[i]-xy[j])/(-u[i]+u[j])\n",
    "            if np.isnan(z[0]):\n",
    "                if s>z[1] and z[1]>0:\n",
    "                    s = z[1]\n",
    "            elif np.isnan(z[1]):\n",
    "                if s>z[0] and z[0]>0:\n",
    "                    s = z[0]\n",
    "            elif z[0]==z[1] and s>z[0] and z[0]>0:\n",
    "                s=z[0]\n",
    "if s == 200001:\n",
    "    print(\"SAFE\")\n",
    "else:\n",
    "    print(int(s*10))\n"
   ]
  },
  {
   "cell_type": "code",
   "execution_count": 54,
   "metadata": {},
   "outputs": [
    {
     "name": "stdout",
     "output_type": "stream",
     "text": [
      "[2 2 1 1]\n"
     ]
    }
   ],
   "source": [
    "import numpy as np\n",
    "a = np.array([2,2])\n",
    "b = np.array([1,0])\n",
    "a = np.append(a,np.array([1,1]),axis=0)\n",
    "\n",
    "print(a)"
   ]
  },
  {
   "cell_type": "code",
   "execution_count": null,
   "metadata": {},
   "outputs": [],
   "source": []
  }
 ],
 "metadata": {
  "kernelspec": {
   "display_name": "Python 3",
   "language": "python",
   "name": "python3"
  },
  "language_info": {
   "codemirror_mode": {
    "name": "ipython",
    "version": 3
   },
   "file_extension": ".py",
   "mimetype": "text/x-python",
   "name": "python",
   "nbconvert_exporter": "python",
   "pygments_lexer": "ipython3",
   "version": "3.7.6"
  }
 },
 "nbformat": 4,
 "nbformat_minor": 4
}
