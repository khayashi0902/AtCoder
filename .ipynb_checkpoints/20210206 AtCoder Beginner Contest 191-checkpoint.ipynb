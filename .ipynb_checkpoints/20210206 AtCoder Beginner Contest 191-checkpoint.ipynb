{
 "cells": [
  {
   "cell_type": "code",
   "execution_count": null,
   "metadata": {},
   "outputs": [],
   "source": [
    "n,k = (int(x) for x in input().split())\n",
    "\n",
    "import numpy as np\n",
    "a =np.array([int(x) for x in input().split()])\n",
    "\n",
    "l =[int(x) for x in input().split()]\n",
    "\n",
    "a = int(input())\n",
    "\n",
    "xyp = [map(int, input().split()) for _ in range(n)]\n",
    "x, y, p = [list(i) for i in zip(*xyp)]\n",
    "\n",
    "import numpy as np\n",
    "s = np.array([[c for c in input().strip()] for _ in range(h)])\n",
    "\n",
    "cd = [tuple(map(int, input().split())) for _ in range(k)]"
   ]
  },
  {
   "cell_type": "code",
   "execution_count": 2,
   "metadata": {},
   "outputs": [
    {
     "name": "stdout",
     "output_type": "stream",
     "text": [
      "10 3 5 30\n",
      "No\n"
     ]
    }
   ],
   "source": [
    "v,t,s,d = (int(x) for x in input().split())\n",
    "if v*t > d or v*s <d:\n",
    "    print(\"Yes\")\n",
    "else:\n",
    "    print(\"No\")"
   ]
  },
  {
   "cell_type": "code",
   "execution_count": 7,
   "metadata": {},
   "outputs": [
    {
     "name": "stdout",
     "output_type": "stream",
     "text": [
      "5 5\n",
      "3 5 6 5 4\n",
      "[3, 4, 6]\n"
     ]
    }
   ],
   "source": [
    "n,x = (int(x) for x in input().split())\n",
    "a =[int(x) for x in input().split()]\n",
    "for i in a:\n",
    "    if i == x:\n",
    "        a.remove(i)\n",
    "\n",
    "a.sort()\n",
    "for i in a:\n",
    "    print(i,end=\" \")"
   ]
  },
  {
   "cell_type": "code",
   "execution_count": 12,
   "metadata": {},
   "outputs": [
    {
     "name": "stdout",
     "output_type": "stream",
     "text": [
      "3 3\n",
      "...\n",
      ".#.\n",
      "...\n"
     ]
    },
    {
     "ename": "TypeError",
     "evalue": "list indices must be integers or slices, not tuple",
     "output_type": "error",
     "traceback": [
      "\u001b[0;31m---------------------------------------------------------------------------\u001b[0m",
      "\u001b[0;31mTypeError\u001b[0m                                 Traceback (most recent call last)",
      "\u001b[0;32m<ipython-input-12-d6b4e6599ddb>\u001b[0m in \u001b[0;36m<module>\u001b[0;34m\u001b[0m\n\u001b[1;32m      5\u001b[0m \u001b[0;32mfor\u001b[0m \u001b[0mi\u001b[0m \u001b[0;32min\u001b[0m \u001b[0mrange\u001b[0m\u001b[0;34m(\u001b[0m\u001b[0mh\u001b[0m\u001b[0;34m)\u001b[0m\u001b[0;34m:\u001b[0m\u001b[0;34m\u001b[0m\u001b[0;34m\u001b[0m\u001b[0m\n\u001b[1;32m      6\u001b[0m     \u001b[0;32mfor\u001b[0m \u001b[0mj\u001b[0m \u001b[0;32min\u001b[0m \u001b[0mrange\u001b[0m\u001b[0;34m(\u001b[0m\u001b[0mw\u001b[0m\u001b[0;34m)\u001b[0m\u001b[0;34m:\u001b[0m\u001b[0;34m\u001b[0m\u001b[0;34m\u001b[0m\u001b[0m\n\u001b[0;32m----> 7\u001b[0;31m         \u001b[0;32mif\u001b[0m \u001b[0ms\u001b[0m\u001b[0;34m[\u001b[0m\u001b[0mi\u001b[0m\u001b[0;34m,\u001b[0m\u001b[0mj\u001b[0m\u001b[0;34m]\u001b[0m \u001b[0;34m==\u001b[0m \u001b[0;34m\"#\"\u001b[0m\u001b[0;34m:\u001b[0m\u001b[0;34m\u001b[0m\u001b[0;34m\u001b[0m\u001b[0m\n\u001b[0m\u001b[1;32m      8\u001b[0m             \u001b[0mxy\u001b[0m \u001b[0;34m=\u001b[0m \u001b[0;34m[\u001b[0m\u001b[0mi\u001b[0m\u001b[0;34m+\u001b[0m\u001b[0;36m1\u001b[0m\u001b[0;34m,\u001b[0m\u001b[0mj\u001b[0m\u001b[0;34m]\u001b[0m\u001b[0;34m\u001b[0m\u001b[0;34m\u001b[0m\u001b[0m\n\u001b[1;32m      9\u001b[0m             \u001b[0;32mbreak\u001b[0m\u001b[0;34m\u001b[0m\u001b[0;34m\u001b[0m\u001b[0m\n",
      "\u001b[0;31mTypeError\u001b[0m: list indices must be integers or slices, not tuple"
     ]
    }
   ],
   "source": [
    "import sys\n",
    "h,w = (int(x) for x in input().split())\n",
    "a = [l.strip() for l in sys.stdin]\n",
    "d = [0,1]\n",
    "ans = 0\n",
    "for i in range(1,h-1):\n",
    "    for j in range(1,w-1):\n",
    "        cnt = 0\n",
    "        if a[i-1,j] == \"#\":\n",
    "            cnt += 1\n",
    "        if a[i+1,j] == \"#\":\n",
    "            cnt += 1\n",
    "        if a[i,j-1] == \"#\":\n",
    "            cnt += 1\n",
    "        if a[i,j+1] == \"#\":\n",
    "            cnt += 1\n",
    "        if cnt == 1 or cnt == 3:\n",
    "            ans += 1\n",
    "            \n",
    "print(ans)"
   ]
  },
  {
   "cell_type": "code",
   "execution_count": null,
   "metadata": {},
   "outputs": [],
   "source": [
    "import math\n",
    "x,y,r = (float(x) for x in input().split())\n",
    "ans = 0\n",
    "r2 = r**2\n",
    "for i in range(int(x-r),int(x+r)+1):\n",
    "    ans += int(y+(math.sqrt((r2- (i-x)**2))))-int(y-(math.sqrt((r2- (i-x)**2))))\n",
    "print(ans)"
   ]
  },
  {
   "cell_type": "code",
   "execution_count": null,
   "metadata": {},
   "outputs": [],
   "source": [
    "x,y,r = (float(x) for x in input().split())\n",
    "ans = 0\n",
    "r2 = r**2\n",
    "for i in range(int(x-r),int(x+r)+1):\n",
    "    flag = False\n",
    "    r2_x2 = r2- (i-x)**2\n",
    "    for j in range(int(y-r),int(y+r)+1):\n",
    "        #print(i,j)\n",
    "        if  (j-y)**2 <= r2_x2:\n",
    "            flag = True\n",
    "            ans += 1\n",
    "            #print(i,j,\"true\")\n",
    "        elif flag:\n",
    "            #print(i,j,\"false\")\n",
    "            Flag = False\n",
    "            break\n",
    "print(ans)"
   ]
  },
  {
   "cell_type": "code",
   "execution_count": null,
   "metadata": {},
   "outputs": [],
   "source": [
    "import math\n",
    "x,y,r = (math.floor(float(x)*10000+0.5) for x in input().split())\n",
    "print(x,y,r)\n",
    "ans = 0\n",
    "r2 = r**2\n",
    "for i in range(math.ceil((x-r)/10000),math.floor((x+r)/10000)+1):\n",
    "    a = math.sqrt(r2- (i*10000-x)**2)\n",
    "    ans += math.floor((y+a)/10000)-math.ceil((y-a)/10000)+1\n",
    "print(ans)"
   ]
  },
  {
   "cell_type": "code",
   "execution_count": 9,
   "metadata": {},
   "outputs": [
    {
     "data": {
      "text/plain": [
       "0"
      ]
     },
     "execution_count": 9,
     "metadata": {},
     "output_type": "execute_result"
    }
   ],
   "source": [
    "1/1000"
   ]
  },
  {
   "cell_type": "code",
   "execution_count": null,
   "metadata": {},
   "outputs": [],
   "source": []
  }
 ],
 "metadata": {
  "kernelspec": {
   "display_name": "Python 3",
   "language": "python",
   "name": "python3"
  },
  "language_info": {
   "codemirror_mode": {
    "name": "ipython",
    "version": 3
   },
   "file_extension": ".py",
   "mimetype": "text/x-python",
   "name": "python",
   "nbconvert_exporter": "python",
   "pygments_lexer": "ipython3",
   "version": "3.7.6"
  }
 },
 "nbformat": 4,
 "nbformat_minor": 4
}
