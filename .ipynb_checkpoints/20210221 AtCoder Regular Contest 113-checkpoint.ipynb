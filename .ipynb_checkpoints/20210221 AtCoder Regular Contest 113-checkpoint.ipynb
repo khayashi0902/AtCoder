{
 "cells": [
  {
   "cell_type": "code",
   "execution_count": null,
   "metadata": {},
   "outputs": [],
   "source": [
    "n,k = (int(x) for x in input().split())\n",
    "\n",
    "import numpy as np\n",
    "a =np.array([int(x) for x in input().split()])\n",
    "\n",
    "l =[int(x) for x in input().split()]\n",
    "\n",
    "a = int(input())\n",
    "\n",
    "xyp = [map(int, input().split()) for _ in range(n)]\n",
    "x, y, p = [list(i) for i in zip(*xyp)]\n",
    "\n",
    "import numpy as np\n",
    "s = np.array([[c for c in input().strip()] for _ in range(h)])\n",
    "\n",
    "cd = [tuple(map(int, input().split())) for _ in range(k)]"
   ]
  },
  {
   "cell_type": "code",
   "execution_count": null,
   "metadata": {},
   "outputs": [],
   "source": [
    "import math\n",
    "k = int(input())\n",
    "for i in range(int(math.sqrt(k))):\n",
    "    if k%i==0:\n",
    "        "
   ]
  },
  {
   "cell_type": "code",
   "execution_count": 11,
   "metadata": {},
   "outputs": [
    {
     "name": "stdout",
     "output_type": "stream",
     "text": [
      "10\n",
      "10 18\n",
      "9 17\n",
      "8 34\n",
      "7 9\n",
      "6 14\n",
      "5 7\n",
      "4 12\n",
      "3 5\n",
      "2 4\n",
      "1 1\n",
      "76\n"
     ]
    }
   ],
   "source": [
    "import math\n",
    "k = int(input())\n",
    "\n",
    "def prime_factorize(n):\n",
    "    a = []\n",
    "    while n % 2 == 0:\n",
    "        a.append(2)\n",
    "        n //= 2\n",
    "    f = 3\n",
    "    while f * f <= n:\n",
    "        if n % f == 0:\n",
    "            a.append(f)\n",
    "            n //= f\n",
    "        else:\n",
    "            f += 2\n",
    "    if n != 1:\n",
    "        a.append(n)\n",
    "    #print(n)\n",
    "#    print(n,len(a))\n",
    "    return len(a)\n",
    "\n",
    "def abc(n):\n",
    "    if n == 1:\n",
    "        print(n,1)\n",
    "        return 1\n",
    "    else:\n",
    "        print(n,abs(n-1)+3**prime_factorize(n))\n",
    "        return abc(n-1)+3**prime_factorize(n)\n",
    "    \n",
    "print(abc(k))"
   ]
  },
  {
   "cell_type": "code",
   "execution_count": 26,
   "metadata": {},
   "outputs": [
    {
     "name": "stdout",
     "output_type": "stream",
     "text": [
      "31415\n",
      "1937281\n"
     ]
    }
   ],
   "source": [
    "import math\n",
    "from collections import Counter\n",
    "k = int(input())\n",
    "\n",
    "def prime_factorize(n):\n",
    "    a = []\n",
    "    while n % 2 == 0:\n",
    "        a.append(2)\n",
    "        n //= 2\n",
    "    f = 3\n",
    "    while f * f <= n:\n",
    "        if n % f == 0:\n",
    "            a.append(f)\n",
    "            n //= f\n",
    "        else:\n",
    "            f += 2\n",
    "    if n != 1:\n",
    "        a.append(n)\n",
    "    return a\n",
    "\n",
    "ans = 1\n",
    "for i in range(2,k+1):\n",
    "    num = 1\n",
    "    a = prime_factorize(i)\n",
    "    c = Counter(a)\n",
    "    #print(c)\n",
    "    c2 = Counter(c.values())\n",
    "    #print(c2)\n",
    "    for k,v in c2.items():\n",
    "        num *= int((k+2)*(k+1)/2)**v\n",
    "    ans += num\n",
    "    #print(i,ans)\n",
    "\n",
    "print(ans)"
   ]
  },
  {
   "cell_type": "code",
   "execution_count": 63,
   "metadata": {},
   "outputs": [
    {
     "name": "stdout",
     "output_type": "stream",
     "text": [
      "10 2 1\n",
      "[0]\n",
      "0\n"
     ]
    }
   ],
   "source": [
    "a,b,c = (int(x) for x in input().split())\n",
    "\n",
    "l = [[0],[1],[6,2,4,8],[1,3,9,7],[6,4],[5],[6],[1,7,9,3],[6,8,4,2],[1,9]]\n",
    "ll = l[a%10]\n",
    "\n",
    "if b %4 == 0:\n",
    "    n = 0\n",
    "elif b % 4 == 1:\n",
    "    n = 1 % len(ll)\n",
    "elif b % 4 == 2:\n",
    "    if c == 1:\n",
    "        n = 1 % len(ll)\n",
    "    else:\n",
    "        n = 0\n",
    "else:\n",
    "    if c % 2 == 0:\n",
    "        n = 1 % len(ll)\n",
    "    else:\n",
    "        n = 3 % len(ll)\n",
    "\n",
    "print(ll[n])"
   ]
  },
  {
   "cell_type": "code",
   "execution_count": 48,
   "metadata": {},
   "outputs": [
    {
     "data": {
      "text/plain": [
       "0"
      ]
     },
     "execution_count": 48,
     "metadata": {},
     "output_type": "execute_result"
    }
   ],
   "source": [
    "a,b,c = (int(x) for x in input().split())\n",
    "\n",
    "l = [[0],[1],[6,2,4,8],[1,3,9,7],[6,4],[5],[6],[1,7,9,3],[6,8,4,2],[1,9]]\n",
    "ll = l[a%10]\n",
    "\n",
    "if b %4 == 0:\n",
    "    n = 0\n",
    "elif b % 4 == 1:\n",
    "    n = 1 % len(ll)\n",
    "elif b % 4 == 2:\n",
    "    if c == 1:\n",
    "        n = 1 % len(ll)\n",
    "    else:\n",
    "        n = 0\n",
    "else:\n",
    "    if c % 2 == 0:\n",
    "        n = 1 % len(ll)\n",
    "    else:\n",
    "        n = 3 % len(ll)\n",
    "\n",
    "print(ll[n])"
   ]
  },
  {
   "cell_type": "code",
   "execution_count": 91,
   "metadata": {},
   "outputs": [
    {
     "name": "stdout",
     "output_type": "stream",
     "text": [
      "accept\n",
      "3\n"
     ]
    }
   ],
   "source": [
    "s = input()\n",
    "n = len(s)\n",
    "\n",
    "d = []\n",
    "for i in range(len(s)-3,-1,-1):\n",
    "    if s[i] == s[i+1] and s[i] != s[i+2]:\n",
    "        d.append([s[i],i+2])\n",
    "ans = 0\n",
    "\n",
    "for k,v in d:\n",
    "    ans += (n-v)-s.count(k,v,n)\n",
    "    s = s[:v]+k*(n-v)\n",
    "    \n",
    "print(ans)"
   ]
  },
  {
   "cell_type": "code",
   "execution_count": 74,
   "metadata": {},
   "outputs": [
    {
     "name": "stdout",
     "output_type": "stream",
     "text": [
      "[1, 1, 1]\n"
     ]
    }
   ],
   "source": [
    "a = [1,2,3]\n",
    "a[1:3] = [1]*2\n",
    "print(a)"
   ]
  },
  {
   "cell_type": "code",
   "execution_count": 95,
   "metadata": {},
   "outputs": [
    {
     "name": "stdout",
     "output_type": "stream",
     "text": [
      "anerroroccurred\n",
      "16\n"
     ]
    }
   ],
   "source": [
    "from collections import defaultdict\n",
    "s = list(input())\n",
    "n = len(s)\n",
    "\n",
    "s.reverse()\n",
    "d = defaultdict(int)\n",
    "d[s[0]] += 1\n",
    "\n",
    "ans = 0\n",
    "for i in range(1,n):\n",
    "    if s[i-1] == s[i]:\n",
    "        ans += i-d[s[i]]\n",
    "        d = defaultdict(int)\n",
    "        d[s[i]] = i+1\n",
    "    else:\n",
    "        d[s[i]] += 1\n",
    "\n",
    "print(ans)"
   ]
  },
  {
   "cell_type": "code",
   "execution_count": null,
   "metadata": {},
   "outputs": [],
   "source": []
  },
  {
   "cell_type": "code",
   "execution_count": null,
   "metadata": {},
   "outputs": [],
   "source": [
    "from collections import deque\n",
    "\n",
    "s = list(input())\n",
    "n = len(s)\n",
    "\n",
    "d = deque([])\n",
    "for i in range(len(s)-2):\n",
    "    if s[i] == s[i+1] and s[i] != s[i+2]:\n",
    "        d.append([s[i],i+2])\n",
    "\n",
    "ans = 0\n",
    "d.reverse()\n",
    "for k,v in d:\n",
    "    ans += (n-v)-s.count(k,v,n)\n",
    "    s[v:] = [k]*(n-v)\n",
    "    \n",
    "print(ans)"
   ]
  }
 ],
 "metadata": {
  "kernelspec": {
   "display_name": "Python 3",
   "language": "python",
   "name": "python3"
  },
  "language_info": {
   "codemirror_mode": {
    "name": "ipython",
    "version": 3
   },
   "file_extension": ".py",
   "mimetype": "text/x-python",
   "name": "python",
   "nbconvert_exporter": "python",
   "pygments_lexer": "ipython3",
   "version": "3.7.6"
  }
 },
 "nbformat": 4,
 "nbformat_minor": 4
}
