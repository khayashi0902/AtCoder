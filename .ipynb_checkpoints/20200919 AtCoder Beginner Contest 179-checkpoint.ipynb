{
 "cells": [
  {
   "cell_type": "code",
   "execution_count": null,
   "metadata": {},
   "outputs": [],
   "source": [
    "n,k = (int(x) for x in input().split())\n",
    "\n",
    "import numpy as np\n",
    "a =np.array([int(x) for x in input().split()])\n",
    "\n",
    "l =[int(x) for x in input().split()]\n",
    "\n",
    "a = int(input())\n",
    "\n",
    "xyp = [map(int, input().split()) for _ in range(n)]\n",
    "x, y, p = [list(i) for i in zip(*xyp)]\n",
    "\n",
    "import numpy as np\n",
    "s = np.array([[c for c in input().strip()] for _ in range(h)])"
   ]
  },
  {
   "cell_type": "code",
   "execution_count": null,
   "metadata": {},
   "outputs": [],
   "source": []
  },
  {
   "cell_type": "code",
   "execution_count": 3,
   "metadata": {},
   "outputs": [
    {
     "name": "stdout",
     "output_type": "stream",
     "text": [
      "box\n",
      "boxs\n"
     ]
    }
   ],
   "source": [
    "s = input()\n",
    "if s[-1] == \"s\":\n",
    "    print(s+\"es\")\n",
    "else:\n",
    "    print(s+\"s\")"
   ]
  },
  {
   "cell_type": "code",
   "execution_count": null,
   "metadata": {},
   "outputs": [],
   "source": [
    "n = int(input())\n",
    "ans = 0\n",
    "for _ in range(n):\n",
    "    a,b = (int(x) for x in input().split())\n",
    "    if a==b:\n",
    "        ans+=1\n",
    "        if ans == 3:\n",
    "            print(\"Yes\")\n",
    "            break\n",
    "    else:\n",
    "        ans = 0\n",
    "\n",
    "print(\"No\")"
   ]
  },
  {
   "cell_type": "code",
   "execution_count": 29,
   "metadata": {},
   "outputs": [
    {
     "name": "stdout",
     "output_type": "stream",
     "text": [
      "1000000\n",
      "13969985\n"
     ]
    }
   ],
   "source": [
    "n = int(input())\n",
    "cnt = 0\n",
    "for i in range(1,n):\n",
    "    cnt += (n-1)//i\n",
    "print(cnt)"
   ]
  },
  {
   "cell_type": "code",
   "execution_count": 74,
   "metadata": {
    "scrolled": true
   },
   "outputs": [
    {
     "name": "stdout",
     "output_type": "stream",
     "text": [
      "5 2\n",
      "3 3\n",
      "5 5\n",
      "[]\n"
     ]
    },
    {
     "ename": "IndexError",
     "evalue": "index 0 is out of bounds for axis 0 with size 0",
     "output_type": "error",
     "traceback": [
      "\u001b[0;31m---------------------------------------------------------------------------\u001b[0m",
      "\u001b[0;31mIndexError\u001b[0m                                Traceback (most recent call last)",
      "\u001b[0;32m<ipython-input-74-99ff5efa7310>\u001b[0m in \u001b[0;36m<module>\u001b[0;34m\u001b[0m\n\u001b[1;32m     11\u001b[0m \u001b[0ml\u001b[0m \u001b[0;34m=\u001b[0m \u001b[0mnp\u001b[0m\u001b[0;34m.\u001b[0m\u001b[0mzeros\u001b[0m\u001b[0;34m(\u001b[0m\u001b[0mn\u001b[0m\u001b[0;34m,\u001b[0m\u001b[0mdtype\u001b[0m\u001b[0;34m=\u001b[0m\u001b[0mint\u001b[0m\u001b[0;34m)\u001b[0m\u001b[0;34m\u001b[0m\u001b[0;34m\u001b[0m\u001b[0m\n\u001b[1;32m     12\u001b[0m \u001b[0ms\u001b[0m \u001b[0;34m=\u001b[0m \u001b[0mnp\u001b[0m\u001b[0;34m.\u001b[0m\u001b[0msort\u001b[0m\u001b[0;34m(\u001b[0m\u001b[0ms\u001b[0m\u001b[0;34m)\u001b[0m\u001b[0;34m\u001b[0m\u001b[0;34m\u001b[0m\u001b[0m\n\u001b[0;32m---> 13\u001b[0;31m \u001b[0mmin_num\u001b[0m \u001b[0;34m=\u001b[0m \u001b[0ms\u001b[0m\u001b[0;34m[\u001b[0m\u001b[0;36m0\u001b[0m\u001b[0;34m]\u001b[0m\u001b[0;34m\u001b[0m\u001b[0;34m\u001b[0m\u001b[0m\n\u001b[0m\u001b[1;32m     14\u001b[0m \u001b[0ml\u001b[0m\u001b[0;34m[\u001b[0m\u001b[0;36m0\u001b[0m\u001b[0;34m]\u001b[0m \u001b[0;34m=\u001b[0m \u001b[0;36m1\u001b[0m\u001b[0;34m\u001b[0m\u001b[0;34m\u001b[0m\u001b[0m\n\u001b[1;32m     15\u001b[0m \u001b[0;32mfor\u001b[0m \u001b[0mi\u001b[0m \u001b[0;32min\u001b[0m \u001b[0mrange\u001b[0m\u001b[0;34m(\u001b[0m\u001b[0mmin_num\u001b[0m\u001b[0;34m,\u001b[0m\u001b[0mn\u001b[0m\u001b[0;34m)\u001b[0m\u001b[0;34m:\u001b[0m\u001b[0;34m\u001b[0m\u001b[0;34m\u001b[0m\u001b[0m\n",
      "\u001b[0;31mIndexError\u001b[0m: index 0 is out of bounds for axis 0 with size 0"
     ]
    }
   ],
   "source": [
    "import numpy as np\n",
    "n,k = (int(x) for x in input().split())\n",
    "s = []\n",
    "for _ in range(k):\n",
    "    a,b = (int(x) for x in input().split())\n",
    "    s+=list(range(a,b+1))\n",
    "\n",
    "s = np.array(s)\n",
    "mod = 998244353\n",
    "    \n",
    "l = np.zeros(n,dtype=int)\n",
    "s = np.sort(s)\n",
    "min_num = s[0]\n",
    "l[0] = 1\n",
    "\n",
    "for i in range(min_num,n):\n",
    "    for j in s[s<=i]:\n",
    "        l[i] += (l[i-j])\n",
    "    l[i] %= mod\n",
    "print(l[n-1])"
   ]
  },
  {
   "cell_type": "code",
   "execution_count": 85,
   "metadata": {},
   "outputs": [
    {
     "name": "stdout",
     "output_type": "stream",
     "text": [
      "5 2\n",
      "1 1\n",
      "3 4\n",
      "[(1, 1), (3, 4)]\n",
      "4\n",
      "4\n"
     ]
    }
   ],
   "source": [
    "n,k = (int(x) for x in input().split())\n",
    "lr = []\n",
    "for _ in range(k):\n",
    "    l,r = (int(x) for x in input().split())\n",
    "    lr.append((l,r))\n",
    "lr.sort()\n",
    "print(lr)\n",
    "\n",
    "mod = 998244353\n",
    "\n",
    "dp= [0]*(n+1)\n",
    "dp[1] = 1\n",
    "\n",
    "for i in range(2,n+1):\n",
    "    cnt = 0\n",
    "    for l,r in lr:\n",
    "        if l >= i:\n",
    "            break\n",
    "        elif i-r > 1:\n",
    "            cnt += dp[i-l] - dp[i-r-1]\n",
    "        else:\n",
    "            cnt += dp[i-l]\n",
    "    dp[i] = (dp[i-1] + cnt) % mod\n",
    "    \n",
    "#print(dp)\n",
    "#print((dp[n]-dp[n-1])%mod)\n",
    "print(cnt%mod)"
   ]
  },
  {
   "cell_type": "code",
   "execution_count": null,
   "metadata": {},
   "outputs": [],
   "source": [
    "import sys\n",
    "import numpy as np\n",
    "\n",
    "n,x,m = (int(i) for i in input().split())\n",
    "l = [x]\n",
    "ans = x\n",
    "memo_array = [-1]*(m+1)\n",
    "\n",
    "for i in range(1,n):\n",
    "    ans = ans**2%m\n",
    "    idx = memo_array[ans]\n",
    "    if idx != -1:\n",
    "        loop_num, mod = divmod((n-idx),(i-idx))\n",
    "        print(sum(l[:idx]) + sum(l[idx:])*(loop_num)+sum(l[idx:idx+mod]))\n",
    "        sys.exit()\n",
    "    l.append(ans)\n",
    "    memo_array[ans]=i\n",
    "print(sum(l))"
   ]
  },
  {
   "cell_type": "code",
   "execution_count": 92,
   "metadata": {},
   "outputs": [
    {
     "data": {
      "text/plain": [
       "numpy.ndarray"
      ]
     },
     "execution_count": 92,
     "metadata": {},
     "output_type": "execute_result"
    }
   ],
   "source": [
    "import numpy as np\n",
    "l = np.array([0,11,2])\n",
    "int(np.where(l==11)[0])\n",
    "np.append(l,)"
   ]
  },
  {
   "cell_type": "code",
   "execution_count": 94,
   "metadata": {},
   "outputs": [
    {
     "data": {
      "text/plain": [
       "0"
      ]
     },
     "execution_count": 94,
     "metadata": {},
     "output_type": "execute_result"
    }
   ],
   "source": [
    "1//3"
   ]
  },
  {
   "cell_type": "code",
   "execution_count": 98,
   "metadata": {},
   "outputs": [
    {
     "data": {
      "text/plain": [
       "0"
      ]
     },
     "execution_count": 98,
     "metadata": {},
     "output_type": "execute_result"
    }
   ],
   "source": [
    "492443256176507-492443256176507"
   ]
  },
  {
   "cell_type": "code",
   "execution_count": null,
   "metadata": {},
   "outputs": [],
   "source": []
  }
 ],
 "metadata": {
  "kernelspec": {
   "display_name": "Python 3",
   "language": "python",
   "name": "python3"
  },
  "language_info": {
   "codemirror_mode": {
    "name": "ipython",
    "version": 3
   },
   "file_extension": ".py",
   "mimetype": "text/x-python",
   "name": "python",
   "nbconvert_exporter": "python",
   "pygments_lexer": "ipython3",
   "version": "3.7.6"
  }
 },
 "nbformat": 4,
 "nbformat_minor": 4
}
