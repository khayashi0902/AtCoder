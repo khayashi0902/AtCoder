{
 "cells": [
  {
   "cell_type": "code",
   "execution_count": null,
   "metadata": {},
   "outputs": [],
   "source": [
    "n,k = (int(x) for x in input().split())"
   ]
  },
  {
   "cell_type": "code",
   "execution_count": null,
   "metadata": {},
   "outputs": [],
   "source": [
    "import numpy as np\n",
    "a =np.array([int(x) for x in input().split()])"
   ]
  },
  {
   "cell_type": "code",
   "execution_count": 2,
   "metadata": {},
   "outputs": [
    {
     "name": "stdout",
     "output_type": "stream",
     "text": [
      "10\n",
      "1110\n"
     ]
    }
   ],
   "source": [
    "a = int(input())\n",
    "print(a+a**2+a**3)"
   ]
  },
  {
   "cell_type": "code",
   "execution_count": 11,
   "metadata": {},
   "outputs": [
    {
     "name": "stdout",
     "output_type": "stream",
     "text": [
      "cupofcoffee\n",
      "cupofhottea\n",
      "4\n"
     ]
    }
   ],
   "source": [
    "s = str(input())\n",
    "t = str(input())\n",
    "count = 0\n",
    "for i in range(len(s)):\n",
    "    if s[i] != t[i]:\n",
    "        count += 1\n",
    "        \n",
    "print(count)"
   ]
  },
  {
   "cell_type": "code",
   "execution_count": 8,
   "metadata": {},
   "outputs": [
    {
     "data": {
      "text/plain": [
       "'u'"
      ]
     },
     "execution_count": 8,
     "metadata": {},
     "output_type": "execute_result"
    }
   ],
   "source": [
    "import numpy as np\n",
    "n,m,k = (int(x) for x in input().split())\n",
    "a =np.array([int(x) for x in input().split()])\n",
    "b =np.array([int(x) for x in input().split()])\n",
    "\n",
    "count = 0\n",
    "a_index = 0\n",
    "b_index = 0\n",
    "\n",
    "while True:\n",
    "    \n",
    "    if a[a_index]<b[b_index]:\n",
    "        k-=a[a_index]\n",
    "        a_index+=1\n",
    "    elif a[a_index] == b[b_index]:\n",
    "        i = 1\n",
    "        while True:\n",
    "            if a[a_index+i] < b[b_index+i]:\n",
    "                k-=a[a_index]\n",
    "                a = np.delete(a,0)\n",
    "                break\n",
    "            elif a[i]>b[i]:\n",
    "                k-=b[0]\n",
    "                b = np.delete(b,0)\n",
    "                break\n",
    "    else:\n",
    "        k-=b[0]\n",
    "        b = np.delete(b,0)\n",
    "    if k < 0:\n",
    "        break\n",
    "    count += 1\n",
    "    \n",
    "print(count)"
   ]
  },
  {
   "cell_type": "code",
   "execution_count": 21,
   "metadata": {},
   "outputs": [
    {
     "name": "stdout",
     "output_type": "stream",
     "text": [
      "3 4 120\n",
      "60 90 120\n",
      "80 150 80 150\n",
      "0 460\n",
      "0 460\n",
      "0 460\n",
      "0 460\n",
      "60 460\n",
      "60 460\n",
      "60 460\n",
      "60 460\n",
      "150 460\n",
      "150 460\n",
      "150 460\n",
      "150 460\n",
      "150 460\n",
      "270 460\n",
      "270 460\n",
      "270 460\n",
      "270 460\n",
      "270 460\n",
      "1\n"
     ]
    }
   ],
   "source": [
    "import numpy as np\n",
    "n,m,k = (int(x) for x in input().split())\n",
    "a =np.array([int(x) for x in input().split()])\n",
    "b =np.array([int(x) for x in input().split()])\n",
    "\n",
    "count = 0\n",
    "for i in range(n+1):\n",
    "    for j in range(m+1):\n",
    "        if np.sum(a[:i])+np.sum(b[:j]) > k:\n",
    "            break\n",
    "        if i+j>count:\n",
    "            count = i+j\n",
    "print(count)"
   ]
  },
  {
   "cell_type": "code",
   "execution_count": 33,
   "metadata": {},
   "outputs": [
    {
     "name": "stdout",
     "output_type": "stream",
     "text": [
      "3 4 730\n",
      "60 90 120\n",
      "80 150 80 150\n",
      "7\n"
     ]
    }
   ],
   "source": [
    "n,m,k = (int(x) for x in input().split())\n",
    "y = 0\n",
    "a = [0]\n",
    "for x in input().split():\n",
    "    y += int(x)\n",
    "    a.append(y)\n",
    "y = 0\n",
    "b = [0]\n",
    "for x in input().split():\n",
    "    y += int(x)\n",
    "    b.append(y)\n",
    "    \n",
    "ans = 0\n",
    "j = m\n",
    "for i in range(n+1):\n",
    "    if a[i]>k:\n",
    "        break\n",
    "    while j >= 0:\n",
    "        if a[i]+b[j]<=k:\n",
    "            ans = max(ans,i+j)\n",
    "            break\n",
    "        j -= 1\n",
    "print(ans)"
   ]
  }
 ],
 "metadata": {
  "kernelspec": {
   "display_name": "Python 3",
   "language": "python",
   "name": "python3"
  },
  "language_info": {
   "codemirror_mode": {
    "name": "ipython",
    "version": 3
   },
   "file_extension": ".py",
   "mimetype": "text/x-python",
   "name": "python",
   "nbconvert_exporter": "python",
   "pygments_lexer": "ipython3",
   "version": "3.7.6"
  }
 },
 "nbformat": 4,
 "nbformat_minor": 4
}
