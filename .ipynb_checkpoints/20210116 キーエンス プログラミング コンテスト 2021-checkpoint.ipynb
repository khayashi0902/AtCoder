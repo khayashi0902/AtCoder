{
 "cells": [
  {
   "cell_type": "code",
   "execution_count": null,
   "metadata": {},
   "outputs": [],
   "source": [
    "n,k = (int(x) for x in input().split())\n",
    "\n",
    "import numpy as np\n",
    "a =np.array([int(x) for x in input().split()])\n",
    "\n",
    "l =[int(x) for x in input().split()]\n",
    "\n",
    "a = int(input())\n",
    "\n",
    "xyp = [map(int, input().split()) for _ in range(n)]\n",
    "x, y, p = [list(i) for i in zip(*xyp)]\n",
    "\n",
    "import numpy as np\n",
    "s = np.array([[c for c in input().strip()] for _ in range(h)])"
   ]
  },
  {
   "cell_type": "code",
   "execution_count": null,
   "metadata": {},
   "outputs": [],
   "source": []
  },
  {
   "cell_type": "code",
   "execution_count": 6,
   "metadata": {},
   "outputs": [
    {
     "name": "stdout",
     "output_type": "stream",
     "text": [
      "3\n",
      "3 2 20\n",
      "1 4 1\n",
      "3\n",
      "12\n",
      "20\n"
     ]
    }
   ],
   "source": [
    "n = int(input())\n",
    "a =[int(x) for x in input().split()]\n",
    "b =[int(x) for x in input().split()]\n",
    "\n",
    "m = 1\n",
    "\n",
    "for i in range(n):\n",
    "    if m < max(a[:i+1])*b[i]:\n",
    "        m = max(a[:i+1])*b[i]\n",
    "    print(m)"
   ]
  },
  {
   "cell_type": "code",
   "execution_count": 14,
   "metadata": {},
   "outputs": [
    {
     "name": "stdout",
     "output_type": "stream",
     "text": [
      "4 2\n",
      "0 1 0 2\n",
      "4\n"
     ]
    }
   ],
   "source": [
    "from collections import Counter\n",
    "n,k = (int(x) for x in input().split())\n",
    "a =[int(x) for x in input().split()]\n",
    "c = Counter(a)\n",
    "\n",
    "ans = 0\n",
    "\n",
    "i = 0\n",
    "while k >0:\n",
    "    ci = c[i]\n",
    "    if ci < k:\n",
    "        ans += (k-ci)*i\n",
    "        k = ci\n",
    "    i += 1\n",
    "    \n",
    "print(ans)"
   ]
  },
  {
   "cell_type": "code",
   "execution_count": 37,
   "metadata": {},
   "outputs": [
    {
     "name": "stdout",
     "output_type": "stream",
     "text": [
      "2 2 1\n",
      "2 2 X\n",
      "[[0 0]\n",
      " [0 3]]\n",
      "0 0\n",
      "0 1\n",
      "1 0\n"
     ]
    }
   ],
   "source": [
    "import numpy as np\n",
    "\n",
    "H,W,K = (int(x) for x in input().split())\n",
    "l = [[0 for _ in range(W)] for _ in range(H)]\n",
    "for _ in range(K):\n",
    "    h, w, k =  input().split()\n",
    "    if k == \"X\":\n",
    "        l[int(h)-1][int(w)-1] = 1\n",
    "    if k == \"R\":\n",
    "        l[int(h)-1][int(w)-1] = 2\n",
    "    else:\n",
    "        l[int(h)-1][int(w)-1] = 3\n",
    "    \n",
    "\n",
    "mod = 998244353\n",
    "\n",
    "l = np.array(l)\n",
    "print(l)\n",
    "def score(i,j):\n",
    "    if i == 0 and j == 0:\n",
    "        return 1\n",
    "    else:\n",
    "        ans = 0\n",
    "        if i>0 and l[i-1][j] != 2:\n",
    "            ans += score(i-1,j)\n",
    "            print(i-1,j)\n",
    "        if j>0 and l[i][j-1] != 3:\n",
    "            ans += score(i,j-1)\n",
    "            print(i,j-1)\n",
    "        return ans\n",
    "\n",
    "ii, jj = np.where(l==0)\n",
    "ans = 0\n"
   ]
  },
  {
   "cell_type": "code",
   "execution_count": null,
   "metadata": {},
   "outputs": [],
   "source": []
  }
 ],
 "metadata": {
  "kernelspec": {
   "display_name": "Python 3",
   "language": "python",
   "name": "python3"
  },
  "language_info": {
   "codemirror_mode": {
    "name": "ipython",
    "version": 3
   },
   "file_extension": ".py",
   "mimetype": "text/x-python",
   "name": "python",
   "nbconvert_exporter": "python",
   "pygments_lexer": "ipython3",
   "version": "3.7.6"
  }
 },
 "nbformat": 4,
 "nbformat_minor": 4
}
