{
 "cells": [
  {
   "cell_type": "code",
   "execution_count": null,
   "metadata": {},
   "outputs": [],
   "source": [
    "n,k = (int(x) for x in input().split())"
   ]
  },
  {
   "cell_type": "code",
   "execution_count": null,
   "metadata": {},
   "outputs": [],
   "source": [
    "import numpy as np\n",
    "a =np.array([int(x) for x in input().split()])"
   ]
  },
  {
   "cell_type": "code",
   "execution_count": null,
   "metadata": {},
   "outputs": [],
   "source": [
    "l =[int(x) for x in input().split()]"
   ]
  },
  {
   "cell_type": "code",
   "execution_count": null,
   "metadata": {},
   "outputs": [],
   "source": [
    "a = int(input())"
   ]
  },
  {
   "cell_type": "code",
   "execution_count": null,
   "metadata": {},
   "outputs": [],
   "source": [
    "xyp = [map(int, input().split()) for _ in range(n)]\n",
    "x, y, p = [list(i) for i in zip(*xyp)]"
   ]
  },
  {
   "cell_type": "code",
   "execution_count": null,
   "metadata": {},
   "outputs": [],
   "source": [
    "import numpy as np\n",
    "s = np.array([[c for c in input().strip()] for _ in range(h)])"
   ]
  },
  {
   "cell_type": "code",
   "execution_count": null,
   "metadata": {},
   "outputs": [],
   "source": []
  },
  {
   "cell_type": "code",
   "execution_count": 2,
   "metadata": {},
   "outputs": [
    {
     "name": "stdout",
     "output_type": "stream",
     "text": [
      "codeforces\n",
      "atcoder\n",
      "6\n"
     ]
    }
   ],
   "source": [
    "s = input()\n",
    "t = input()\n",
    "min_num = len(t)\n",
    "for i in range(len(s)-len(t)+1):\n",
    "    num = 0\n",
    "    for j in range(len(t)):\n",
    "        if s[i+j] != t[j]:\n",
    "            num += 1\n",
    "    if min_num >= num:\n",
    "        min_num = num\n",
    "\n",
    "print(min_num)"
   ]
  },
  {
   "cell_type": "code",
   "execution_count": 47,
   "metadata": {},
   "outputs": [
    {
     "name": "stdout",
     "output_type": "stream",
     "text": [
      "3\n",
      "1 2 3\n",
      "11\n"
     ]
    }
   ],
   "source": [
    "n = int(input())\n",
    "a_list =[int(x) for x in input().split()]\n",
    "mod = 10**9 + 7\n",
    "\n",
    "s_list = [0]*(n+1)\n",
    "for i,a in enumerate(a_list):\n",
    "    s_list[i+1] = s_list[i]+a\n",
    "\n",
    "\n",
    "ans = 0\n",
    "for i,a in enumerate(a_list):\n",
    "    ans += a * (s_list[n]-s_list[i+1])\n",
    "    \n",
    "print(ans%mod)"
   ]
  },
  {
   "cell_type": "code",
   "execution_count": 43,
   "metadata": {},
   "outputs": [
    {
     "name": "stdout",
     "output_type": "stream",
     "text": [
      "4\n",
      "141421356 17320508 22360679 244949\n",
      "437235829\n"
     ]
    }
   ],
   "source": [
    "n = int(input())\n",
    "a =[int(x) for x in input().split()]\n",
    "#ans = 0\n",
    "ans2 = 0\n",
    "mod = 10**9 + 7\n",
    "#ans_list = []\n",
    "for index,i in enumerate(a):\n",
    "    for j in a[index+1:]:\n",
    "        ans2 = (ans2 + (i * j)%mod) % mod\n",
    "#        ans += (i *j)%mod\n",
    "#        print(ans2,ans)\n",
    "#print(ans%mod)\n",
    "print(ans2)"
   ]
  },
  {
   "cell_type": "code",
   "execution_count": null,
   "metadata": {},
   "outputs": [],
   "source": [
    "n,m = (int(x) for x in input().split())\n",
    "ab = [map(int, input().split()) for _ in range(m)]\n",
    "a,b = [list(i) for i in zip(*ab)]\n"
   ]
  },
  {
   "cell_type": "code",
   "execution_count": null,
   "metadata": {},
   "outputs": [],
   "source": [
    "n = int(input())\n",
    "a =[int(x) for x in input().split()]\n",
    "ans = 0\n",
    "for i in range(max(a),1,-1):\n",
    "    if "
   ]
  },
  {
   "cell_type": "code",
   "execution_count": 41,
   "metadata": {},
   "outputs": [
    {
     "name": "stdout",
     "output_type": "stream",
     "text": [
      "5\n",
      "4\n",
      "3\n"
     ]
    }
   ],
   "source": [
    "for i in range(5,2,-1):\n",
    "    print(i)"
   ]
  },
  {
   "cell_type": "code",
   "execution_count": null,
   "metadata": {},
   "outputs": [],
   "source": []
  }
 ],
 "metadata": {
  "kernelspec": {
   "display_name": "Python 3",
   "language": "python",
   "name": "python3"
  },
  "language_info": {
   "codemirror_mode": {
    "name": "ipython",
    "version": 3
   },
   "file_extension": ".py",
   "mimetype": "text/x-python",
   "name": "python",
   "nbconvert_exporter": "python",
   "pygments_lexer": "ipython3",
   "version": "3.7.6"
  }
 },
 "nbformat": 4,
 "nbformat_minor": 4
}
