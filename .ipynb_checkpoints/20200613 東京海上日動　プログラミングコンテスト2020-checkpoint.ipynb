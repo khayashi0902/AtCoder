{
 "cells": [
  {
   "cell_type": "code",
   "execution_count": 2,
   "metadata": {},
   "outputs": [
    {
     "name": "stdout",
     "output_type": "stream",
     "text": [
      "naohiro\n",
      "ohi\n"
     ]
    }
   ],
   "source": [
    "import random\n",
    "S = input()\n",
    "num = random.randrange(len(S)-2)\n",
    "print(S[num:num+3])"
   ]
  },
  {
   "cell_type": "code",
   "execution_count": 17,
   "metadata": {},
   "outputs": [
    {
     "name": "stdout",
     "output_type": "stream",
     "text": [
      "3 1\n",
      "1 3\n",
      "3\n",
      "NO\n"
     ]
    }
   ],
   "source": [
    "a,v=(int(x) for x in input().split())\n",
    "b,w=(int(x) for x in input().split())\n",
    "t = int(input())\n",
    "\n",
    "flag = 0\n",
    "if v > w and a<b:\n",
    "    if a+v*t >= b+w*t:\n",
    "        flag = 1\n",
    "elif v > w and a>b:\n",
    "    if a-v*t <= b-w*t:\n",
    "        flag = 1\n",
    "    \n",
    "\n",
    "if flag ==1:\n",
    "    print(\"YES\")\n",
    "else:\n",
    "    print(\"NO\")"
   ]
  },
  {
   "cell_type": "code",
   "execution_count": 37,
   "metadata": {},
   "outputs": [
    {
     "name": "stdout",
     "output_type": "stream",
     "text": [
      "5 1\n",
      "1 0 0 1 0\n",
      "1\n",
      "2\n",
      "2\n",
      "1\n",
      "2\n",
      "1 2 2 1 2\n"
     ]
    }
   ],
   "source": [
    "n,k=(int(x) for x in input().split())\n",
    "a = [int(x) for x in input().split()]\n",
    "\n",
    "def terasu(a):\n",
    "    new_a = []\n",
    "    for i in range(n):\n",
    "        count = 1\n",
    "        for j,l in enumerate(a):\n",
    "            if l > 0 and i != j:\n",
    "                if abs(j-i)<=l:\n",
    "                    count+=1\n",
    "        new_a.append(count)\n",
    "    return(new_a)\n",
    "\n",
    "for x in range(k):\n",
    "    a = terasu(a)\n",
    "print(\" \".join([str(x) for x in a]))"
   ]
  },
  {
   "cell_type": "code",
   "execution_count": 47,
   "metadata": {},
   "outputs": [
    {
     "name": "stdout",
     "output_type": "stream",
     "text": [
      "5 1\n",
      "1 0 0 1 0\n",
      "1 2 2 1 2\n"
     ]
    }
   ],
   "source": [
    "import math\n",
    "import numpy as np\n",
    "\n",
    "n,k=(int(x) for x in input().split())\n",
    "a = [int(x) for x in input().split()]\n",
    "\n",
    "for _ in range(min(k,math.log(n, 10))):\n",
    "    new_a = np.zeros(n)\n",
    "    for j,l in enumerate(a):\n",
    "        for i in range(-l,l+1):\n",
    "            if j+i >= 0 and j+i<n:\n",
    "                new_a[j+i]+=1\n",
    "    a = new_a\n",
    "\n",
    "print(\" \".join([str(x) for x in a]))"
   ]
  },
  {
   "cell_type": "code",
   "execution_count": 66,
   "metadata": {},
   "outputs": [
    {
     "name": "stdout",
     "output_type": "stream",
     "text": [
      "5 2\n",
      "1 0 0 1 0\n",
      "3 3 4 4 3\n"
     ]
    }
   ],
   "source": [
    "import collections\n",
    "\n",
    "n,k=(int(x) for x in input().split())\n",
    "a = [int(x) for x in input().split()]\n",
    "\n",
    "for x in range(k):\n",
    "    b = []\n",
    "    for i,j in enumerate(a):\n",
    "        b.extend(range(max(i-j,0),min(i+j+1,n)))\n",
    "    a = collections.Counter(b).values()\n",
    "    if len(b) == n*n:\n",
    "        break\n",
    "    \n",
    "print(\" \".join([str(x) for x in a]))"
   ]
  },
  {
   "cell_type": "code",
   "execution_count": null,
   "metadata": {},
   "outputs": [],
   "source": []
  }
 ],
 "metadata": {
  "kernelspec": {
   "display_name": "Python 3",
   "language": "python",
   "name": "python3"
  },
  "language_info": {
   "codemirror_mode": {
    "name": "ipython",
    "version": 3
   },
   "file_extension": ".py",
   "mimetype": "text/x-python",
   "name": "python",
   "nbconvert_exporter": "python",
   "pygments_lexer": "ipython3",
   "version": "3.7.6"
  }
 },
 "nbformat": 4,
 "nbformat_minor": 4
}
