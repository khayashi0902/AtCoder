{
 "cells": [
  {
   "cell_type": "code",
   "execution_count": null,
   "metadata": {},
   "outputs": [],
   "source": [
    "n,k = (int(x) for x in input().split())"
   ]
  },
  {
   "cell_type": "code",
   "execution_count": null,
   "metadata": {},
   "outputs": [],
   "source": [
    "import numpy as np\n",
    "a =np.array([int(x) for x in input().split()])"
   ]
  },
  {
   "cell_type": "code",
   "execution_count": null,
   "metadata": {},
   "outputs": [],
   "source": [
    "l =[int(x) for x in input().split()]"
   ]
  },
  {
   "cell_type": "code",
   "execution_count": null,
   "metadata": {},
   "outputs": [],
   "source": [
    "a = int(input())"
   ]
  },
  {
   "cell_type": "code",
   "execution_count": null,
   "metadata": {},
   "outputs": [],
   "source": [
    "xyp = [map(int, input().split()) for _ in range(n)]\n",
    "x, y, p = [list(i) for i in zip(*xyp)]"
   ]
  },
  {
   "cell_type": "code",
   "execution_count": null,
   "metadata": {},
   "outputs": [],
   "source": [
    "import numpy as np\n",
    "s = np.array([[c for c in input().strip()] for _ in range(h)])"
   ]
  },
  {
   "cell_type": "code",
   "execution_count": null,
   "metadata": {},
   "outputs": [],
   "source": []
  },
  {
   "cell_type": "code",
   "execution_count": 5,
   "metadata": {},
   "outputs": [
    {
     "name": "stdout",
     "output_type": "stream",
     "text": [
      "1000 1 1000\n",
      "1000000\n"
     ]
    }
   ],
   "source": [
    "import math\n",
    "n,k,t = (int(x) for x in input().split())\n",
    "print(math.ceil(n/k)*t)"
   ]
  },
  {
   "cell_type": "code",
   "execution_count": 8,
   "metadata": {},
   "outputs": [
    {
     "name": "stdout",
     "output_type": "stream",
     "text": [
      "31415926535897932384626433832795028841971693993751058209749445923078164062862089986280\n",
      "No\n"
     ]
    }
   ],
   "source": [
    "n = int(input())\n",
    "if n%9==0:\n",
    "    print(\"Yes\")\n",
    "else:\n",
    "    print(\"No\")"
   ]
  },
  {
   "cell_type": "code",
   "execution_count": 12,
   "metadata": {},
   "outputs": [
    {
     "name": "stdout",
     "output_type": "stream",
     "text": [
      "5\n",
      "3 3 3 3 3\n",
      "0\n"
     ]
    }
   ],
   "source": [
    "n = int(input())\n",
    "a =[int(x) for x in input().split()]\n",
    "num = 0\n",
    "min_num = a[0]\n",
    "for i in a[1:]:\n",
    "    if i < min_num:\n",
    "        num += min_num-i\n",
    "    else:\n",
    "        min_num = i\n",
    "print(num)"
   ]
  },
  {
   "cell_type": "code",
   "execution_count": 40,
   "metadata": {
    "scrolled": true
   },
   "outputs": [
    {
     "name": "stdout",
     "output_type": "stream",
     "text": [
      "4 4 \n",
      "1 1 \n",
      "4 4 \n",
      "..#.\n",
      "..#.\n",
      ".#..\n",
      ".#..\n",
      "[['.' '.' '#' '.']\n",
      " ['.' '.' '#' '.']\n",
      " ['.' '#' '.' '.']\n",
      " ['.' '#' '.' '.']]\n"
     ]
    }
   ],
   "source": [
    "import numpy as np\n",
    "h,w = (int(x) for x in input().split())\n",
    "ch,cw = (int(x) for x in input().split())\n",
    "dh,dw = (int(x) for x in input().split())\n",
    "s = np.array([[c for c in input().strip()] for _ in range(h)])\n",
    "\n",
    "\n"
   ]
  },
  {
   "cell_type": "code",
   "execution_count": 56,
   "metadata": {},
   "outputs": [
    {
     "name": "stdout",
     "output_type": "stream",
     "text": [
      "2 3 3\n",
      "2 2\n",
      "1 1\n",
      "2 1\n",
      "[2]\n",
      "[1]\n"
     ]
    }
   ],
   "source": [
    "import collections\n",
    "import numpy as np\n",
    "import sys\n",
    "h,w,m = (int(x) for x in input().split())\n",
    "hw = []\n",
    "for _ in range(m):\n",
    "    hw.append([int(x) for x in input().split()])\n",
    "\n",
    "np_hw = np.array(hw)\n",
    "\n",
    "c_h = collections.Counter(np_hw[:,0])\n",
    "c_w = collections.Counter(np_hw[:,1])\n",
    "\n",
    "\n",
    "max_h_list = [h_key for h_key in c_h.keys() if c_h[h_key] == c_h.most_common()[0][1]]\n",
    "max_w_list = [w_key for w_key in c_w.keys() if c_w[w_key] == c_w.most_common()[0][1]]\n",
    "# max_w_list = [cw[0] for cw in c_w.most_common() if cw[1] == c_w.most_common()[0][1]]\n",
    "\n",
    "\n",
    "ans = c_h.most_common()[0][1]+c_w.most_common()[0][1]\n",
    "for i in max_h_list:\n",
    "    for j in max_w_list:\n",
    "        if [i,j] not in hw:\n",
    "            print(ans)\n",
    "            sys.exit()\n",
    "\n",
    "ans += 1\n",
    "print(ans)"
   ]
  },
  {
   "cell_type": "code",
   "execution_count": 63,
   "metadata": {},
   "outputs": [
    {
     "name": "stdout",
     "output_type": "stream",
     "text": [
      "Counter({2: 2, 1: 1})\n",
      "dict_values([2, 1])\n",
      "dict_keys([2, 1])\n",
      "2\n"
     ]
    }
   ],
   "source": [
    "print(c_h)\n",
    "print(c_h.values())\n",
    "print(c_h.keys())\n",
    "print(c_h[2])"
   ]
  },
  {
   "cell_type": "code",
   "execution_count": 49,
   "metadata": {
    "scrolled": true
   },
   "outputs": [
    {
     "ename": "IndexError",
     "evalue": "list index out of range",
     "output_type": "error",
     "traceback": [
      "\u001b[0;31m---------------------------------------------------------------------------\u001b[0m",
      "\u001b[0;31mIndexError\u001b[0m                                Traceback (most recent call last)",
      "\u001b[0;32m<ipython-input-49-5d3b83607c27>\u001b[0m in \u001b[0;36m<module>\u001b[0;34m\u001b[0m\n\u001b[0;32m----> 1\u001b[0;31m \u001b[0mc_h\u001b[0m\u001b[0;34m.\u001b[0m\u001b[0mmost_common\u001b[0m\u001b[0;34m(\u001b[0m\u001b[0;34m)\u001b[0m\u001b[0;34m[\u001b[0m\u001b[0;36m0\u001b[0m\u001b[0;34m:\u001b[0m\u001b[0;36m1\u001b[0m\u001b[0;34m]\u001b[0m\u001b[0;34m[\u001b[0m\u001b[0;36m1\u001b[0m\u001b[0;34m]\u001b[0m\u001b[0;34m\u001b[0m\u001b[0;34m\u001b[0m\u001b[0m\n\u001b[0m",
      "\u001b[0;31mIndexError\u001b[0m: list index out of range"
     ]
    }
   ],
   "source": [
    "c_h.most_common()[0:1][1]"
   ]
  },
  {
   "cell_type": "code",
   "execution_count": null,
   "metadata": {},
   "outputs": [],
   "source": [
    "import collections\n",
    "h,w,m = (int(x) for x in input().split())\n",
    "hw = [map(int, input().split()) for _ in range(m)]\n",
    "hw_list = [list(i) for i in zip(*hw)]\n",
    "\n",
    "c_h = collections.Counter(hw_list[0])\n",
    "c_w = collections.Counter(hw_list[1])\n",
    "print(c_h.most_common()[0][0],c_w.most_common()[0][0])\n",
    "ans = c_h.most_common()[0][1]+c_w.most_common()[0][1]\n",
    "\n",
    "print(ans)"
   ]
  }
 ],
 "metadata": {
  "kernelspec": {
   "display_name": "Python 3",
   "language": "python",
   "name": "python3"
  },
  "language_info": {
   "codemirror_mode": {
    "name": "ipython",
    "version": 3
   },
   "file_extension": ".py",
   "mimetype": "text/x-python",
   "name": "python",
   "nbconvert_exporter": "python",
   "pygments_lexer": "ipython3",
   "version": "3.7.6"
  }
 },
 "nbformat": 4,
 "nbformat_minor": 4
}
