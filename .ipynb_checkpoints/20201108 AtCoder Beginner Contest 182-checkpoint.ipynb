{
 "cells": [
  {
   "cell_type": "code",
   "execution_count": null,
   "metadata": {},
   "outputs": [],
   "source": [
    "n,k = (int(x) for x in input().split())\n",
    "\n",
    "import numpy as np\n",
    "a =np.array([int(x) for x in input().split()])\n",
    "\n",
    "l =[int(x) for x in input().split()]\n",
    "\n",
    "a = int(input())\n",
    "\n",
    "xyp = [map(int, input().split()) for _ in range(n)]\n",
    "x, y, p = [list(i) for i in zip(*xyp)]\n",
    "\n",
    "import numpy as np\n",
    "s = np.array([[c for c in input().strip()] for _ in range(h)])"
   ]
  },
  {
   "cell_type": "code",
   "execution_count": null,
   "metadata": {},
   "outputs": [],
   "source": []
  },
  {
   "cell_type": "code",
   "execution_count": 2,
   "metadata": {},
   "outputs": [
    {
     "name": "stdout",
     "output_type": "stream",
     "text": [
      "200 300\n",
      "200\n"
     ]
    }
   ],
   "source": [
    "a,b = (int(x) for x in input().split())\n",
    "print(a*2+100-b)"
   ]
  },
  {
   "cell_type": "code",
   "execution_count": 3,
   "metadata": {},
   "outputs": [
    {
     "name": "stdout",
     "output_type": "stream",
     "text": [
      "3\n",
      "12 3 7\n",
      "3\n"
     ]
    }
   ],
   "source": [
    "n = int(input())\n",
    "a =[int(x) for x in input().split()]\n",
    "\n",
    "m = 0\n",
    "ans = 0\n",
    "\n",
    "for i in range(2,1001):\n",
    "    mm = 0\n",
    "    for j in a:\n",
    "        if j % i == 0:\n",
    "            mm += 1\n",
    "    if mm > m:\n",
    "        m = mm\n",
    "        ans = i\n",
    "        \n",
    "print(ans)"
   ]
  },
  {
   "cell_type": "code",
   "execution_count": 12,
   "metadata": {},
   "outputs": [
    {
     "name": "stdout",
     "output_type": "stream",
     "text": [
      "11\n",
      "-1\n"
     ]
    }
   ],
   "source": [
    "from collections import Counter\n",
    "n = input()\n",
    "if len(n) == 1:\n",
    "    if int(n) % 3 == 0:\n",
    "        print(0)\n",
    "    else:\n",
    "        print(-1)\n",
    "else:\n",
    "    n_list =[int(n[i])%3 for i in range(len(n))]\n",
    "    c = Counter(n_list)\n",
    "    if sum(n_list) % 3 == 0:\n",
    "        print(0)\n",
    "    elif sum(n_list) % 3 == 1:\n",
    "        if c[1] > 0:\n",
    "            print(1)\n",
    "        elif c[2] > 1 and len(n_list) > 2:\n",
    "            print(2)\n",
    "        else:\n",
    "            print(-1)\n",
    "    else:\n",
    "        if c[2] > 0:\n",
    "            print(1)\n",
    "        elif c[1] > 1 and len(n_list) > 2:\n",
    "            print(2)\n",
    "        else:\n",
    "            print(-1)"
   ]
  },
  {
   "cell_type": "code",
   "execution_count": 17,
   "metadata": {},
   "outputs": [
    {
     "name": "stdout",
     "output_type": "stream",
     "text": [
      "3\n",
      "1 2 3\n",
      "[]\n"
     ]
    },
    {
     "ename": "ValueError",
     "evalue": "max() arg is an empty sequence",
     "output_type": "error",
     "traceback": [
      "\u001b[0;31m---------------------------------------------------------------------------\u001b[0m",
      "\u001b[0;31mValueError\u001b[0m                                Traceback (most recent call last)",
      "\u001b[0;32m<ipython-input-17-192f259ef7b2>\u001b[0m in \u001b[0;36m<module>\u001b[0;34m\u001b[0m\n\u001b[1;32m     12\u001b[0m     \u001b[0mc\u001b[0m \u001b[0;34m=\u001b[0m \u001b[0mlist\u001b[0m\u001b[0;34m(\u001b[0m\u001b[0maccumulate\u001b[0m\u001b[0;34m(\u001b[0m\u001b[0ma\u001b[0m\u001b[0;34m[\u001b[0m\u001b[0;34m:\u001b[0m\u001b[0mi\u001b[0m\u001b[0;34m]\u001b[0m\u001b[0;34m)\u001b[0m\u001b[0;34m)\u001b[0m\u001b[0;34m\u001b[0m\u001b[0;34m\u001b[0m\u001b[0m\n\u001b[1;32m     13\u001b[0m     \u001b[0mprint\u001b[0m\u001b[0;34m(\u001b[0m\u001b[0mc\u001b[0m\u001b[0;34m)\u001b[0m\u001b[0;34m\u001b[0m\u001b[0;34m\u001b[0m\u001b[0m\n\u001b[0;32m---> 14\u001b[0;31m     \u001b[0mmax_num\u001b[0m \u001b[0;34m=\u001b[0m \u001b[0mmax\u001b[0m\u001b[0;34m(\u001b[0m\u001b[0mc\u001b[0m\u001b[0;34m)\u001b[0m\u001b[0;34m\u001b[0m\u001b[0;34m\u001b[0m\u001b[0m\n\u001b[0m\u001b[1;32m     15\u001b[0m     \u001b[0;32mif\u001b[0m \u001b[0mnum\u001b[0m \u001b[0;34m+\u001b[0m \u001b[0mmax_num\u001b[0m \u001b[0;34m>\u001b[0m \u001b[0mans\u001b[0m\u001b[0;34m:\u001b[0m\u001b[0;34m\u001b[0m\u001b[0;34m\u001b[0m\u001b[0m\n\u001b[1;32m     16\u001b[0m         \u001b[0mans\u001b[0m \u001b[0;34m=\u001b[0m \u001b[0mnum\u001b[0m \u001b[0;34m+\u001b[0m \u001b[0mmax_num\u001b[0m\u001b[0;34m\u001b[0m\u001b[0;34m\u001b[0m\u001b[0m\n",
      "\u001b[0;31mValueError\u001b[0m: max() arg is an empty sequence"
     ]
    }
   ],
   "source": [
    "from itertools import accumulate\n",
    "from collections import deque\n",
    "\n",
    "n = int(input())\n",
    "a =[int(x) for x in input().split()]\n",
    "\n",
    "b = deque()\n",
    "flag = False\n",
    "ans = 0\n",
    "num = 0\n",
    "for i in range(n):\n",
    "    c = list(accumulate(a[:i+1]))\n",
    "    max_num = max(c)\n",
    "    if num + max_num > ans:\n",
    "        ans = num + max_num\n",
    "    num += c[-1]\n",
    "print(ans)"
   ]
  },
  {
   "cell_type": "code",
   "execution_count": 39,
   "metadata": {},
   "outputs": [
    {
     "name": "stdout",
     "output_type": "stream",
     "text": [
      "3 3 2 1\n",
      "1 1\n",
      "2 3\n",
      "2 2\n",
      "[[1, 1, 1], [1, -1, 1], [1, 0, 1]]\n",
      "7\n"
     ]
    }
   ],
   "source": [
    "import sys\n",
    "\n",
    "def read():\n",
    "    return sys.stdin.readline().strip()\n",
    "\n",
    "\n",
    "def main():\n",
    "    h,w,n,m = (int(x) for x in input().split())\n",
    "    l = [[0 for _ in range(w)] for _ in range(h)]\n",
    "    ab = [map(int, input().split()) for _ in range(n)]\n",
    "    a, b = [list(i) for i in zip(*ab)]\n",
    "    for _ in range(m):\n",
    "        c,d = (int(x) for x in input().split())\n",
    "        l[c-1][d-1] = -1\n",
    "\n",
    "    for i,j in zip(a,b):\n",
    "        jj = j-1\n",
    "        ii = i-1\n",
    "        if l[ii][jj] == 0:\n",
    "            l[ii][jj] = 1\n",
    "            while ii < h-1:\n",
    "                ii += 1\n",
    "                if l[ii][jj] == -1:\n",
    "                    break\n",
    "                l[ii][jj] = 1\n",
    "            ii = i-1\n",
    "            while ii > 0:\n",
    "                ii -= 1\n",
    "                if l[ii][jj] == -1:\n",
    "                    break\n",
    "                l[ii][jj] = 1\n",
    "        ii = i-1\n",
    "        if l[ii][jj] != 2:\n",
    "            l[ii][jj] = 2\n",
    "            while jj < w-1:\n",
    "                jj += 1\n",
    "                if l[ii][jj] == -1:\n",
    "                    break\n",
    "                l[ii][jj] = 2\n",
    "            jj = j-1\n",
    "            while jj > 0:\n",
    "                jj -= 1\n",
    "                if l[ii][jj] == -1:\n",
    "                    break\n",
    "                l[ii][jj] = 2\n",
    "\n",
    "    ans = 0\n",
    "    for i in l:\n",
    "        for j in i:\n",
    "            if j == 1 or j == 2:\n",
    "                  ans += 1\n",
    "    print(ans)\n",
    "    \n",
    "if __name__ == \"__main__\":\n",
    "    main()  "
   ]
  },
  {
   "cell_type": "code",
   "execution_count": 41,
   "metadata": {},
   "outputs": [
    {
     "name": "stdout",
     "output_type": "stream",
     "text": [
      "3 3 2 1\n",
      "1 1\n",
      "2 3\n",
      "2 2\n",
      "7\n"
     ]
    }
   ],
   "source": [
    "import sys\n",
    "\n",
    "def read():\n",
    "    return sys.stdin.readline().strip()\n",
    "\n",
    "\n",
    "def main():\n",
    "    h,w,n,m = (int(x) for x in read().split())\n",
    "    l = [[0 for _ in range(w)] for _ in range(h)]\n",
    "    for _ in range(n):\n",
    "        a,b = (int(x) for x in read().split())\n",
    "        l[a-1][b-1] = 1\n",
    "    for _ in range(m):\n",
    "        c,d = (int(x) for x in read().split())\n",
    "        l[c-1][d-1] = -1\n",
    "\n",
    "\n",
    "    for i in range(h):\n",
    "        light = False\n",
    "        for j in range(w):\n",
    "            if l[i][j] == -1:\n",
    "                light = False\n",
    "            elif l[i][j] == 1:\n",
    "                light = True\n",
    "            elif l[i][j] == 0 and light:\n",
    "                l[i][j] = 2\n",
    "        light = False\n",
    "        for j in range(w-1,-1,-1):\n",
    "            if l[i][j] == -1:\n",
    "                light = False\n",
    "            elif l[i][j] == 1:\n",
    "                light = True\n",
    "            elif l[i][j] == 0 and light:\n",
    "                l[i][j] = 2\n",
    "        light = False\n",
    "\n",
    "    for j in range(w):\n",
    "        for i in range(h):\n",
    "            if l[i][j] == -1:\n",
    "                light = False\n",
    "            elif l[i][j] == 1:\n",
    "                light = True\n",
    "            elif l[i][j] == 0 and light:\n",
    "                l[i][j] = 2\n",
    "        light = False\n",
    "        for i in range(h-1,-1,-1):\n",
    "            if l[i][j] == -1:\n",
    "                light = False\n",
    "            elif l[i][j] == 1:\n",
    "                light = True\n",
    "            elif l[i][j] == 0 and light:\n",
    "                l[i][j] = 2\n",
    "        light = False\n",
    "\n",
    "    ans = 0\n",
    "    for i in l:\n",
    "        for j in i:\n",
    "            if j == 1 or j == 2:\n",
    "                  ans += 1\n",
    "    print(ans)\n",
    "\n",
    "if __name__ == \"__main__\":\n",
    "    main()"
   ]
  },
  {
   "cell_type": "code",
   "execution_count": 28,
   "metadata": {},
   "outputs": [
    {
     "name": "stdout",
     "output_type": "stream",
     "text": [
      "[[11, 1, 2], [11, 1, 2], [11, 1, 2]]\n",
      "1\n"
     ]
    }
   ],
   "source": [
    "l = [[0,1,2]]*3\n",
    "l[0][0] = 11\n",
    "print(l)\n",
    "print(l[0][1])"
   ]
  },
  {
   "cell_type": "code",
   "execution_count": null,
   "metadata": {},
   "outputs": [],
   "source": []
  }
 ],
 "metadata": {
  "kernelspec": {
   "display_name": "Python 3",
   "language": "python",
   "name": "python3"
  },
  "language_info": {
   "codemirror_mode": {
    "name": "ipython",
    "version": 3
   },
   "file_extension": ".py",
   "mimetype": "text/x-python",
   "name": "python",
   "nbconvert_exporter": "python",
   "pygments_lexer": "ipython3",
   "version": "3.7.6"
  }
 },
 "nbformat": 4,
 "nbformat_minor": 4
}
