{
 "cells": [
  {
   "cell_type": "code",
   "execution_count": null,
   "metadata": {},
   "outputs": [],
   "source": [
    "n,k = (int(x) for x in input().split())\n",
    "\n",
    "import numpy as np\n",
    "a =np.array([int(x) for x in input().split()])\n",
    "\n",
    "l =[int(x) for x in input().split()]\n",
    "\n",
    "a = int(input())\n",
    "\n",
    "xyp = [map(int, input().split()) for _ in range(n)]\n",
    "x, y, p = [list(i) for i in zip(*xyp)]\n",
    "\n",
    "import numpy as np\n",
    "s = np.array([[c for c in input().strip()] for _ in range(h)])\n",
    "\n",
    "cd = [tuple(map(int, input().split())) for _ in range(k)]"
   ]
  },
  {
   "cell_type": "code",
   "execution_count": 1,
   "metadata": {},
   "outputs": [
    {
     "name": "stdout",
     "output_type": "stream",
     "text": [
      "5 3 7 11\n",
      "3\n"
     ]
    }
   ],
   "source": [
    "a =[int(x) for x in input().split()]\n",
    "print(min(a))"
   ]
  },
  {
   "cell_type": "code",
   "execution_count": null,
   "metadata": {},
   "outputs": [],
   "source": [
    "n,m,t = (int(x) for x in input().split())\n",
    "xyp = [map(int, input().split()) for _ in range(m)]\n",
    "a,b = [list(i) for i in zip(*xyp)]\n",
    "time = 0\n",
    "battery = n\n",
    "for i in range(m):\n",
    "    battery -= a[i]-time\n",
    "    if battery <= 0:\n",
    "        print(\"No\")\n",
    "        exit()\n",
    "    battery += b[i]-a[i]\n",
    "    if battery > n:\n",
    "        battery = n\n",
    "    time = b[i]\n",
    "battery -= t-time\n",
    "if battery <= 0:\n",
    "    print(\"No\")\n",
    "else:\n",
    "    print(\"Yes\")"
   ]
  },
  {
   "cell_type": "code",
   "execution_count": 5,
   "metadata": {},
   "outputs": [
    {
     "name": "stdout",
     "output_type": "stream",
     "text": [
      "12\n",
      "1\n"
     ]
    }
   ],
   "source": [
    "from scipy.special import comb\n",
    "l = int(input())\n",
    "base = comb(l-1, 11, exact=True)\n",
    "print(base)"
   ]
  },
  {
   "cell_type": "code",
   "execution_count": 24,
   "metadata": {},
   "outputs": [
    {
     "name": "stdout",
     "output_type": "stream",
     "text": [
      "13 3\n",
      "13 3 9\n",
      "2\n",
      "[5 3 2]\n",
      "6\n"
     ]
    }
   ],
   "source": [
    "import numpy as np\n",
    "import math\n",
    "n,m = (int(x) for x in input().split())\n",
    "if m == 0:\n",
    "    print(1)\n",
    "    exit()\n",
    "a =np.array([int(x) for x in input().split()])\n",
    "sorted_a = np.sort(a)\n",
    "diff = np.diff(sorted_a)-1\n",
    "diff = np.append(diff,[sorted_a[0]-1,n-sorted_a[-1]])\n",
    "diff = diff[diff > 0]\n",
    "if len(diff) == 0:\n",
    "    print(0)\n",
    "    exit()\n",
    "min_num = np.amin(diff)\n",
    "# print(min_num)\n",
    "# print(diff)\n",
    "print(sum([math.ceil(i/min_num) for i in diff]))"
   ]
  },
  {
   "cell_type": "code",
   "execution_count": null,
   "metadata": {},
   "outputs": [],
   "source": []
  }
 ],
 "metadata": {
  "kernelspec": {
   "display_name": "Python 3",
   "language": "python",
   "name": "python3"
  },
  "language_info": {
   "codemirror_mode": {
    "name": "ipython",
    "version": 3
   },
   "file_extension": ".py",
   "mimetype": "text/x-python",
   "name": "python",
   "nbconvert_exporter": "python",
   "pygments_lexer": "ipython3",
   "version": "3.7.6"
  }
 },
 "nbformat": 4,
 "nbformat_minor": 4
}
