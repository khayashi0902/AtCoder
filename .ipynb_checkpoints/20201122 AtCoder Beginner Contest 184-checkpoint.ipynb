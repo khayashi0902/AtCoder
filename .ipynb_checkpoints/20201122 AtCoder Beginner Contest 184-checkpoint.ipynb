{
 "cells": [
  {
   "cell_type": "code",
   "execution_count": null,
   "metadata": {},
   "outputs": [],
   "source": [
    "n,k = (int(x) for x in input().split())\n",
    "\n",
    "import numpy as np\n",
    "a =np.array([int(x) for x in input().split()])\n",
    "\n",
    "l =[int(x) for x in input().split()]\n",
    "\n",
    "a = int(input())\n",
    "\n",
    "xyp = [map(int, input().split()) for _ in range(n)]\n",
    "x, y, p = [list(i) for i in zip(*xyp)]\n",
    "\n",
    "import numpy as np\n",
    "s = np.array([[c for c in input().strip()] for _ in range(h)])"
   ]
  },
  {
   "cell_type": "code",
   "execution_count": null,
   "metadata": {},
   "outputs": [],
   "source": []
  },
  {
   "cell_type": "code",
   "execution_count": 3,
   "metadata": {
    "scrolled": true
   },
   "outputs": [
    {
     "name": "stdout",
     "output_type": "stream",
     "text": [
      "100 100\n",
      "100 100\n",
      "0\n"
     ]
    }
   ],
   "source": [
    "a,b = (int(x) for x in input().split())\n",
    "c,d = (int(x) for x in input().split())\n",
    "\n",
    "print(a*d-b*c)"
   ]
  },
  {
   "cell_type": "code",
   "execution_count": null,
   "metadata": {},
   "outputs": [],
   "source": [
    "n,x = (int(x) for x in input().split())\n",
    "s = input()\n",
    "for i in len(s):\n",
    "    if s[i]==\"o\":\n",
    "        x += 1\n",
    "    elif x > 0:\n",
    "        x -= 1\n",
    "print(x)"
   ]
  },
  {
   "cell_type": "code",
   "execution_count": 10,
   "metadata": {},
   "outputs": [
    {
     "name": "stdout",
     "output_type": "stream",
     "text": [
      "1 1\n",
      "1 1\n",
      "0\n"
     ]
    }
   ],
   "source": [
    "r1,c1 = (int(x) for x in input().split())\n",
    "r2,c2 = (int(x) for x in input().split())\n",
    "\n",
    "r = r2-r1\n",
    "c = c2-c1\n",
    "if r1==r2 and c1==c2:\n",
    "    print(0)\n",
    "elif r-c == 0 or r+c == 0 or abs(r)+abs(c) <= 3:\n",
    "    print(1)\n",
    "else:\n",
    "    if abs(r-c)%2==0 or abs(r+c)%2==0:\n",
    "        print(2)\n",
    "    else:\n",
    "        if abs(r-c)<=3 or abs(r+c)<=3:\n",
    "            print(2)\n",
    "        else:\n",
    "            print(3)"
   ]
  },
  {
   "cell_type": "code",
   "execution_count": 49,
   "metadata": {},
   "outputs": [
    {
     "name": "stdout",
     "output_type": "stream",
     "text": [
      "99 99 98\n",
      "min_num : 1\n",
      "sum_num : 296\n",
      "max_num : 2\n",
      "mid_num : 1\n",
      "mid_num2 : 2\n",
      "b\n",
      "1 0.668918918918919\n",
      "c\n",
      "2 39006.11036036036\n",
      "1.7770270270270272\n"
     ]
    }
   ],
   "source": [
    "import math\n",
    "a = [int(x) for x in input().split()]\n",
    "a.sort()\n",
    "min_num = 100-a[2]\n",
    "print(f\"min_num : {min_num}\")\n",
    "sum_num = sum(a)\n",
    "print(f\"sum_num : {sum_num}\")\n",
    "max_num = 300-sum_num-2\n",
    "print(f\"max_num : {max_num}\")\n",
    "mid_num = 100-a[1]\n",
    "print(f\"mid_num : {mid_num}\")\n",
    "mid_num2 = 100-a[0]\n",
    "print(f\"mid_num2 : {mid_num2}\")\n",
    "def permutations_count(n, r):\n",
    "    return math.factorial(n) // math.factorial(n - r)\n",
    "\n",
    "p = 0\n",
    "permutations_99_min = permutations_count(99,min_num)\n",
    "permutations_99_mid1 = permutations_count(99,mid_num)\n",
    "permutations_99_mid2 = permutations_count(99,mid_num2)\n",
    "\n",
    "bunbo = 1\n",
    "for i in range(min_num,mid_num):#cのみが到達する可能性がある回数\n",
    "    bunbo *= (sum_num+(i-min_num))\n",
    "    p += i*(permutations_99_min*permutations_count(a[0]+a[1],i-min_num))/bunbo\n",
    "for i in range(mid_num,mid_num2):#b,cが到達する可能性がある回数\n",
    "    bunbo *= (sum_num+(i-min_num))\n",
    "    print(\"b\")\n",
    "    print(i,(permutations_99_min*permutations_count(a[0]+a[1],i-min_num)+(permutations_99_mid1*permutations_count(a[0]+a[2],i-mid_num)))/bunbo)\n",
    "    p += i*(permutations_99_min*permutations_count(a[0]+a[1],i-min_num)+(permutations_99_mid1*permutations_count(a[0]+a[2],i-mid_num)))/bunbo\n",
    "for i in range(mid_num2,max_num+1):#a,b,cが到達する可能性がある回数\n",
    "    bunbo *= (sum_num+(i-min_num))\n",
    "    print(\"c\")\n",
    "    print(i,(permutations_99_min*permutations_count(a[0]+a[1],i-min_num))+(permutations_99_mid1*permutations_count(a[0]+a[2],i-mid_num))+(permutations_99_mid2*permutations_count(a[1]+a[2],i-mid_num2))/bunbo)\n",
    "    p += i*((permutations_99_min*permutations_count(a[0]+a[1],i-min_num))+(permutations_99_mid1*permutations_count(a[0]+a[2],i-mid_num))+(permutations_99_mid2*permutations_count(a[1]+a[2],i-mid_num2)))/bunbo\n",
    "        \n",
    "print(p)"
   ]
  },
  {
   "cell_type": "code",
   "execution_count": 59,
   "metadata": {},
   "outputs": [
    {
     "name": "stdout",
     "output_type": "stream",
     "text": [
      "99 99 98\n",
      "min_num : 1\n",
      "sum_num : 296\n",
      "max_num : 2\n",
      "mid_num : 1\n",
      "mid_num2 : 2\n",
      "i : 1 bunbo:296\n",
      "b 0.3344594594594595\n",
      "c 0.3344594594594595\n",
      "i : 2 bunbo:87912\n",
      "a 0.11036036036036036\n",
      "b 0.22184684684684686\n",
      "c 0.22184684684684686\n",
      "1.7770270270270272\n"
     ]
    }
   ],
   "source": [
    "import math\n",
    "a = [int(x) for x in input().split()]\n",
    "a.sort()\n",
    "min_num = 100-a[2]\n",
    "print(f\"min_num : {min_num}\")\n",
    "sum_num = sum(a)\n",
    "print(f\"sum_num : {sum_num}\")\n",
    "max_num = 300-sum_num-2\n",
    "print(f\"max_num : {max_num}\")\n",
    "mid_num = 100-a[1]\n",
    "print(f\"mid_num : {mid_num}\")\n",
    "mid_num2 = 100-a[0]\n",
    "print(f\"mid_num2 : {mid_num2}\")\n",
    "def permutations_count(n, r):\n",
    "    if n < r :\n",
    "        return 0\n",
    "    else:\n",
    "        return math.factorial(n) // math.factorial(n - r)\n",
    "\n",
    "p = 0\n",
    "permutations_99_min = permutations_count(99,min_num)\n",
    "permutations_99_mid1 = permutations_count(99,mid_num)\n",
    "permutations_99_mid2 = permutations_count(99,mid_num2)\n",
    "\n",
    "bunbo = 1\n",
    "for i in range(min_num,max_num+1):\n",
    "    bunbo *= (sum_num+(i-min_num))\n",
    "    pp = 0\n",
    "    print(f\"i : {i} bunbo:{bunbo}\")\n",
    "    if i >= mid_num2:\n",
    "        pp += permutations_99_mid2*permutations_count(a[1]+a[2],i-mid_num2)\n",
    "        print(f\"a {(permutations_99_mid2*permutations_count(a[1]+a[2],i-mid_num2))/bunbo}\")\n",
    "    if i >= mid_num:\n",
    "        pp += permutations_99_mid1*permutations_count(a[0]+a[2],i-mid_num)\n",
    "        print(f\"b {(permutations_99_mid1*permutations_count(a[0]+a[2],i-mid_num))/bunbo}\")\n",
    "    if i >= min_num:\n",
    "        pp += permutations_99_min*permutations_count(a[0]+a[1],i-min_num)\n",
    "        print(f\"c {(permutations_99_min*permutations_count(a[0]+a[1],i-min_num))/bunbo}\")\n",
    "    p += pp*i/bunbo\n",
    "        \n",
    "print(p)"
   ]
  },
  {
   "cell_type": "code",
   "execution_count": 65,
   "metadata": {},
   "outputs": [
    {
     "name": "stdout",
     "output_type": "stream",
     "text": [
      "31 41 59\n",
      "91.83500820215887\n"
     ]
    }
   ],
   "source": [
    "a,b,c = (int(x) for x in input().split())\n",
    "dp = [[[0]*101 for i in range(101)] for j in range(101)]\n",
    "\n",
    "def f(a,b,c):\n",
    "    if dp[a][b][c]!= 0:\n",
    "        return dp[a][b][c]\n",
    "    elif a == 100 or b == 100 or c == 100:\n",
    "        return 0\n",
    "    else:\n",
    "        dp[a][b][c] += (a*(f(a+1,b,c)+1)+b*(f(a,b+1,c)+1)+c*(f(a,b,c+1)+1))/(a+b+c)\n",
    "        return dp[a][b][c]\n",
    "        \n",
    "print(f(a,b,c))"
   ]
  },
  {
   "cell_type": "code",
   "execution_count": null,
   "metadata": {},
   "outputs": [],
   "source": []
  }
 ],
 "metadata": {
  "kernelspec": {
   "display_name": "Python 3",
   "language": "python",
   "name": "python3"
  },
  "language_info": {
   "codemirror_mode": {
    "name": "ipython",
    "version": 3
   },
   "file_extension": ".py",
   "mimetype": "text/x-python",
   "name": "python",
   "nbconvert_exporter": "python",
   "pygments_lexer": "ipython3",
   "version": "3.7.6"
  }
 },
 "nbformat": 4,
 "nbformat_minor": 4
}
