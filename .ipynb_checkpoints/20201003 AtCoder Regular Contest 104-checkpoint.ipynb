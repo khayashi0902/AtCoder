{
 "cells": [
  {
   "cell_type": "code",
   "execution_count": null,
   "metadata": {},
   "outputs": [],
   "source": [
    "n,k = (int(x) for x in input().split())\n",
    "\n",
    "import numpy as np\n",
    "a =np.array([int(x) for x in input().split()])\n",
    "\n",
    "l =[int(x) for x in input().split()]\n",
    "\n",
    "a = int(input())\n",
    "\n",
    "xyp = [map(int, input().split()) for _ in range(n)]\n",
    "x, y, p = [list(i) for i in zip(*xyp)]\n",
    "\n",
    "import numpy as np\n",
    "s = np.array([[c for c in input().strip()] for _ in range(h)])"
   ]
  },
  {
   "cell_type": "code",
   "execution_count": null,
   "metadata": {},
   "outputs": [],
   "source": []
  },
  {
   "cell_type": "code",
   "execution_count": 12,
   "metadata": {},
   "outputs": [
    {
     "name": "stdout",
     "output_type": "stream",
     "text": [
      "6 AAATTT\n",
      "3\n"
     ]
    }
   ],
   "source": [
    "n,s = input().split()\n",
    "n = int(n)\n",
    "s_num = [0]\n",
    "\n",
    "for i in range(n):\n",
    "    if s[i] == 'A':\n",
    "        s_num.append(s_num[-1]+0)\n",
    "    elif s[i] == 'T':\n",
    "        s_num.append(s_num[-1]+3)\n",
    "    elif s[i] == 'C':\n",
    "        s_num.append(s_num[-1]+1)\n",
    "    else:\n",
    "        s_num.append(s_num[-1]+2)\n",
    "\n",
    "count = 0\n",
    "for i in range(n-1):\n",
    "    if s_num[i]+s_num[i+1] == 3:\n",
    "        count += 1\n",
    "        j = 1\n",
    "        while i-j>=0 and i+j+1<n:\n",
    "            if s_num[i-j] + s_num[i+j+1] !=3:\n",
    "                break\n",
    "            count += 1\n",
    "            j += 1\n",
    "            \n",
    "print(count)"
   ]
  },
  {
   "cell_type": "code",
   "execution_count": 31,
   "metadata": {},
   "outputs": [
    {
     "name": "stdout",
     "output_type": "stream",
     "text": [
      "4 ATAT\n",
      "4\n"
     ]
    }
   ],
   "source": [
    "#import random\n",
    "n = 5000\n",
    "#s = str()\n",
    "#atgc = [\"A\",\"T\",\"G\",\"C\"]\n",
    "#for i in range(n):\n",
    "#  s+=random.choice(atgc)\n",
    "s = \"AT\"*(2500)\n",
    "#n,s = input().split()\n",
    "#n = int(n)\n",
    "a_t = 0\n",
    "c_g = 0\n",
    "count = 0\n",
    "for i in range(n-1):\n",
    "    if s[i:i+2] == \"AA\":\n",
    "        a_t += 2\n",
    "    elif s[i:i+2] == \"TT\":\n",
    "        a_t -= 2\n",
    "    elif s[i:i+2] == \"CC\":\n",
    "        c_g += 2\n",
    "    elif s[i:i+2] == \"GG\":\n",
    "        c_g -= 2\n",
    "    elif s[i:i+2] == \"AC\" or s[i:i+2] == \"CA\":\n",
    "        a_t += 1\n",
    "        c_g += 1\n",
    "    elif s[i:i+2] == \"AG\" or s[i:i+2] == \"GA\":\n",
    "        a_t += 1\n",
    "        c_g -= 1\n",
    "    elif s[i:i+2] == \"TC\" or s[i:i+2] == \"CT\":\n",
    "        a_t -= 1\n",
    "        c_g += 1\n",
    "    elif s[i:i+2] == \"TG\" or s[i:i+2] == \"GT\":\n",
    "        a_t -= 1\n",
    "        c_g -= 1\n",
    "    if a_t == 0 and c_g == 0:\n",
    "        a_t = 0\n",
    "        c_g = 0\n",
    "        count += 1\n",
    "    while i+4 <= n:\n",
    "        i += 2\n",
    "        if s[i:i+2] == \"AA\":\n",
    "            a_t += 2\n",
    "        elif s[i:i+2] == \"TT\":\n",
    "            a_t -= 2\n",
    "        elif s[i:i+2] == \"CC\":\n",
    "            c_g += 2\n",
    "        elif s[i:i+2] == \"GG\":\n",
    "            c_g -= 2\n",
    "        elif s[i:i+2] == \"AC\" or s[i:i+2] == \"CA\":\n",
    "            a_t += 1\n",
    "            c_g += 1\n",
    "        elif s[i:i+2] == \"AG\" or s[i:i+2] == \"GA\":\n",
    "            a_t += 1\n",
    "            c_g -= 1\n",
    "        elif s[i:i+2] == \"TC\" or s[i:i+2] == \"CT\":\n",
    "            a_t -= 1\n",
    "            c_g += 1\n",
    "        elif s[i:i+2] == \"TG\" or s[i:i+2] == \"GT\":\n",
    "            a_t -= 1\n",
    "            c_g -= 1\n",
    "        if a_t == 0 and c_g == 0:\n",
    "            a_t = 0\n",
    "            c_g = 0\n",
    "            count += 1\n",
    "\n",
    "print(count)"
   ]
  },
  {
   "cell_type": "code",
   "execution_count": null,
   "metadata": {},
   "outputs": [],
   "source": [
    "if s[i:i+2] == \"AA\":\n",
    "    a_t += 2\n",
    "elif s[i:i+2] == \"TT\":\n",
    "    a_t -= 2\n",
    "elif s[i:i+2] == \"CC\":\n",
    "    c_g += 2\n",
    "elif s[i:i+2] == \"GG\":\n",
    "    c_g -= 2\n",
    "elif s[i:i+2] == \"AC\" or s[i:i+2] == \"CA\":\n",
    "    a_t += 1\n",
    "    c_g += 1\n",
    "elif s[i:i+2] == \"AG\" or s[i:i+2] == \"GA\":\n",
    "    a_t += 1\n",
    "    c_g -= 1\n",
    "elif s[i:i+2] == \"TC\" or s[i:i+2] == \"CT\":\n",
    "    a_t -= 1\n",
    "    c_g += 1\n",
    "elif s[i:i+2] == \"TG\" or s[i:i+2] == \"GT\":\n",
    "    a_t -= 1\n",
    "    c_g -= 1"
   ]
  },
  {
   "cell_type": "code",
   "execution_count": 26,
   "metadata": {},
   "outputs": [
    {
     "name": "stdout",
     "output_type": "stream",
     "text": [
      "2\n"
     ]
    }
   ],
   "source": [
    "s = \"A\"*2 + \"T\"*2\n",
    "i = 0\n",
    "print(s[i:i+2].count(\"A\")-s[i:i+2].count(\"T\"))"
   ]
  },
  {
   "cell_type": "code",
   "execution_count": 24,
   "metadata": {},
   "outputs": [
    {
     "name": "stdout",
     "output_type": "stream",
     "text": [
      "0033\n",
      "3\n"
     ]
    }
   ],
   "source": [
    "s = \"AATT\"\n",
    "\n",
    "s = s.translate(str.maketrans({'A': '0', 'T': '3', 'C': '1', 'G': '2'}))\n",
    "print(s)\n",
    "print(int(s[0]+s[3]))"
   ]
  },
  {
   "cell_type": "code",
   "execution_count": null,
   "metadata": {},
   "outputs": [],
   "source": [
    "#import random\n",
    "n = 5000\n",
    "#s = str()\n",
    "#atgc = [\"A\",\"T\",\"G\",\"C\"]\n",
    "#for i in range(n):\n",
    "#  s+=random.choice(atgc)\n",
    "s = \"AT\"*(2500)\n",
    "#n,s = input().split()\n",
    "#n = int(n)\n",
    "\n",
    "s_num = []\n",
    "\n",
    "for i in range(n):\n",
    "    if s[i] == 'A':\n",
    "        s_num.append([1,0])\n",
    "    elif s[i] == 'T':\n",
    "        s_num.append([-1,0])\n",
    "    elif s[i] == 'C':\n",
    "        s_num.append([0,1])\n",
    "    else:\n",
    "        s_num.append([0,-1])\n",
    "\n",
    "count = 0\n",
    "def count_ans(a_t,c_g,count,i):\n",
    "    for j in range(2):\n",
    "        a_t += s_num[i+j][0]\n",
    "        c_g += s_num[i+j][1]\n",
    "    if a_t == 0 and c_g == 0:\n",
    "        a_t = 0\n",
    "        c_g = 0\n",
    "        count += 1\n",
    "    return count,a_t,c_g\n",
    "\n",
    "for i in range(n-1):\n",
    "    a_t,c_g = 0,0\n",
    "    count,a_t,c_g = count_ans(a_t,c_g,count,i)\n",
    "    while i+4 <= n:\n",
    "        i += 2\n",
    "        count,a_t,c_g = count_ans(a_t,c_g,count,i)\n",
    "\n",
    "print(count)"
   ]
  },
  {
   "cell_type": "code",
   "execution_count": null,
   "metadata": {},
   "outputs": [],
   "source": [
    "from itertools import accumulate\n",
    "from collections import Counter\n",
    "n,s = input().split()\n",
    "n = int(n)\n",
    "\n",
    "s_num = []\n",
    "for i in range(n):\n",
    "    if s[i] == 'A':\n",
    "        s_num.append(1)\n",
    "    elif s[i] == 'T':\n",
    "        s_num.append(-1)\n",
    "    elif s[i] == 'C':\n",
    "        s_num.append(10000)\n",
    "    else:\n",
    "        s_num.append(-10000)\n",
    "\n",
    "count = 0\n",
    "\n",
    "R = [0] + list(accumulate(s_num))\n",
    "C = Counter(R)\n",
    "for v in C.values():\n",
    "    if v >= 2:\n",
    "\t    count += v * (v-1) // 2\n",
    "\n",
    "print(count)"
   ]
  }
 ],
 "metadata": {
  "kernelspec": {
   "display_name": "Python 3",
   "language": "python",
   "name": "python3"
  },
  "language_info": {
   "codemirror_mode": {
    "name": "ipython",
    "version": 3
   },
   "file_extension": ".py",
   "mimetype": "text/x-python",
   "name": "python",
   "nbconvert_exporter": "python",
   "pygments_lexer": "ipython3",
   "version": "3.7.6"
  }
 },
 "nbformat": 4,
 "nbformat_minor": 4
}
